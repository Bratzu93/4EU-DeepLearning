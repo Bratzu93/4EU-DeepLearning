{
  "cells": [
    {
      "cell_type": "markdown",
      "metadata": {
        "id": "view-in-github",
        "colab_type": "text"
      },
      "source": [
        "<a href=\"https://colab.research.google.com/github/Bratzu93/4EU-DeepLearning/blob/main/Week_05/seq_analysis.ipynb\" target=\"_parent\"><img src=\"https://colab.research.google.com/assets/colab-badge.svg\" alt=\"Open In Colab\"/></a>"
      ]
    },
    {
      "cell_type": "markdown",
      "id": "j5zATIOM_YDe",
      "metadata": {
        "id": "j5zATIOM_YDe"
      },
      "source": [
        "## Preliminary operations\n",
        "\n",
        "We will use [PyTorch](https://pytorch.org/) for our experiments. This package is already installed if you are using [Google colab](https://colab.research.google.com), a notebook-like system for running jupyter notebooks on virtual machines provisioned for free on the cloud. This has several advantages, and specifically allows us to use a GPU, though with some time limitations, and it requires an active Google account. In the rest of the notebook, it is expected that running is done on colab, although everything should execute smoothly also in other environments, provided that all packages have been installed (you can download a `requirements.txt.` file from the course Web site in order to automatically perform this installation on a local machine via `pip`). However, be aware that running this code on a machine not equipped with a GPU is likely to require a huge time in order to complete.\n",
        "\n",
        "Let's check that the virtual machine we are using comes with a GPU: if you have opened this notebook in colab, look in the upper-right part of the browser content, right below your google avatar: if you see this"
      ]
    },
    {
      "cell_type": "markdown",
      "id": "Iup8QPXNAnmQ",
      "metadata": {
        "id": "Iup8QPXNAnmQ"
      },
      "source": [
        "![image.png](data:image/png;base64,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)"
      ]
    },
    {
      "cell_type": "markdown",
      "id": "2d8814krBtDb",
      "metadata": {
        "id": "2d8814krBtDb"
      },
      "source": [
        "you are good to go: your machine has a GPU. In all other cases, use the *Runtime/Change runtime type* menu item and select any available runtime featuring a GPU. If none is made available to you, this means that you have exceeded the time limits allowed for the free use of colab. Otherwise, you should now see the above shown graphics in the upper-right part of your screen.\n",
        "\n",
        "As a first operation, let's import the pyTorch library and use it to double-check the GPU availability."
      ]
    },
    {
      "cell_type": "code",
      "execution_count": null,
      "id": "vS5qIZAA-aet",
      "metadata": {
        "id": "vS5qIZAA-aet",
        "outputId": "88ca804a-40f2-48c1-bdc9-bf6ab76aa954",
        "colab": {
          "base_uri": "https://localhost:8080/"
        }
      },
      "outputs": [
        {
          "output_type": "stream",
          "name": "stdout",
          "text": [
            "pytorch version: 2.2.1+cu121\n",
            "1 GPU available\n"
          ]
        }
      ],
      "source": [
        "import torch\n",
        "\n",
        "print(f'pytorch version: {torch.__version__}')\n",
        "\n",
        "num_gpu = torch.cuda.device_count()\n",
        "print(f'{num_gpu} GPU available')"
      ]
    },
    {
      "cell_type": "markdown",
      "id": "-WFYLUKZTDK3",
      "metadata": {
        "id": "-WFYLUKZTDK3"
      },
      "source": [
        "Indeed, we have a GPU. Note that the pytorch version is made up of two elements, separated by a «plus» symbol: on the left, you find the version of the software, while on the right there is the CUDA version (CUDA is the name of the API framework used by the GPU). If you want to find out some more detail about the GPU, you can run the following cell (note that the exclamation mark implies that the cell is executed as a bash command)."
      ]
    },
    {
      "cell_type": "code",
      "source": [
        "!nvidia-smi"
      ],
      "metadata": {
        "id": "Mlu1-zaE_ERs",
        "outputId": "afc321a8-ea63-4729-d035-26f440fbec48",
        "colab": {
          "base_uri": "https://localhost:8080/"
        }
      },
      "id": "Mlu1-zaE_ERs",
      "execution_count": null,
      "outputs": [
        {
          "output_type": "stream",
          "name": "stdout",
          "text": [
            "Thu Apr 11 07:29:07 2024       \n",
            "+---------------------------------------------------------------------------------------+\n",
            "| NVIDIA-SMI 535.104.05             Driver Version: 535.104.05   CUDA Version: 12.2     |\n",
            "|-----------------------------------------+----------------------+----------------------+\n",
            "| GPU  Name                 Persistence-M | Bus-Id        Disp.A | Volatile Uncorr. ECC |\n",
            "| Fan  Temp   Perf          Pwr:Usage/Cap |         Memory-Usage | GPU-Util  Compute M. |\n",
            "|                                         |                      |               MIG M. |\n",
            "|=========================================+======================+======================|\n",
            "|   0  Tesla T4                       Off | 00000000:00:04.0 Off |                    0 |\n",
            "| N/A   61C    P8              11W /  70W |      0MiB / 15360MiB |      0%      Default |\n",
            "|                                         |                      |                  N/A |\n",
            "+-----------------------------------------+----------------------+----------------------+\n",
            "                                                                                         \n",
            "+---------------------------------------------------------------------------------------+\n",
            "| Processes:                                                                            |\n",
            "|  GPU   GI   CI        PID   Type   Process name                            GPU Memory |\n",
            "|        ID   ID                                                             Usage      |\n",
            "|=======================================================================================|\n",
            "|  No running processes found                                                           |\n",
            "+---------------------------------------------------------------------------------------+\n"
          ]
        }
      ]
    },
    {
      "cell_type": "markdown",
      "id": "YICNaHevrt4z",
      "metadata": {
        "id": "YICNaHevrt4z"
      },
      "source": [
        "### Next"
      ]
    },
    {
      "cell_type": "markdown",
      "id": "tOjR3WWbWMA0",
      "metadata": {
        "id": "tOjR3WWbWMA0"
      },
      "source": [
        "We'll need to install some packages which are not automatically provided in colab."
      ]
    },
    {
      "cell_type": "code",
      "execution_count": null,
      "id": "90lYXQbZVvGr",
      "metadata": {
        "id": "90lYXQbZVvGr",
        "outputId": "0c721d13-00bb-4741-c15e-40639ff046d1",
        "colab": {
          "base_uri": "https://localhost:8080/"
        }
      },
      "outputs": [
        {
          "output_type": "stream",
          "name": "stdout",
          "text": [
            "\u001b[2K     \u001b[90m━━━━━━━━━━━━━━━━━━━━━━━━━━━━━━━━━━━━━━━━\u001b[0m \u001b[32m510.5/510.5 kB\u001b[0m \u001b[31m3.0 MB/s\u001b[0m eta \u001b[36m0:00:00\u001b[0m\n",
            "\u001b[2K     \u001b[90m━━━━━━━━━━━━━━━━━━━━━━━━━━━━━━━━━━━━━━━━\u001b[0m \u001b[32m85.7/85.7 kB\u001b[0m \u001b[31m6.6 MB/s\u001b[0m eta \u001b[36m0:00:00\u001b[0m\n",
            "\u001b[2K     \u001b[90m━━━━━━━━━━━━━━━━━━━━━━━━━━━━━━━━━━━━━━━━\u001b[0m \u001b[32m106.6/106.6 kB\u001b[0m \u001b[31m10.0 MB/s\u001b[0m eta \u001b[36m0:00:00\u001b[0m\n",
            "\u001b[?25h  Preparing metadata (setup.py) ... \u001b[?25l\u001b[?25hdone\n",
            "\u001b[2K     \u001b[90m━━━━━━━━━━━━━━━━━━━━━━━━━━━━━━━━━━━━━━━━\u001b[0m \u001b[32m116.3/116.3 kB\u001b[0m \u001b[31m11.7 MB/s\u001b[0m eta \u001b[36m0:00:00\u001b[0m\n",
            "\u001b[2K     \u001b[90m━━━━━━━━━━━━━━━━━━━━━━━━━━━━━━━━━━━━━━━━\u001b[0m \u001b[32m194.1/194.1 kB\u001b[0m \u001b[31m17.1 MB/s\u001b[0m eta \u001b[36m0:00:00\u001b[0m\n",
            "\u001b[2K     \u001b[90m━━━━━━━━━━━━━━━━━━━━━━━━━━━━━━━━━━━━━━━━\u001b[0m \u001b[32m134.8/134.8 kB\u001b[0m \u001b[31m12.8 MB/s\u001b[0m eta \u001b[36m0:00:00\u001b[0m\n",
            "\u001b[2K     \u001b[90m━━━━━━━━━━━━━━━━━━━━━━━━━━━━━━━━━━━━━━━━\u001b[0m \u001b[32m56.8/56.8 kB\u001b[0m \u001b[31m5.8 MB/s\u001b[0m eta \u001b[36m0:00:00\u001b[0m\n",
            "\u001b[2K     \u001b[90m━━━━━━━━━━━━━━━━━━━━━━━━━━━━━━━━━━━━━━━━\u001b[0m \u001b[32m297.4/297.4 kB\u001b[0m \u001b[31m23.3 MB/s\u001b[0m eta \u001b[36m0:00:00\u001b[0m\n",
            "\u001b[?25h  Building wheel for rouge_score (setup.py) ... \u001b[?25l\u001b[?25hdone\n"
          ]
        }
      ],
      "source": [
        "!pip install -q datasets umap-learn transformers[torch] sacrebleu nltk rouge_score"
      ]
    },
    {
      "cell_type": "markdown",
      "id": "fenY3tWEpA2B",
      "metadata": {
        "id": "fenY3tWEpA2B"
      },
      "source": [
        "The first part of this practical part involves the generation of text using RNNs, thus we need some text to train the generator: we will use a corpus of Shakespeare's works."
      ]
    },
    {
      "cell_type": "code",
      "execution_count": null,
      "id": "PfC8AaHrgPDt",
      "metadata": {
        "id": "PfC8AaHrgPDt",
        "outputId": "28919cf6-8bc9-41ca-aeb4-21b7e8ad47a4",
        "colab": {
          "base_uri": "https://localhost:8080/"
        }
      },
      "outputs": [
        {
          "output_type": "stream",
          "name": "stdout",
          "text": [
            "--2024-04-11 07:30:34--  https://raw.githubusercontent.com/josehoras/LSTM-Frameworks/master/shakespeare.txt\n",
            "Resolving raw.githubusercontent.com (raw.githubusercontent.com)... 185.199.108.133, 185.199.109.133, 185.199.110.133, ...\n",
            "Connecting to raw.githubusercontent.com (raw.githubusercontent.com)|185.199.108.133|:443... connected.\n",
            "HTTP request sent, awaiting response... 200 OK\n",
            "Length: 4573338 (4.4M) [text/plain]\n",
            "Saving to: ‘shakespeare.txt’\n",
            "\n",
            "\rshakespeare.txt       0%[                    ]       0  --.-KB/s               \rshakespeare.txt     100%[===================>]   4.36M  --.-KB/s    in 0.08s   \n",
            "\n",
            "2024-04-11 07:30:35 (56.8 MB/s) - ‘shakespeare.txt’ saved [4573338/4573338]\n",
            "\n"
          ]
        }
      ],
      "source": [
        "!wget https://raw.githubusercontent.com/josehoras/LSTM-Frameworks/master/shakespeare.txt"
      ]
    },
    {
      "cell_type": "markdown",
      "id": "rET9DlsmrB1M",
      "metadata": {
        "id": "rET9DlsmrB1M"
      },
      "source": [
        "We also need to import several packages."
      ]
    },
    {
      "cell_type": "code",
      "execution_count": null,
      "id": "FvxW7dzxQrzJ",
      "metadata": {
        "id": "FvxW7dzxQrzJ"
      },
      "outputs": [],
      "source": [
        "import gc\n",
        "import time\n",
        "\n",
        "from datasets import load_dataset\n",
        "import matplotlib.pyplot as plt\n",
        "import numpy as np\n",
        "import pandas as pd\n",
        "from sklearn.linear_model import LogisticRegression\n",
        "from sklearn.metrics import ConfusionMatrixDisplay, confusion_matrix\n",
        "from sklearn.metrics import accuracy_score, f1_score\n",
        "from sklearn.preprocessing import MinMaxScaler\n",
        "\n",
        "import torch\n",
        "import torch.nn as nn\n",
        "import torch.nn.functional as F\n",
        "from torch.optim import Adam\n",
        "from torch.utils.data import Dataset, DataLoader\n",
        "from torch.utils.data import WeightedRandomSampler\n",
        "\n",
        "from transformers import AutoTokenizer, AutoModel\n",
        "from transformers import AutoModelForSequenceClassification\n",
        "from transformers import GPT2LMHeadModel, GPT2TokenizerFast\n",
        "from transformers import Trainer, TrainingArguments\n",
        "\n",
        "from tqdm import tqdm\n",
        "\n",
        "from umap import UMAP"
      ]
    },
    {
      "cell_type": "markdown",
      "id": "cNnE7XK9sjrU",
      "metadata": {
        "id": "cNnE7XK9sjrU"
      },
      "source": [
        "The following cell defines a `CustomDataset` class, which we will use for creating labeled samples $(x, t)$, where $x$ and $t$ represent two adjacent chars in the corpus."
      ]
    },
    {
      "cell_type": "code",
      "execution_count": null,
      "id": "SWRjwtbsso-D",
      "metadata": {
        "id": "SWRjwtbsso-D"
      },
      "outputs": [],
      "source": [
        "class CustomDataset(Dataset):\n",
        "    def __init__(self, data_name):\n",
        "        self.data = open(data_name + '.txt', 'r').read()\n",
        "        chars = sorted(set(self.data))\n",
        "        self.vocab_size = len(chars)\n",
        "        self.char_to_idx = {ch: i for i, ch in enumerate(chars)}\n",
        "        self.idx_to_char = {i: ch for i, ch in enumerate(chars)}\n",
        "        print(f'data has {len(self.data)} characters,'\n",
        "              f' {self.vocab_size} unique.')\n",
        "\n",
        "    def __getitem__(self, index):\n",
        "        #current char\n",
        "        x = self.char_to_idx[self.data[index]]\n",
        "        x = torch.tensor([x])\n",
        "        x = F.one_hot(x, num_classes=self.vocab_size)\n",
        "        x = x.type(torch.FloatTensor)\n",
        "\n",
        "        # next char\n",
        "        t = self.char_to_idx[self.data[index + (index < (self.__len__() - 1))]]\n",
        "        t = torch.tensor([t])\n",
        "        return (x.to(device), t.to(device))\n",
        "\n",
        "    def __len__(self):\n",
        "        return len(self.data)\n",
        "\n",
        "    def params(self):\n",
        "        return self.vocab_size, self.char_to_idx, self.idx_to_char"
      ]
    },
    {
      "cell_type": "markdown",
      "id": "H3iUTucewtRe",
      "metadata": {
        "id": "H3iUTucewtRe"
      },
      "source": [
        "This class is used to create a dataset of our Shakespeare corpus, which in turn is used to create a `DataLoader` instance."
      ]
    },
    {
      "cell_type": "code",
      "execution_count": null,
      "id": "dYFgoYnYtXWQ",
      "metadata": {
        "id": "dYFgoYnYtXWQ",
        "outputId": "44d42fcf-2073-480f-ff64-cc54b01e56b0",
        "colab": {
          "base_uri": "https://localhost:8080/"
        }
      },
      "outputs": [
        {
          "output_type": "stream",
          "name": "stdout",
          "text": [
            "cuda\n",
            "data has 4573338 characters, 67 unique.\n"
          ]
        }
      ],
      "source": [
        "device = torch.device('cuda' if torch.cuda.is_available() else 'cpu')\n",
        "print(device)\n",
        "\n",
        "# Create data loader\n",
        "train_data = CustomDataset('shakespeare')\n",
        "vocab_size, char_to_idx, idx_to_char = train_data.params()\n",
        "\n",
        "seq_length = 100\n",
        "train_loader = DataLoader(dataset=train_data,\n",
        "                          batch_size=seq_length,\n",
        "                          shuffle=False)"
      ]
    },
    {
      "cell_type": "markdown",
      "id": "94Ku7J3dyhOi",
      "metadata": {
        "id": "94Ku7J3dyhOi",
        "tags": []
      },
      "source": [
        "### Exercise\n",
        "\n",
        "What is the purpose of the `DataLoader` class? Check the PyTorch API in order to answer this question."
      ]
    },
    {
      "cell_type": "markdown",
      "source": [
        "the DataLoader load some batch of the dataset and can iterate through the dataset as needed. Each iteration below returns a batch of train_features and train_labels"
      ],
      "metadata": {
        "id": "TEjTk9NaGCOc"
      },
      "id": "TEjTk9NaGCOc"
    },
    {
      "cell_type": "markdown",
      "id": "7ChyMoK3zhoG",
      "metadata": {
        "id": "7ChyMoK3zhoG"
      },
      "source": [
        "### Next"
      ]
    },
    {
      "cell_type": "markdown",
      "id": "sZwDoE81zpcq",
      "metadata": {
        "id": "sZwDoE81zpcq"
      },
      "source": [
        "The following cell defines a `CharLSTM` class, implementing a LSTM-based RNN."
      ]
    },
    {
      "cell_type": "code",
      "execution_count": null,
      "id": "fuXBtAB6tSrT",
      "metadata": {
        "id": "fuXBtAB6tSrT"
      },
      "outputs": [],
      "source": [
        "class CharLSTM(nn.Module):\n",
        "    def __init__(self, vocab, hidden_size, n_layers=1):\n",
        "        super(CharLSTM, self).__init__()\n",
        "        self.n_layers = n_layers\n",
        "        self.vocab_size = vocab\n",
        "        self.hidden_size = hidden_size\n",
        "        self.lstm = nn.LSTM(vocab, hidden_size, n_layers, batch_first=False)\n",
        "        self.linear = nn.Linear(hidden_size, vocab, bias=True)\n",
        "\n",
        "    def forward(self, input, h0, c0):\n",
        "        output, (hn, cn) = self.lstm(input, (h0, c0))\n",
        "        scores = self.linear(output)\n",
        "        return scores, hn, cn\n",
        "\n",
        "    def sample(self, x, txt_length=500):\n",
        "        x = x.view(1, 1, self.vocab_size)\n",
        "        h = torch.zeros(self.n_layers, 1, self.hidden_size).to(device)\n",
        "        c = torch.zeros(self.n_layers, 1, self.hidden_size).to(device)\n",
        "        txt = ''\n",
        "        for i in range(txt_length):\n",
        "            scores, h, c = self.forward(x, h, c)\n",
        "            probs = nn.functional.softmax(scores, dim=2).view(self.vocab_size)\n",
        "            pred = torch.tensor(list(WeightedRandomSampler(probs,\n",
        "                                                           1,\n",
        "                                                           replacement=True)))\n",
        "            x = F.one_hot(pred, num_classes=self.vocab_size)\n",
        "            x = (x.view(1, 1, self.vocab_size)\n",
        "                  .type(torch.FloatTensor)\n",
        "                  .to(device))\n",
        "            next_character = idx_to_char[pred.item()]\n",
        "            txt += next_character\n",
        "        return txt"
      ]
    },
    {
      "cell_type": "markdown",
      "id": "UnBLyw522CgJ",
      "metadata": {
        "id": "UnBLyw522CgJ"
      },
      "source": [
        "The following cell creates an instance of `CharLSTM` and trains it for 1000 iterations, sampling the learnt distribution before starting to learn, as well as at half-time and at the end of the learning process."
      ]
    },
    {
      "cell_type": "code",
      "execution_count": null,
      "id": "Wdes7dlMgVNc",
      "metadata": {
        "id": "Wdes7dlMgVNc",
        "outputId": "1ab343e1-7eb6-4e4d-f83e-170e84f68b2b",
        "colab": {
          "base_uri": "https://localhost:8080/"
        }
      },
      "outputs": [
        {
          "output_type": "stream",
          "name": "stdout",
          "text": [
            "--------------------------------------------------------------------------------\n",
            "0: 4.210381984710693\n",
            "A,-CbLDGuYy-jsyxUl3bzbz\n",
            "oHa-LftfvrxAgRtOmK\n",
            "UOJa FIDjawiTpNsb \n",
            "N3Jf!rGnPzz\n",
            "iwjQJwRSxd\n",
            "A- rCC!siCnawo,I\n",
            "\n",
            "S;MY]DxwI!vk[BK]tIPfgI3lV;ESaUC.IcbXeDtkEs[N& J-?k ysKP\n",
            "VQxfEs,cVXzDzjoGi3fsDgnVgh$ ]XCr 'hVOAGD$\n",
            "ayfMZo\n",
            "$qMep]VrBNYs.D:yr3iyvY]BwpQDTXmr 3i?E ]xvL3dJTx3SE,KcviK&FXlrPfRgc:.jAggkjxypfa\n",
            "Z'zulSzYMpHZ';YkIijQzaVCfUpulsiDYTsveGBfL\n",
            "RZMS:nzivlxcFCEAazq.'PXz'K[H!\n",
            "';:OXcMupUVHFPRlaD[D:,gDmsnrMR,DF3nx[Ytx&h3WmxWYVS[E:fV;vBkrwdYuORJYP.GUKF3pqG[WZhHW.uGTH'a&J.vjFrd[:JOzXT]]xq?&j?RVzp3qm.B$-yd\n",
            "DxeIEpsxQkge\n",
            "--------------------------------------------------------------------------------\n",
            "--------------------------------------------------------------------------------\n",
            "500: 1.896377444267273\n",
            "or of conere of as.\n",
            "\n",
            "BRstioner. To for for comnceed;\n",
            "Wo dive veroulg enveng:\n",
            "but\n",
            "Mlnded\n",
            "Wevarts ang is hommand\n",
            "Sy put\n",
            "Iincury\n",
            "Iffulk\n",
            "pliecureay.\n",
            "\n",
            "SesCst\n",
            "Se My suld for stand thay brrave, to that\n",
            ",y easter he\n",
            "ne erareshele ho werrum,\n",
            "In he warth fetare\n",
            "Olpous innuss it, is rorst\n",
            "With aturspole\n",
            "your that pcoble;\n",
            "to seRing\n",
            "AUManey thear\n",
            "?esing conbeating, thase as  to earious som cofle\n",
            "whank spaed\n",
            "Thith hawition.\n",
            "\n",
            "Sether hims ospegrmad,\n",
            "and,\n",
            "eraath \n",
            "Weratins\n",
            "Feter it their wingry pantelm cousare\n",
            "We\n",
            "--------------------------------------------------------------------------------\n",
            "--------------------------------------------------------------------------------\n",
            "1000: 1.4792182445526123\n",
            "ow ofsrius of\n",
            "As pe'tiline mive,\n",
            "Now never were botshaving have,\n",
            "If thithe would thee:m; is thereroble ambeme.\n",
            " hem. Thou them, me .\n",
            "Fare nor he: thine of poome,\n",
            "And heech thas's fare je yom Rome,\n",
            "Iilt; not good thaurade them athend.\n",
            "Leing have him heapme?\n",
            "\n",
            "VORUMNIA:\n",
            "I'll the the caancy\n",
            "Rayou had when ay enecoold.\n",
            "\n",
            "First Senas\n",
            "Aed coml\n",
            "Mattoald heve.\n",
            "\n",
            "BRUTUS:\n",
            "\n",
            "SICINIUS:\n",
            "\n",
            "BRUTNIUS:\n",
            "Let come,\n",
            "Now a ath me and kQome;\n",
            "I if oir what,\n",
            "Than fxoR my wour ay.\n",
            "Was we a fire saight that being reseance you:\n",
            "--------------------------------------------------------------------------------\n",
            "--------------------------------------------------------------------------------\n",
            "1500: 1.4134652614593506\n",
            "ne warn'd hims; the live,\n",
            "Whon loved he bant'd my lind,\n",
            "hear consul: your a way, and 'rrepopt, us?\n",
            "\n",
            "AUFIDIUS:\n",
            "Scatule I'\n",
            "Msselt of are your day,\n",
            "We had baperfre\n",
            "Tn\n",
            "Which cood and must reche it with he papens,\n",
            "Woll: fell we all thus, sgwatersetion voad and a come, led?\n",
            "\n",
            "Second Conspirator:\n",
            "Welcome enter.\n",
            "\n",
            "First Senator:\n",
            "My part .r\n",
            "with hw repir, toull not elpeds of\n",
            "'Twith dun him querenould for he are,-- hat it do loud: of's it,\n",
            "All are not consul, his noor:\n",
            "My port, of you this ving herienM.\n",
            "\n",
            "Se\n",
            "--------------------------------------------------------------------------------\n",
            "--------------------------------------------------------------------------------\n",
            "2000: 1.6722108125686646\n",
            "ecus with thee,\n",
            "And, non you with! That when the to to deep, prowasent Gursed me now?\n",
            "\n",
            "Second Merderer:\n",
            "How in gount morn devedeot streitt.\n",
            "\n",
            "MersirM:\n",
            "Say you hopours of you concalom.\n",
            "\n",
            "Second Murderer:\n",
            "Who do at he old Edward's cunsty now: it\n",
            "my look.\n",
            "\n",
            "CLARENCE:\n",
            "ArrReetuln' of The gufy where.\n",
            "\n",
            "CLARENNE:\n",
            "Arvartce as he a conscaln\n",
            "Dabghsfonion\n",
            "And to of pord.\n",
            "\n",
            "Third Murderer:\n",
            "UVking's thing.\n",
            "\n",
            "CLARENCE:\n",
            "Roting com. Beconchaie of strugh;\n",
            "In, and not the reith and his repevars they have\n",
            "tleve,\n",
            "Marnd h\n",
            "--------------------------------------------------------------------------------\n",
            "--------------------------------------------------------------------------------\n",
            "2500: 1.9734854698181152\n",
            " you love,\n",
            "When, came wrip to den you  himse Grot.\n",
            "\n",
            "BUCKINGHAM:\n",
            "Loven seir feeched be, which are fers the :\n",
            "Un't at Their it diam,\n",
            "Four ARisued'st-prince bid near.\n",
            "\n",
            "BUCKINGHAM:\n",
            "Madnon rejoff by diging bad\n",
            "Which percead his face fass.\n",
            "\n",
            "HASTINGS:\n",
            "May, me ht to Bathees, rugg the iganiness!\n",
            "But contrether thou have battes all fat the intle:\n",
            "Bothfral, which live effended for queen,\n",
            "So; lives when fraoning from Loingesor.\n",
            "\n",
            "BUCKINGHAM:\n",
            "Well and lized the sonon of dreap of in the donion\n",
            "Hours well take \n",
            "--------------------------------------------------------------------------------\n",
            "--------------------------------------------------------------------------------\n",
            "3000: 1.9697279930114746\n",
            "ad.\n",
            "His aj hearsing connot, is pascels\n",
            "Sike the wear well to tames, my disiry?\n",
            "an terpers on my tree behind sugh?\n",
            "Uither as do \n",
            "There Goys perssing to all your majesty\n",
            "Pring him. I made in xold.\n",
            "Then to maje, the battil\n",
            "'Tis te'st, tapposy you strue the lay? in smadander:\n",
            "Yet, his prees toge, tild in, nays to they confill otchughty's\n",
            "From and liughness and de in armons of thy cerrelorts.\n",
            "\n",
            "SRICHARD III:\n",
            "The se makes whither in aad, and quoys it darthers or from.\n",
            "I no consonts she have Englanding \n",
            "--------------------------------------------------------------------------------\n",
            "--------------------------------------------------------------------------------\n",
            "3500: 1.5992419719696045\n",
            "ce,\n",
            "Thou  shaliod I tall the ae, this shall farp'd is a truch of good:\n",
            "And sely cord and was will end lant,\n",
            "Or frould sholts that thrower make of So:eck that dunms chlothel mand:\n",
            "Methis exmirs for thou grict, of the sairs, but food her sementlyionose\n",
            "As and are or wam cortance thy !ishoning fils'\n",
            "Whose prove uprancharious obreoties with a the capttome plementlyfold,\n",
            "And he poss firse againgrander out All for no doth\n",
            "For HVSesh Aghord impers king,\n",
            "But he despititaprest, I times.\n",
            "Lest bald mean of\n",
            "--------------------------------------------------------------------------------\n",
            "--------------------------------------------------------------------------------\n",
            "4000: 1.9129730463027954\n",
            "oe, whoseles empate,\n",
            "Staybus son of meass theil with the depoud us be knee:\n",
            "What make you must in we hims, 'tis cousin, them madam.\n",
            "Be me how the judethrietive with do :\n",
            "Fout soory the paocess and atacts.\n",
            "Whilst shape doth thy bethon mades to age of a enponous do weil.\n",
            "\n",
            "KING RICHARD II:\n",
            "Rich, ; thou and thou three come away whose way, hay spond without say,\n",
            "Unlet poocly in Durting have pangennes:\n",
            "The fich shamed goeing of up her of not.\n",
            "\n",
            "HENRY BOLINGBROKE:\n",
            "Or a  presord, your must mut propiils.\n",
            "\n",
            "--------------------------------------------------------------------------------\n",
            "--------------------------------------------------------------------------------\n",
            "4500: 1.4043217897415161\n",
            "MENVY \n",
            "TATY:\n",
            "And sa lity of him.\n",
            "\n",
            "AATETE:\n",
            "The quern not moruer hm made as And,\n",
            "For might to my frinnt Riclan-unbard out you jow.\n",
            "\n",
            "TBRAMVET:\n",
            "into the he by death. \n",
            "TUMPOLTOLIO:\n",
            "\n",
            "GREGOO:\n",
            "I sta much told stentle\n",
            "Vany with swirr, my balgcousing by Clace:\n",
            "Who chreal bropger'd sue, was on the cantar,\n",
            "And I amteral Jethis he statisong!\n",
            "\n",
            "COMTPOOP:\n",
            "No.\n",
            "here is honour curiot mind is he shame:\n",
            "Could thou thrift brongs, sirvand the molk: the word!\n",
            "\n",
            "AMIA:\n",
            "This dugbLAreeds for of the head?\n",
            "\n",
            "ABEsen:\n",
            "Thou ben's\n",
            "--------------------------------------------------------------------------------\n",
            "--------------------------------------------------------------------------------\n",
            "5000: 1.370409369468689\n",
            "ter? and birth\n",
            "No poese secrenged; as and sir.\n",
            "\n",
            "Nurse:\n",
            "In bread abagolys thereals me thy\n",
            "Eluted resteng for any times staps\n",
            "I say you see like grant shing.\n",
            "\n",
            "ROMEO:\n",
            "Peasion good revery thoughtest at you what stee\n",
            "\n",
            "Of CERO:\n",
            "My swom, and come for me I have?\n",
            "What off, well, good masteral tonguiot.\n",
            "\n",
            "Nurse:\n",
            "O, good not it! full! made more?\n",
            "\n",
            "Nurse:\n",
            "I will a did usomy as ritsfores,\n",
            "nitted, that courteran, and A her,\n",
            "With 'du? horst my such's saput yeare,\n",
            "Thou bades.\n",
            "\n",
            "ROMEO:\n",
            "Not it the manknors, there th\n",
            "--------------------------------------------------------------------------------\n",
            "--------------------------------------------------------------------------------\n",
            "5500: 1.2819757461547852\n",
            "r, thy night present,\n",
            "O, much it see up the gault-him mentence,\n",
            "I done ovee at come: Nor not yellififul,\n",
            "As a forning that gerrer so well: amone:\n",
            "God is wey thou bly curses?d? robnt, I spake a sime pulse,\n",
            "And this men, and upshels?t then, on, gentleman sunilen aquate.\n",
            "Then, with bean about hwaring's sorrowle sweet,\n",
            "To my father see look alling county;\n",
            "And let up sir, tees rave the prossone, there, um, are.\n",
            "\n",
            "JULIET:\n",
            "What all thus that I thanks how there.\n",
            "\n",
            "LADY CAPULET:\n",
            "As, do this is hence this n\n",
            "--------------------------------------------------------------------------------\n",
            "--------------------------------------------------------------------------------\n",
            "6000: 1.5975563526153564\n",
            "me within your spare.\n",
            "Shat thee starson; and all, shall not Upon this wERif\n",
            "With no blick, rawnft break.\n",
            "\n",
            "YORK:\n",
            "The to them in the blood yie so,\n",
            "He may refolcord of their will:\n",
            "Lick crown London's bring now sen a life.\n",
            "\n",
            "Cw offution! now the son;\n",
            "That power me to his father's semblew\n",
            "As unterr pend thrumbeils'd,\n",
            "And thy burthend their blood'd youd the finger,\n",
            "With the suporlight and gating man,\n",
            "And made return thou hais man; for all my shall this?\n",
            "As have lord? lawle thbA told, conechearr.\n",
            "You th\n",
            "--------------------------------------------------------------------------------\n",
            "--------------------------------------------------------------------------------\n",
            "6500: 1.5545223951339722\n",
            "ntaity;\n",
            "In arm awhile decence by,\n",
            "A man it the Ewtarsted, that grial, as teldly:\n",
            "And mother staticitiding Rome to my stain's.\n",
            "\n",
            "ffilies this love:\n",
            "And sportled to had seal, his onate  striking';\n",
            "Sick eel'ld in a toen dife,\n",
            "And the wlet Northumbt tyrant in world reve dly;\n",
            "Clfeton, and showhs do my swair fort like my cheek.\n",
            "Why, could can less confess to confors;\n",
            "the starful aich solertril Frencherors;\n",
            "I cannot father do now on thy words,\n",
            "And as lay their world, with blooding it,\n",
            "Whither sorrow'd y\n",
            "--------------------------------------------------------------------------------\n",
            "--------------------------------------------------------------------------------\n",
            "7000: 1.178694725036621\n",
            "xford!\n",
            "Swim is his dreason with then conqueef:\n",
            "And I should be houped bane gold myself.\n",
            "I did jest weaks pringmstink and mistrood,\n",
            "Dishocketh as such to emvery howeth'd more.\n",
            "Bargnt one safeganted with the way.\n",
            "Morg toward such a friends ergeth furewell;\n",
            "My lienount we with messivers in mare:\n",
            "And perfect and late go his wide.\n",
            "'Tis to here slightful valiant\n",
            "Blother, tlanks to very touch shoudd I somenrome\n",
            "And save our lords, more aid to the bese;\n",
            "He he another therefore be whichsicano\n",
            "Withst weag\n",
            "--------------------------------------------------------------------------------\n",
            "--------------------------------------------------------------------------------\n",
            "7500: 1.6928532123565674\n",
            "nglise conserving\n",
            "He she'll sacred, commendning begno lips.\n",
            "\n",
            "LEONTES:\n",
            "Than most and from her how for why knew this! Eyviged,\n",
            "For rot's policed, she homes,\n",
            "For so a relort honesty, namest he\n",
            "I, near heaven all her? From him hersell.\n",
            "Do, lissful, make\n",
            "I not notser tor here.\n",
            "\n",
            "MAULINA:\n",
            "Nay, she's hear airs\n",
            "A knew barring come should shall not ay.\n",
            "\n",
            "ICA:\n",
            "Pass this who leave the your sund!\n",
            "The will not I'll should us not, hopes;\n",
            "Forcy, no, but part their, now\n",
            " easy elders;\n",
            "Or tot a Northuct for, nor th\n",
            "--------------------------------------------------------------------------------\n",
            "--------------------------------------------------------------------------------\n",
            "8000: 1.8061294555664062\n",
            "faull, be offele\n",
            "Can from no more withit; I muty, bort;\n",
            "O, how this shall now's,\n",
            "Brobely a kindlecks.\n",
            "\n",
            "Alow:\n",
            "As unrequile it hast than toose a brough a 'bades?\n",
            "\n",
            "POLIXENES:\n",
            "Remong half soner\n",
            "How and one, 'som,\n",
            "With in you were farch. The phacees;\n",
            "She are as peilly.\n",
            "\n",
            "Clown:\n",
            "I enter! I think, have.\n",
            "\n",
            "HERMISLShAMEL:\n",
            "Thet love, bails, but nothing,\n",
            "To unchange name.\n",
            "\n",
            "AUTOLYCUS:\n",
            "It shalt innoth pastrae hhalves are as you'-litice\n",
            "That stays for groan: this your 'wease as your more\n",
            "And thought i' it, I pa\n",
            "--------------------------------------------------------------------------------\n",
            "--------------------------------------------------------------------------------\n",
            "8500: 1.9724246263504028\n",
            "Of as perceive about not more.\n",
            "\n",
            "Clown:\n",
            "Thou do not to use moy I have tractures and many husband\n",
            "our welk of our help a remain\n",
            "To have to the lovens you with not unbusiness,\n",
            "The propition's some, The shor remeave asvilument of my uftely\n",
            "aftering. But you have that she hopely. Never beial be a cannot\n",
            "So do the naclia:\n",
            "He stand yet nest all yea\n",
            "As: commiss'd thoughts us there I have now, ouce\n",
            "Tell the shepherd issue on you have have much thus.\n",
            "\n",
            "LEONTES:\n",
            "I shore,\n",
            "The case and his bankings of a; to a\n",
            "--------------------------------------------------------------------------------\n",
            "--------------------------------------------------------------------------------\n",
            "9000: 1.8307201862335205\n",
            "ood'st peria meks\n",
            "Is dent'st, Sister, I have upon pierce;\n",
            "And guard the spore the pladention toward\n",
            "To died a gracious ctrack, are invorentaugh.\n",
            "\n",
            "ISABELLA:\n",
            "I thought, save the prefer your seturong,\n",
            "The flatterly Frotious plead'd Their\n",
            "To you do the fuar the cat trust;\n",
            "For ne there from thereposed but there?\n",
            "\n",
            "Provost:\n",
            "Is that reserve the far troup.\n",
            "\n",
            "Pamy IO:\n",
            "I'll die?\n",
            "Leirnow you thou art not grastly,\n",
            "Thou art twenty, earthisffice brother's. Dassd;\n",
            "In commih by them continedly.\n",
            "\n",
            "RIST:\n",
            "Is my fery \n",
            "--------------------------------------------------------------------------------\n",
            "--------------------------------------------------------------------------------\n",
            "9500: 1.2109028100967407\n",
            "fi, as he\n",
            "vounches previsied mittrm of horsesect,\n",
            "Hear her well: womy manaty commin bewitter I with it;\n",
            "Thou art be name, friar, my brother; your pardon :\n",
            "Most life: hens you, desire--mates.\n",
            "Her friend. Fait it. You away'd, Master!\n",
            "\n",
            "ISABELLA:\n",
            "How! Consuee the set the lavour,--saster;\n",
            "Icce, let you with him with him beliked duke,\n",
            "But for the pregently. Your corralled us. Run-it belikeves prison up ha'st\n",
            "By this perit. But somice of my eye;\n",
            "Thou soilet, here you that's mine continuhly dake.\n",
            "\n",
            "DUKE \n",
            "--------------------------------------------------------------------------------\n",
            "--------------------------------------------------------------------------------\n",
            "10000: 1.1242594718933105\n",
            "tharly lame of a,\n",
            "Hope.\n",
            "\n",
            "HORTENSIO:\n",
            "I have nkie feter, an ansurdse me\n",
            "To cave us unto do A a tongue ferisoit of you one.\n",
            "\n",
            "PETRUCHIO:\n",
            "He Parrious,'le forth the kind it his ready,\n",
            "His sorrew obetraps 'I' habard me,\n",
            "to do worssoft rope and tearning Angustations, poor.\n",
            "Cuhen, ema heaven's eld houser not help knaleys, madam:\n",
            "Thunded being one you seoces men with beood forget it tonghisoes: for home,\n",
            "Even know to seek, lards affeature?\n",
            "\n",
            "GREMIO:\n",
            "Will?\n",
            "\n",
            "HORTENSIO:\n",
            "Gentre pleaume would, to waked more tol\n",
            "--------------------------------------------------------------------------------\n"
          ]
        }
      ],
      "source": [
        "hidden_size = 256\n",
        "n_layers = 1\n",
        "lr = 0.01\n",
        "savedLoss = []\n",
        "generated_text = \"\"\n",
        "model = CharLSTM(vocab_size, hidden_size, n_layers=n_layers).to(device)\n",
        "\n",
        "loss_fn = nn.CrossEntropyLoss()\n",
        "optimizer = Adam(model.parameters(), lr=lr)\n",
        "\n",
        "h = torch.zeros(n_layers, 1, hidden_size).to(device)\n",
        "c = torch.zeros(n_layers, 1, hidden_size).to(device)\n",
        "\n",
        "i = 0\n",
        "for inputs, targets in train_loader:\n",
        "\n",
        "    # Detach hidden and cell state to prevent backpropagation through them\n",
        "    h, c = h.detach(), c.detach()\n",
        "\n",
        "    # Forward run the model and get predictions\n",
        "    scores, h, c = model(inputs, h, c)\n",
        "    loss = loss_fn(scores.squeeze(dim=1), targets.squeeze(dim=1))\n",
        "\n",
        "    # Backpropagate the loss and update parameters\n",
        "    loss.backward()\n",
        "    optimizer.step()\n",
        "    optimizer.zero_grad()\n",
        "\n",
        "\n",
        "    if i % 50 == 0:\n",
        "        savedLoss.append(loss.cpu().detach().numpy())\n",
        "\n",
        "    # Print loss and sample text every 500 steps\n",
        "    if i % 500 == 0:\n",
        "        print('-' * 80)\n",
        "        print(f'{i}: {loss}')\n",
        "        print(model.sample(inputs[0]))\n",
        "        print('-' * 80)\n",
        "    i += 1\n",
        "    if i > 10000:\n",
        "        break\n"
      ]
    },
    {
      "cell_type": "code",
      "source": [
        "plt.plot(savedLoss)\n",
        "plt.show()"
      ],
      "metadata": {
        "id": "DCS5bXKmSY2p",
        "outputId": "12597aba-b961-4a61-9de2-4dfe31409998",
        "colab": {
          "base_uri": "https://localhost:8080/",
          "height": 430
        }
      },
      "id": "DCS5bXKmSY2p",
      "execution_count": null,
      "outputs": [
        {
          "output_type": "display_data",
          "data": {
            "text/plain": [
              "<Figure size 640x480 with 1 Axes>"
            ],
            "image/png": "[encoded data removed]"
          },
          "metadata": {}
        }
      ]
    },
    {
      "cell_type": "markdown",
      "id": "9f7a234e-53f7-4eb1-9642-dc727a92e44a",
      "metadata": {
        "id": "9f7a234e-53f7-4eb1-9642-dc727a92e44a"
      },
      "source": [
        "### Exercise"
      ]
    },
    {
      "cell_type": "code",
      "source": [
        "generated_text = model.sample(inputs[3])"
      ],
      "metadata": {
        "id": "zxCPyOpXPG0B"
      },
      "id": "zxCPyOpXPG0B",
      "execution_count": null,
      "outputs": []
    },
    {
      "cell_type": "markdown",
      "id": "722ef544-c9ff-4760-b3c8-78eae8f73a0b",
      "metadata": {
        "id": "722ef544-c9ff-4760-b3c8-78eae8f73a0b"
      },
      "source": [
        "Modify the previous cell so that the loss is saved each 50 iterations during learning. Run for 10000 iterations and graphically check that loss is being minimized. Sample from the learnt distribution, using different initial characters. Save the last sampled text in a variable named `generated_text`, as we will use it at the end of the practical part."
      ]
    },
    {
      "cell_type": "code",
      "source": [],
      "metadata": {
        "id": "Sg7gxy7WOB-9"
      },
      "id": "Sg7gxy7WOB-9",
      "execution_count": null,
      "outputs": []
    },
    {
      "cell_type": "markdown",
      "id": "ff7cc9a7-0acd-4e37-82b8-e0745161706e",
      "metadata": {
        "id": "ff7cc9a7-0acd-4e37-82b8-e0745161706e"
      },
      "source": [
        "### Next"
      ]
    },
    {
      "cell_type": "markdown",
      "id": "60559ae4-550b-4284-90b1-94d704352080",
      "metadata": {
        "id": "60559ae4-550b-4284-90b1-94d704352080"
      },
      "source": [
        "The next cell loads a variant of the GPT-2 transformer."
      ]
    },
    {
      "cell_type": "code",
      "execution_count": null,
      "id": "77xuxQFrgbtR",
      "metadata": {
        "id": "77xuxQFrgbtR",
        "tags": [],
        "outputId": "c0fab8e0-6364-4955-a7d4-82f9a35f7968",
        "colab": {
          "base_uri": "https://localhost:8080/"
        }
      },
      "outputs": [
        {
          "output_type": "stream",
          "name": "stderr",
          "text": [
            "Token indices sequence length is longer than the specified maximum sequence length for this model (2513 > 1024). Running this sequence through the model will result in indexing errors\n"
          ]
        }
      ],
      "source": [
        "model_id = 'openai-community/gpt2-large'\n",
        "model = GPT2LMHeadModel.from_pretrained(model_id).to(device)\n",
        "tokenizer = GPT2TokenizerFast.from_pretrained(model_id)\n",
        "\n",
        "test = load_dataset('wikitext', 'wikitext-2-raw-v1', split='test')[:50]\n",
        "encodings = tokenizer('\\n\\n'.join(test['text']), return_tensors='pt')"
      ]
    },
    {
      "cell_type": "markdown",
      "id": "d41b3145-d0e5-4ef8-ba33-1bb8b5b4c561",
      "metadata": {
        "id": "d41b3145-d0e5-4ef8-ba33-1bb8b5b4c561"
      },
      "source": [
        "### Exercise"
      ]
    },
    {
      "cell_type": "markdown",
      "source": [
        "1024"
      ],
      "metadata": {
        "id": "dA-FPIv2Up7R"
      },
      "id": "dA-FPIv2Up7R"
    },
    {
      "cell_type": "markdown",
      "id": "cdf7f2b3-5e3b-4a6e-8cd6-71b0d45c545a",
      "metadata": {
        "id": "cdf7f2b3-5e3b-4a6e-8cd6-71b0d45c545a"
      },
      "source": [
        "What is the dimension of the GPT model which we are using (that is, the maximum length of a processable string)?"
      ]
    },
    {
      "cell_type": "markdown",
      "id": "85741efb-b855-46aa-bd39-66ac48925d00",
      "metadata": {
        "id": "85741efb-b855-46aa-bd39-66ac48925d00"
      },
      "source": [
        "### Exercise"
      ]
    },
    {
      "cell_type": "markdown",
      "id": "8fa8bec3-ea2d-4d73-8915-6beff2d0a6d2",
      "metadata": {
        "id": "8fa8bec3-ea2d-4d73-8915-6beff2d0a6d2"
      },
      "source": [
        "The code in the next cell computes the perplexity of a string generated by this model, where this string has a length higher than the model dimension. Run the code and take note of the obtained perplexity value. Is this procedure is in line with the technique?"
      ]
    },
    {
      "cell_type": "code",
      "execution_count": null,
      "id": "8bCPAnJWgl00",
      "metadata": {
        "id": "8bCPAnJWgl00",
        "outputId": "d27cbb57-4da7-4788-849b-f077ec9f3be4",
        "colab": {
          "base_uri": "https://localhost:8080/"
        }
      },
      "outputs": [
        {
          "output_type": "stream",
          "name": "stderr",
          "text": [
            " 60%|██████    | 3/5 [00:01<00:01,  1.62it/s]\n"
          ]
        },
        {
          "output_type": "stream",
          "name": "stdout",
          "text": [
            "tensor(17.2254, device='cuda:0')\n"
          ]
        }
      ],
      "source": [
        "max_length = model.config.n_positions\n",
        "stride = 512 #1024 no overlap\n",
        "seq_len = encodings.input_ids.size(1)\n",
        "\n",
        "nlls = []\n",
        "prev_end_loc = 0\n",
        "for begin_loc in tqdm(range(0, seq_len, stride)):\n",
        "    end_loc = min(begin_loc + max_length, seq_len)\n",
        "    trg_len = end_loc - prev_end_loc\n",
        "    input_ids = encodings.input_ids[:, begin_loc:end_loc].to(device)\n",
        "    target_ids = input_ids.clone()\n",
        "    target_ids[:, :-trg_len] = -100\n",
        "\n",
        "    with torch.no_grad():\n",
        "        outputs = model(input_ids, labels=target_ids)\n",
        "\n",
        "        # loss is calculated using CrossEntropyLoss\n",
        "        # which averages over valid labels\n",
        "        # N.B. the model only calculates loss over trg_len - 1 labels, because\n",
        "        # it internally shifts the labels to the left by 1.\n",
        "        neg_log_likelihood = outputs.loss\n",
        "\n",
        "    nlls.append(neg_log_likelihood)\n",
        "\n",
        "    prev_end_loc = end_loc\n",
        "    if end_loc == seq_len:\n",
        "        break\n",
        "\n",
        "ppl = torch.exp(torch.stack(nlls).mean())\n",
        "print(ppl)"
      ]
    },
    {
      "cell_type": "markdown",
      "id": "949a2002-2de5-43cc-8508-56d24a8f0425",
      "metadata": {
        "id": "949a2002-2de5-43cc-8508-56d24a8f0425"
      },
      "source": [
        "### Exercise"
      ]
    },
    {
      "cell_type": "markdown",
      "id": "7e4afe88-4c91-4010-a7ef-968cc7c19945",
      "metadata": {
        "id": "7e4afe88-4c91-4010-a7ef-968cc7c19945"
      },
      "source": [
        "Modify the previous cell so that perplexity is correctly estimated."
      ]
    },
    {
      "cell_type": "markdown",
      "id": "1e51e8bf-1946-4b39-b72c-196e413e5f66",
      "metadata": {
        "id": "1e51e8bf-1946-4b39-b72c-196e413e5f66"
      },
      "source": [
        "### Next"
      ]
    },
    {
      "cell_type": "markdown",
      "id": "5b1a2b70-6e40-4b66-a2a2-f287b9b5e0f5",
      "metadata": {
        "tags": [],
        "id": "5b1a2b70-6e40-4b66-a2a2-f287b9b5e0f5"
      },
      "source": [
        "We will not use anymore the GPT-2 model, thus we can free some RAM."
      ]
    },
    {
      "cell_type": "code",
      "execution_count": null,
      "id": "ABEL1hbXcd3v",
      "metadata": {
        "id": "ABEL1hbXcd3v"
      },
      "outputs": [],
      "source": [
        "def clear_memory():\n",
        "  gc.collect()\n",
        "  torch.cuda.empty_cache()\n",
        "\n",
        "del model\n",
        "del tokenizer\n",
        "clear_memory()"
      ]
    },
    {
      "cell_type": "markdown",
      "id": "02fffbc0-c865-4249-9790-776b53267718",
      "metadata": {
        "id": "02fffbc0-c865-4249-9790-776b53267718"
      },
      "source": [
        "The next cell loads the Emotion dataset which we have used during the lecture."
      ]
    },
    {
      "cell_type": "code",
      "execution_count": null,
      "id": "USe2EQzAv3HW",
      "metadata": {
        "id": "USe2EQzAv3HW",
        "outputId": "d8a9db9d-3957-4d67-9193-22d7a2c93b67",
        "colab": {
          "base_uri": "https://localhost:8080/",
          "height": 305,
          "referenced_widgets": [
            "10cf8f12d28042128bb4d4c17c49053e",
            "9e1a6e598f1346d693db1963c5f6eed5",
            "befc4b9e9ecb4e47b8f1c99293c52a11",
            "7797f245ebba47fe90ef2b0fb0e58421",
            "34f6d510b40b4a27bc13387b58b96f91",
            "e9ce5022e1414c7e8ccd597b373ff683",
            "cbeec5a8d18943ea8e2ac773da738009",
            "83933d1cd4124fe48b7984ed8fefaf01",
            "d7afc48783f8475d8356e5d6f8a83b11",
            "fea93ca6c293499fa6068e7562513eaf",
            "13a7954dc5bf411e960578a4ada55df9",
            "985c8cb70f764be2a05fb404fa81edbc",
            "ee85b2bc84d84df39086abcb35a0626d",
            "974fbcee30db4d1189122fff2a43ce21",
            "cddb9ea47da3412ca88dcfc6b1966ba4",
            "6c2699fd93924e72b125ad62b7e2a97b",
            "c8de4cd9e8554ba9a0fc5902e5bf316b",
            "f315b135937f44029e50864ab402ca55",
            "c845b95211ad4f08b26f7c65caba1a0c",
            "b310df973b4e4b399bf777a524e220e1",
            "c5dbe2dd32794c35a01ca3b033abd9a5",
            "13733cf2639342a390715c42d8445319",
            "02bc590ed1654a27886569f113259b87",
            "e667c25705b54bc5a2dfa6a1f909f12c",
            "0e1701dc0c994ddf8a91c650069e3723",
            "04937cab27724dfcb15e6f9f4315ee66",
            "036b0241d98c4fd1bb4be3455ffb852d",
            "47cbdb73c4c5455f9a745044d9ca2a42",
            "1e1299949c6f49c6a890aaea54686c9e",
            "84f2cf70d57448ffa5103e0131e0bd04",
            "a22ef405482a4096bdcb483828262be4",
            "50782f108a6b496c91272512d7ac8993",
            "aa728f66366b4478b2fffb25a43285ed",
            "fc31a935d9774334ab75a4893eec463b",
            "002db7a01d13416785748b9ae2c01c04",
            "3c2cd9ad6f65437e91f2590f31b903cd",
            "0b6861ac380a438b8f0920b08261b9a3",
            "1aca0ff808b84195ad82569502b10dd7",
            "5aa41cbce60c4245b0335f27fb5dcda4",
            "a02a899faa2044e7894db66b3b2b6438",
            "bc0bab44f02a477e82b9f3aa5cb96758",
            "ab35a50e715a4ad7876e250d7fac1565",
            "dafae7336a204b2985f1085845dfd823",
            "ebcf6412abce4e2c997947760b0e007d",
            "4a2853cf6f54499dac643efaa4a00923",
            "8e106a924e7641e3a9f7279760288ef8",
            "f8ce91efa0ae4d90ba53e3c0b1f897c3",
            "e8b51f2db7e3492597a67b5af976fc05",
            "b4182268824d4fd0bd2f53a5093a03ce",
            "20d75b3eb2724d03ba484b84e308b3f4",
            "2926e976f83348bc93efd19a56d4cfc9",
            "0a6a57bfd6a848fbbae38d25b569a859",
            "14faa00941d24a1a8fbecae2b8774dc6",
            "7fab728232144ea4a95d50dfea13bdae",
            "8374fe5bab474821b9ab9c795a04b13a",
            "154ed01bb0374d1e924efa7eaa7803f8",
            "a9195b6da43b43d9babdbcd8e8236771",
            "baf42742e9444be2b3f3097e8f7d8579",
            "579aacbb705545d4a14ce01af1564654",
            "e4d988cc13b34d5c9ee5e0951d7a5fe4",
            "e4fb3c807f644368aa0a5e27947aa1eb",
            "a34a5b848ef34ce39311494d8f384039",
            "6be95c86050a4c14ab0625dba4833d74",
            "1548da46f2414d2997e2152945f26e93",
            "deefc28dfade4949b6fe8dcba4213873",
            "aba6a1100a834ba88259a98364426741",
            "af63ad39355943eaa7c7def1c97ace6b",
            "aca28ef3302541859b4633ac9d15d1cb",
            "cd12941918bd40729d11cebb6ec1903c",
            "be9d1418efa04f68882a0ef410777a60",
            "78984a40da384bfa93822560615b4ce7",
            "da4f06879dce4b88b09a659c3b7453c8",
            "71ea9dcb5dfe4338aaf8d37c28903a28",
            "72af47360b514bed814352fe636d07f3",
            "e8106d4849574969ae3584e9f8180dbd",
            "f138f546da5e4c9c95d8b99cc91fe670",
            "144201a3741e4241aa471a69fcc7b9d4",
            "2b49d0cd9ba246ce972a18cd26acf813",
            "d61f8b467e81493597463ed2448a937d",
            "940e3beb3c194d6886d9fae4baf13c92",
            "22da8588712f46f08e0d6c550d8a7f20",
            "64903fb6288a48e699532040c4da1167",
            "757e5bdb348d48cc86d5cb02433b46aa",
            "81346e43f7d44e1a8d295487650da98e",
            "886cd4fa9cdc4a6a842588d78d3afbde",
            "6350142e47214beb9bb3d0354a0cdf5b",
            "385708a6ed7d4e3d99ce736d80125bde",
            "bc73aa138d004c179dec6cb561c7ccb0",
            "646723d50578416185ee353813688292",
            "0905184122c3413099ca095523ee32bf",
            "8e315ec7d471442d9b5b8385e6db831d",
            "3419cd6b4cdb47d8acc68f0a4409f76a",
            "aba8024d4b3e494cb4f2bfd539b22ca3",
            "1859c879e4444009bafd04dc41a65f6e",
            "8d5864e7c66b40b5a9d6d24c9d88cebf",
            "5ad42a797e5c4b16830c328ca553aaf5",
            "efd43533920b466991a139aeb15e0bbf",
            "836f146d364a46cf91746e8cf6b92fa8",
            "6bc11e877b834cfaab77cee3b5aeb9d3"
          ]
        }
      },
      "outputs": [
        {
          "output_type": "display_data",
          "data": {
            "text/plain": [
              "Downloading builder script:   0%|          | 0.00/3.97k [00:00<?, ?B/s]"
            ],
            "application/vnd.jupyter.widget-view+json": {
              "version_major": 2,
              "version_minor": 0,
              "model_id": "10cf8f12d28042128bb4d4c17c49053e"
            }
          },
          "metadata": {}
        },
        {
          "output_type": "display_data",
          "data": {
            "text/plain": [
              "Downloading metadata:   0%|          | 0.00/3.28k [00:00<?, ?B/s]"
            ],
            "application/vnd.jupyter.widget-view+json": {
              "version_major": 2,
              "version_minor": 0,
              "model_id": "985c8cb70f764be2a05fb404fa81edbc"
            }
          },
          "metadata": {}
        },
        {
          "output_type": "display_data",
          "data": {
            "text/plain": [
              "Downloading readme:   0%|          | 0.00/8.78k [00:00<?, ?B/s]"
            ],
            "application/vnd.jupyter.widget-view+json": {
              "version_major": 2,
              "version_minor": 0,
              "model_id": "02bc590ed1654a27886569f113259b87"
            }
          },
          "metadata": {}
        },
        {
          "output_type": "display_data",
          "data": {
            "text/plain": [
              "Downloading data:   0%|          | 0.00/592k [00:00<?, ?B/s]"
            ],
            "application/vnd.jupyter.widget-view+json": {
              "version_major": 2,
              "version_minor": 0,
              "model_id": "fc31a935d9774334ab75a4893eec463b"
            }
          },
          "metadata": {}
        },
        {
          "output_type": "display_data",
          "data": {
            "text/plain": [
              "Downloading data:   0%|          | 0.00/74.0k [00:00<?, ?B/s]"
            ],
            "application/vnd.jupyter.widget-view+json": {
              "version_major": 2,
              "version_minor": 0,
              "model_id": "4a2853cf6f54499dac643efaa4a00923"
            }
          },
          "metadata": {}
        },
        {
          "output_type": "display_data",
          "data": {
            "text/plain": [
              "Downloading data:   0%|          | 0.00/74.9k [00:00<?, ?B/s]"
            ],
            "application/vnd.jupyter.widget-view+json": {
              "version_major": 2,
              "version_minor": 0,
              "model_id": "154ed01bb0374d1e924efa7eaa7803f8"
            }
          },
          "metadata": {}
        },
        {
          "output_type": "display_data",
          "data": {
            "text/plain": [
              "Generating train split:   0%|          | 0/16000 [00:00<?, ? examples/s]"
            ],
            "application/vnd.jupyter.widget-view+json": {
              "version_major": 2,
              "version_minor": 0,
              "model_id": "af63ad39355943eaa7c7def1c97ace6b"
            }
          },
          "metadata": {}
        },
        {
          "output_type": "display_data",
          "data": {
            "text/plain": [
              "Generating validation split:   0%|          | 0/2000 [00:00<?, ? examples/s]"
            ],
            "application/vnd.jupyter.widget-view+json": {
              "version_major": 2,
              "version_minor": 0,
              "model_id": "2b49d0cd9ba246ce972a18cd26acf813"
            }
          },
          "metadata": {}
        },
        {
          "output_type": "display_data",
          "data": {
            "text/plain": [
              "Generating test split:   0%|          | 0/2000 [00:00<?, ? examples/s]"
            ],
            "application/vnd.jupyter.widget-view+json": {
              "version_major": 2,
              "version_minor": 0,
              "model_id": "646723d50578416185ee353813688292"
            }
          },
          "metadata": {}
        }
      ],
      "source": [
        "emotions = load_dataset('emotion', trust_remote_code=True)"
      ]
    },
    {
      "cell_type": "markdown",
      "id": "5c111427-45bb-4bab-8f35-2050ed4ac600",
      "metadata": {
        "id": "5c111427-45bb-4bab-8f35-2050ed4ac600"
      },
      "source": [
        "### Exercise"
      ]
    },
    {
      "cell_type": "markdown",
      "id": "54891b7c-f3de-462a-91a3-de7333ab5204",
      "metadata": {
        "id": "54891b7c-f3de-462a-91a3-de7333ab5204"
      },
      "source": [
        "Select the first five examples in the training set, and show the corresponding tweet and encoded label. Peek into the training set object in order to figure out how to decode the numeric labels into the corresponding emotions."
      ]
    },
    {
      "cell_type": "code",
      "source": [
        "emotions"
      ],
      "metadata": {
        "id": "-NMoNL7OfaiP",
        "outputId": "6d46b0dd-a514-4963-811f-a3308d3c7189",
        "colab": {
          "base_uri": "https://localhost:8080/"
        }
      },
      "id": "-NMoNL7OfaiP",
      "execution_count": null,
      "outputs": [
        {
          "output_type": "execute_result",
          "data": {
            "text/plain": [
              "DatasetDict({\n",
              "    train: Dataset({\n",
              "        features: ['text', 'label'],\n",
              "        num_rows: 16000\n",
              "    })\n",
              "    validation: Dataset({\n",
              "        features: ['text', 'label'],\n",
              "        num_rows: 2000\n",
              "    })\n",
              "    test: Dataset({\n",
              "        features: ['text', 'label'],\n",
              "        num_rows: 2000\n",
              "    })\n",
              "})"
            ]
          },
          "metadata": {},
          "execution_count": 45
        }
      ]
    },
    {
      "cell_type": "code",
      "source": [
        "first5= []\n",
        "i=0\n",
        "for elem in emotions['train']:\n",
        "  i=i+1\n",
        "  first5.append(elem)\n",
        "  if(i>5):\n",
        "    break\n",
        "\n",
        "print(first5[0]['text'],first5[0]['label'])"
      ],
      "metadata": {
        "id": "XDCrQ4B8f0uW",
        "outputId": "a673e5c6-fb0b-42e4-af52-6e3e399daf2c",
        "colab": {
          "base_uri": "https://localhost:8080/"
        }
      },
      "id": "XDCrQ4B8f0uW",
      "execution_count": null,
      "outputs": [
        {
          "output_type": "stream",
          "name": "stdout",
          "text": [
            "i didnt feel humiliated 0\n"
          ]
        }
      ]
    },
    {
      "cell_type": "markdown",
      "id": "d16347f6-cc7c-4718-b273-ab224cd86734",
      "metadata": {
        "id": "d16347f6-cc7c-4718-b273-ab224cd86734"
      },
      "source": [
        "### Next"
      ]
    },
    {
      "cell_type": "markdown",
      "id": "85cde951-2af8-4005-8e5b-621395a49e56",
      "metadata": {
        "id": "85cde951-2af8-4005-8e5b-621395a49e56"
      },
      "source": [
        "We will use from now on the DistilBERT model, whose tokenizer is downloaded from Hugging Face in the next cell."
      ]
    },
    {
      "cell_type": "code",
      "execution_count": null,
      "id": "P6D0CDMuyMoL",
      "metadata": {
        "id": "P6D0CDMuyMoL",
        "outputId": "e1c7f8ab-9893-476f-ae92-068395450845",
        "colab": {
          "base_uri": "https://localhost:8080/",
          "height": 145,
          "referenced_widgets": [
            "233722ff2b53416f85ddf974443f757f",
            "9aea66cdfbf244869333d2e744d67716",
            "2c0a7fb549cb47b4a57fdc73ee65ad7c",
            "1d6d7a0f8a2142049e6dfda1528941db",
            "7991ff775b924489bef92e1b27d21568",
            "840074d073d94cb3b2fd2b69af8064df",
            "1da5226b53cd44a28774950187f58b9c",
            "95e0de8a99484506994ef9c8b5ade4f8",
            "154f8597f57a4e2289ae570e10d2d454",
            "db7853bf68a04e669e420befc68942fb",
            "ecec5a43320f4245959f24ca8e4df7ea",
            "d91583b0de55402aaaa4de02bd5b78fe",
            "8e9e23a93f9a4eb6baba7842605fdf41",
            "f944e15b18d0434a95d716af030cc4cf",
            "8d8c16c97a2f43518faafb2394c6df0e",
            "164be758f73b4f55822dd9dea7cbba14",
            "9b58c80d0ad34cb9891504802e8924c9",
            "818fead527614815816868215abe1572",
            "7be127c9faea46fa94526268d6424b2d",
            "1b0d29f5124843f39afd88387601aa19",
            "1ae3fb3e1b4b4904ac75096838a53e65",
            "87f3d6b759f441d495f618aa4e400162",
            "c30f030e5275446c980db3b04913f289",
            "330e5808bee5480692ac0a7aaff761ce",
            "700a2639f073478f86fbaad446394653",
            "71c5fa541fe04dda9ff7ccd5c6dde54f",
            "566269e1d7e44684b59a4b59f35e147c",
            "fc994d5667ef4c6a9fa32101f5a3e77f",
            "7dd7df9d8eb0478ca7f466d1454f32ec",
            "31ad65b05a754d7d9905b3ac020b07b4",
            "581e63593c8041b6bd049da8e26696d9",
            "0567a60fff2544b595e202e161276eb3",
            "6c5f47f33f1f45b6b64ec3ef3fdd4d66",
            "007cd4d92a964710b9867ebcf5d2c4c5",
            "0774e36b87754f69a1d5a61f4d6dfa65",
            "a5d6caecaf4a4efbbd7db089cbba5e83",
            "2c623efd856549fbbccb9d8effc3be7b",
            "a6c9ff97c71d466abfb75a7b3ebd0fbe",
            "31cfe0e43d4242ad95227f5e2e9829e0",
            "6038be1c85164ab59996651d897b43b2",
            "a7185b0dd8354c02be752b9fdf6b027b",
            "3244d7a30bd04e068ea58d1a340f2411",
            "0b566d97544e4b45ab0803c2f4803e33",
            "a434b493bc764f6897f6a9bc890bd5b7"
          ]
        }
      },
      "outputs": [
        {
          "output_type": "display_data",
          "data": {
            "text/plain": [
              "tokenizer_config.json:   0%|          | 0.00/28.0 [00:00<?, ?B/s]"
            ],
            "application/vnd.jupyter.widget-view+json": {
              "version_major": 2,
              "version_minor": 0,
              "model_id": "233722ff2b53416f85ddf974443f757f"
            }
          },
          "metadata": {}
        },
        {
          "output_type": "display_data",
          "data": {
            "text/plain": [
              "config.json:   0%|          | 0.00/483 [00:00<?, ?B/s]"
            ],
            "application/vnd.jupyter.widget-view+json": {
              "version_major": 2,
              "version_minor": 0,
              "model_id": "d91583b0de55402aaaa4de02bd5b78fe"
            }
          },
          "metadata": {}
        },
        {
          "output_type": "display_data",
          "data": {
            "text/plain": [
              "vocab.txt:   0%|          | 0.00/232k [00:00<?, ?B/s]"
            ],
            "application/vnd.jupyter.widget-view+json": {
              "version_major": 2,
              "version_minor": 0,
              "model_id": "c30f030e5275446c980db3b04913f289"
            }
          },
          "metadata": {}
        },
        {
          "output_type": "display_data",
          "data": {
            "text/plain": [
              "tokenizer.json:   0%|          | 0.00/466k [00:00<?, ?B/s]"
            ],
            "application/vnd.jupyter.widget-view+json": {
              "version_major": 2,
              "version_minor": 0,
              "model_id": "007cd4d92a964710b9867ebcf5d2c4c5"
            }
          },
          "metadata": {}
        }
      ],
      "source": [
        "model_ckpt = 'distilbert-base-uncased'\n",
        "tokenizer = AutoTokenizer.from_pretrained(model_ckpt)"
      ]
    },
    {
      "cell_type": "markdown",
      "id": "17ac6c13-252c-47c2-91bf-9557023dcfd0",
      "metadata": {
        "id": "17ac6c13-252c-47c2-91bf-9557023dcfd0"
      },
      "source": [
        "### Exercise"
      ]
    },
    {
      "cell_type": "markdown",
      "id": "cf320cfe-4ed7-451b-9dbb-e7a948037f37",
      "metadata": {
        "id": "cf320cfe-4ed7-451b-9dbb-e7a948037f37"
      },
      "source": [
        "Encode the 10-th tweet in the training set using the tokenizer associated to DistilBERT. Decode the obtained embeddings and check if some special tokens have been added."
      ]
    },
    {
      "cell_type": "code",
      "source": [
        "tenth = emotions['train'][10]['text']\n",
        "t = tokenizer(tenth)"
      ],
      "metadata": {
        "id": "SXI-AUjqktRP"
      },
      "id": "SXI-AUjqktRP",
      "execution_count": null,
      "outputs": []
    },
    {
      "cell_type": "markdown",
      "id": "a079be11-c7ae-4080-9c60-5fdbd85eda31",
      "metadata": {
        "id": "a079be11-c7ae-4080-9c60-5fdbd85eda31"
      },
      "source": [
        "### Next"
      ]
    },
    {
      "cell_type": "markdown",
      "id": "d59c6eed-6400-44ff-b994-7b3aacd06020",
      "metadata": {
        "id": "d59c6eed-6400-44ff-b994-7b3aacd06020"
      },
      "source": [
        "The following cell converts temporarily the display format of the training set, showing it as a Pandas DataFrame."
      ]
    },
    {
      "cell_type": "code",
      "execution_count": null,
      "id": "ksqIeno5SITZ",
      "metadata": {
        "id": "ksqIeno5SITZ"
      },
      "outputs": [],
      "source": [
        "emotions.set_format(type='pandas')\n",
        "df = emotions['train'][:]\n",
        "df.head()"
      ]
    },
    {
      "cell_type": "markdown",
      "id": "046ec3bf-6251-4983-a7ce-b85d5e69c406",
      "metadata": {
        "id": "046ec3bf-6251-4983-a7ce-b85d5e69c406"
      },
      "source": [
        "### Exercise"
      ]
    },
    {
      "cell_type": "markdown",
      "id": "sn62gMhiSrEr",
      "metadata": {
        "id": "sn62gMhiSrEr"
      },
      "source": [
        "Add to the previous DataFrame a `label_name` column containing the emotion names for each tween."
      ]
    },
    {
      "cell_type": "markdown",
      "id": "2ff97f69-1aef-4e54-84d8-2b41957b3b28",
      "metadata": {
        "id": "2ff97f69-1aef-4e54-84d8-2b41957b3b28"
      },
      "source": [
        "### Exercise"
      ]
    },
    {
      "cell_type": "markdown",
      "id": "f55c06b3-4b02-41fc-bb63-0753978b5547",
      "metadata": {
        "id": "f55c06b3-4b02-41fc-bb63-0753978b5547"
      },
      "source": [
        "Show a bar plot for the absolute frequencies of each emotion in the train set."
      ]
    },
    {
      "cell_type": "markdown",
      "id": "01a11d46-209e-4ecf-9cca-b922cc751b6f",
      "metadata": {
        "id": "01a11d46-209e-4ecf-9cca-b922cc751b6f"
      },
      "source": [
        "### Exercise"
      ]
    },
    {
      "cell_type": "markdown",
      "id": "7089854b-4c29-4cf0-b828-4e86838ab326",
      "metadata": {
        "id": "7089854b-4c29-4cf0-b828-4e86838ab326"
      },
      "source": [
        "For each different emotion, show a box plot illustrating the corresponding distribution of tweet lengths (in terms of their number of words). If possible, align all these plots in a same graphic."
      ]
    },
    {
      "cell_type": "markdown",
      "id": "f6f495f9-2856-408b-b561-661ec86bbf23",
      "metadata": {
        "id": "f6f495f9-2856-408b-b561-661ec86bbf23"
      },
      "source": [
        "### Next"
      ]
    },
    {
      "cell_type": "markdown",
      "id": "2735df76-8513-450e-8c41-b690eabd73eb",
      "metadata": {
        "id": "2735df76-8513-450e-8c41-b690eabd73eb"
      },
      "source": [
        "The next cell resets the display form of the train set to its default, and defines a `tokenize` function which is then used to add to the train set also the tokenized versions of all tweets."
      ]
    },
    {
      "cell_type": "code",
      "execution_count": null,
      "id": "tYr_BoS4U7Kp",
      "metadata": {
        "id": "tYr_BoS4U7Kp"
      },
      "outputs": [],
      "source": [
        "emotions.reset_format()\n",
        "\n",
        "def tokenize(batch):\n",
        "    return tokenizer(batch['text'], padding=True, truncation=True)\n",
        "\n",
        "emotions_encoded = emotions.map(tokenize, batched=True, batch_size=None)"
      ]
    },
    {
      "cell_type": "markdown",
      "id": "eb825660-b003-4975-80da-556ade1941d8",
      "metadata": {
        "id": "eb825660-b003-4975-80da-556ade1941d8"
      },
      "source": [
        "### Exercise"
      ]
    },
    {
      "cell_type": "markdown",
      "id": "ccf940b7-b8a6-4785-af2f-610ecb173ec7",
      "metadata": {
        "id": "ccf940b7-b8a6-4785-af2f-610ecb173ec7"
      },
      "source": [
        "Check that the train dataset has been augmented with the extracted encodings."
      ]
    },
    {
      "cell_type": "markdown",
      "id": "edc91fb0-9659-4362-a712-6ccb0cc183af",
      "metadata": {
        "id": "edc91fb0-9659-4362-a712-6ccb0cc183af"
      },
      "source": [
        "### Next"
      ]
    },
    {
      "cell_type": "markdown",
      "id": "72ae2ea9-2f6e-400f-8cc3-97ad547978ed",
      "metadata": {
        "id": "72ae2ea9-2f6e-400f-8cc3-97ad547978ed"
      },
      "source": [
        "The next cell loads the DistilBERT model and shows how to take an input, feed it to the model, and extract the states of the last hidden layer (that is, the learnt latent encoding for all tokens in the input)."
      ]
    },
    {
      "cell_type": "code",
      "execution_count": null,
      "id": "OTf_MzdkVIMG",
      "metadata": {
        "id": "OTf_MzdkVIMG"
      },
      "outputs": [],
      "source": [
        "model_ckpt = 'distilbert-base-uncased'\n",
        "model = AutoModel.from_pretrained(model_ckpt).to(device)"
      ]
    },
    {
      "cell_type": "code",
      "execution_count": null,
      "id": "xDlnXF5eVaKG",
      "metadata": {
        "id": "xDlnXF5eVaKG"
      },
      "outputs": [],
      "source": [
        "text = 'this is a test'\n",
        "inputs = tokenizer(text, return_tensors='pt')\n",
        "print(f'Input tensor shape: {inputs['input_ids'].size()}')\n",
        "\n",
        "inputs = {k:v.to(device) for k,v in inputs.items()}\n",
        "with torch.no_grad():\n",
        "    outputs = model(**inputs)\n",
        "print(outputs)\n",
        "\n",
        "print(f'Last hidden state tensor shape: {outputs.last_hidden_state.size()}')"
      ]
    },
    {
      "cell_type": "markdown",
      "id": "35250d7e-db2a-44e5-95f7-279ab785b39d",
      "metadata": {
        "id": "35250d7e-db2a-44e5-95f7-279ab785b39d"
      },
      "source": [
        "### Exercise"
      ]
    },
    {
      "cell_type": "markdown",
      "id": "c750108a-a71d-4f5b-ad14-043d10e6a682",
      "metadata": {
        "id": "c750108a-a71d-4f5b-ad14-043d10e6a682"
      },
      "source": [
        "The following function accepts a batch of inputs and returns a dictionary associating the key `hidden_state` to the latent encoding of the first token of each input (that is, the `[CLS]` token). Fill in the missing parts, being sure to place the obtained tensors in the CPU and to subsequently convert them to numpy arrays."
      ]
    },
    {
      "cell_type": "code",
      "execution_count": null,
      "id": "56af3108-08c2-4d0c-bb17-cf5c79ce3764",
      "metadata": {
        "id": "56af3108-08c2-4d0c-bb17-cf5c79ce3764"
      },
      "outputs": [],
      "source": [
        "def extract_hidden_states(batch):\n",
        "    # Place model inputs on the GPU\n",
        "    inputs = <FILL ME>\n",
        "    # Extract last hidden states\n",
        "    with torch.no_grad():\n",
        "        <FILL ME>\n",
        "    # Return vector for [CLS] token\n",
        "    return {'hidden_state': <FILL ME>}"
      ]
    },
    {
      "cell_type": "markdown",
      "id": "9ce605fc-778e-4a8f-9e8f-a5505be16a7d",
      "metadata": {
        "id": "9ce605fc-778e-4a8f-9e8f-a5505be16a7d"
      },
      "source": [
        "### Next"
      ]
    },
    {
      "cell_type": "markdown",
      "id": "8773aaee-1713-42c4-bc19-d078b3f4e95a",
      "metadata": {
        "id": "8773aaee-1713-42c4-bc19-d078b3f4e95a"
      },
      "source": [
        "The next cell applies the `extract_hidden_states` to the train set augmented with the tweet encondings. Note that it is necessary to convert to the internal PyTorch format the columns which have been added."
      ]
    },
    {
      "cell_type": "code",
      "execution_count": null,
      "id": "f1_Eaw3nV-GN",
      "metadata": {
        "id": "f1_Eaw3nV-GN"
      },
      "outputs": [],
      "source": [
        "emotions_encoded.set_format('torch',\n",
        "                            columns=['input_ids', 'attention_mask', 'label'])\n",
        "emotions_hidden = emotions_encoded.map(extract_hidden_states, batched=True)"
      ]
    },
    {
      "cell_type": "markdown",
      "id": "7afe03d4-c12b-4173-9a3c-f0ac2947b0ab",
      "metadata": {
        "id": "7afe03d4-c12b-4173-9a3c-f0ac2947b0ab"
      },
      "source": [
        "### Exercise"
      ]
    },
    {
      "cell_type": "markdown",
      "id": "02ae99af-67fd-4660-a8c7-787ce95565b7",
      "metadata": {
        "id": "02ae99af-67fd-4660-a8c7-787ce95565b7"
      },
      "source": [
        "Visualize the column names of the dataset obtained after `extract_hidden_states` has been applied, and check that a new column with the extracted latent encodings have been added."
      ]
    },
    {
      "cell_type": "markdown",
      "id": "a04fdac1-74cb-4793-b239-d872012dff2d",
      "metadata": {
        "id": "a04fdac1-74cb-4793-b239-d872012dff2d"
      },
      "source": [
        "### Next"
      ]
    },
    {
      "cell_type": "markdown",
      "id": "cd79eb50-8456-40a9-a582-683519d378b6",
      "metadata": {
        "id": "cd79eb50-8456-40a9-a582-683519d378b6"
      },
      "source": [
        "The following cell applies the UMAP dimensionality reduction to obtain a 2D compressed representation of the latent encodings."
      ]
    },
    {
      "cell_type": "code",
      "execution_count": null,
      "id": "rqYu8nPBWPl-",
      "metadata": {
        "id": "rqYu8nPBWPl-"
      },
      "outputs": [],
      "source": [
        "# Scale features to [0,1] range\n",
        "X_scaled = MinMaxScaler().fit_transform(X_train)\n",
        "# Initialize and fit UMAP\n",
        "mapper = UMAP(n_components=2, metric='cosine').fit(X_scaled)\n",
        "# Create a DataFrame of 2D embeddings\n",
        "df_emb = pd.DataFrame(mapper.embedding_, columns=['X', 'Y'])\n",
        "df_emb['label'] = y_train\n",
        "df_emb.head()"
      ]
    },
    {
      "cell_type": "markdown",
      "id": "40a77a6b-3dbe-4b61-8606-596d13b9a4e8",
      "metadata": {
        "id": "40a77a6b-3dbe-4b61-8606-596d13b9a4e8"
      },
      "source": [
        "### Exercise"
      ]
    },
    {
      "cell_type": "markdown",
      "id": "b44c7e12-da96-4ba9-8d56-3be502d80b07",
      "metadata": {
        "id": "b44c7e12-da96-4ba9-8d56-3be502d80b07"
      },
      "source": [
        "Considering each emotion separately, show a graphic (for instance, an hexbin graph--check the matplotlib documentation for the details) that depicts how are distributed all the 2D points in `df_emb` which correspond to that emotion."
      ]
    },
    {
      "cell_type": "markdown",
      "id": "52b1f238-ab73-41c6-b37d-6fb1111aa5ec",
      "metadata": {
        "id": "52b1f238-ab73-41c6-b37d-6fb1111aa5ec"
      },
      "source": [
        "### Exercise"
      ]
    },
    {
      "cell_type": "markdown",
      "id": "cc3c656c-90ae-48a2-b5d7-9636073ed50a",
      "metadata": {
        "id": "cc3c656c-90ae-48a2-b5d7-9636073ed50a"
      },
      "source": [
        "Use the data in `X_train` and `y_train` to train a logistic regression model, setting the maximum number of iterations to 3000. Compute the accuracy of the learnt model on the validation set that you extracted before and visualize the corresponding confusion matrix."
      ]
    },
    {
      "cell_type": "markdown",
      "id": "e386e539-0ad3-423d-9652-c72e61abada4",
      "metadata": {
        "id": "e386e539-0ad3-423d-9652-c72e61abada4"
      },
      "source": [
        "### Exercise"
      ]
    },
    {
      "cell_type": "markdown",
      "id": "876dee36-9231-4971-8833-9ef3a4f0fc72",
      "metadata": {
        "id": "876dee36-9231-4971-8833-9ef3a4f0fc72"
      },
      "source": [
        "Repeat the previous exercise using another supervised ML model of your choice."
      ]
    },
    {
      "cell_type": "markdown",
      "id": "e7304835-75ba-43f5-a710-13ea4f521d4f",
      "metadata": {
        "id": "e7304835-75ba-43f5-a710-13ea4f521d4f"
      },
      "source": [
        "### Exercise"
      ]
    },
    {
      "cell_type": "markdown",
      "id": "0403ed75-eeae-4e80-bca9-0c0647d74c37",
      "metadata": {
        "id": "0403ed75-eeae-4e80-bca9-0c0647d74c37"
      },
      "source": [
        "Attach a classification head to the previously loaded DistilBERT model, using the `AutoModelForSequenceClassification` class."
      ]
    },
    {
      "cell_type": "markdown",
      "id": "7a9dd6b3-f5dc-4020-aae3-9aca33fdc342",
      "metadata": {
        "id": "7a9dd6b3-f5dc-4020-aae3-9aca33fdc342"
      },
      "source": [
        "#### Exercise"
      ]
    },
    {
      "cell_type": "markdown",
      "id": "bc964f9f-912c-4159-90f8-e0c80642980a",
      "metadata": {
        "id": "bc964f9f-912c-4159-90f8-e0c80642980a"
      },
      "source": [
        "While running the code for the previous exercise, you should have obtained a warning. Is this correct?"
      ]
    },
    {
      "cell_type": "markdown",
      "id": "57d40128-2cd4-4519-af26-e677960146d7",
      "metadata": {
        "id": "57d40128-2cd4-4519-af26-e677960146d7"
      },
      "source": [
        "### Next"
      ]
    },
    {
      "cell_type": "markdown",
      "id": "eb4f40f5-6d92-4bf6-84de-1e82a2789db6",
      "metadata": {
        "id": "eb4f40f5-6d92-4bf6-84de-1e82a2789db6"
      },
      "source": [
        "The following cells define the objects which are needed in order to train the model created in the previous exercise."
      ]
    },
    {
      "cell_type": "code",
      "execution_count": null,
      "id": "4rQU-uOEbqg2",
      "metadata": {
        "id": "4rQU-uOEbqg2"
      },
      "outputs": [],
      "source": [
        "batch_size = 64\n",
        "logging_steps = len(emotions_encoded['train']) // batch_size\n",
        "model_name = f'{model_ckpt}-finetuned-emotion'\n",
        "training_args = TrainingArguments(output_dir=model_name,\n",
        "                                  num_train_epochs=2,\n",
        "                                  learning_rate=2e-5,\n",
        "                                  per_device_train_batch_size=batch_size,\n",
        "                                  per_device_eval_batch_size=batch_size,\n",
        "                                  weight_decay=0.01,\n",
        "                                  evaluation_strategy='epoch',\n",
        "                                  disable_tqdm=False,\n",
        "                                  logging_steps=logging_steps,\n",
        "                                  log_level='error')"
      ]
    },
    {
      "cell_type": "code",
      "execution_count": null,
      "id": "Z1ol9Q4_g7dc",
      "metadata": {
        "id": "Z1ol9Q4_g7dc"
      },
      "outputs": [],
      "source": [
        "def compute_metrics(pred):\n",
        "    labels = pred.label_ids\n",
        "    preds = pred.predictions.argmax(-1)\n",
        "    f1 = f1_score(labels, preds, average='weighted')\n",
        "    acc = accuracy_score(labels, preds)\n",
        "    return {'accuracy': acc, 'f1': f1}"
      ]
    },
    {
      "cell_type": "markdown",
      "id": "517adf7b-68b9-4a6d-b792-8fb0546d2dd5",
      "metadata": {
        "id": "517adf7b-68b9-4a6d-b792-8fb0546d2dd5"
      },
      "source": [
        "### Exercise"
      ]
    },
    {
      "cell_type": "markdown",
      "id": "9ab566a5-f5e7-4314-b186-f09988a160db",
      "metadata": {
        "id": "9ab566a5-f5e7-4314-b186-f09988a160db"
      },
      "source": [
        "Use the `Trainer` class in order to train the model we have created (hint: have a look at the official documentation, and if something is not correct you can see the answer in the slides of the lecture)."
      ]
    },
    {
      "cell_type": "markdown",
      "id": "1a85abb6-2feb-48a2-85e3-ebfe6e6eecfc",
      "metadata": {
        "id": "1a85abb6-2feb-48a2-85e3-ebfe6e6eecfc"
      },
      "source": [
        "### Exercise"
      ]
    },
    {
      "cell_type": "markdown",
      "id": "b4c1346b-8b92-4d7f-9ba3-cbc047e3381a",
      "metadata": {
        "id": "b4c1346b-8b92-4d7f-9ba3-cbc047e3381a"
      },
      "source": [
        "Compute the performance metrics for the trained model, and show the corresponding confusion matrix, comparing it with the one of the model based on logistic regression."
      ]
    },
    {
      "cell_type": "markdown",
      "id": "9e5279d2-b515-4020-aef2-93a7ba47ab94",
      "metadata": {
        "id": "9e5279d2-b515-4020-aef2-93a7ba47ab94"
      },
      "source": [
        "### Exercise"
      ]
    },
    {
      "cell_type": "markdown",
      "id": "2d9e3c81-17e4-4b14-9478-ac095dc16419",
      "metadata": {
        "id": "2d9e3c81-17e4-4b14-9478-ac095dc16419"
      },
      "source": [
        "Play with the data provided to `TrainingArguments` in order to slighlty modify the learning process."
      ]
    },
    {
      "cell_type": "markdown",
      "id": "e5eda700-7f34-4027-9857-f62544b7d98c",
      "metadata": {
        "id": "e5eda700-7f34-4027-9857-f62544b7d98c"
      },
      "source": [
        "### Exercise"
      ]
    },
    {
      "cell_type": "markdown",
      "id": "4c7ab9aa-9f5a-4856-ba3c-9c5a18d79c98",
      "metadata": {
        "id": "4c7ab9aa-9f5a-4856-ba3c-9c5a18d79c98"
      },
      "source": [
        "Complete the following cell so that the BLEU score for the provided texts in `source` and `summary` is computed."
      ]
    },
    {
      "cell_type": "code",
      "execution_count": null,
      "id": "f9b52287-9f62-4ff9-9c92-cdc5ef193357",
      "metadata": {
        "id": "f9b52287-9f62-4ff9-9c92-cdc5ef193357"
      },
      "outputs": [],
      "source": [
        "from datasets import load_metric\n",
        "\n",
        "source = 'It is reported that on April, 23rd a lunar eclipse will be visible'\n",
        "         ' between 10PM and 11PM in the surroundings of Athens.'\n",
        "summary = 'A lunar eclipse will be visible around Athens during the night'\n",
        "          ' of April, 23rd.'\n",
        "\n",
        "<FILL ME>"
      ]
    },
    {
      "cell_type": "markdown",
      "id": "d8932411-4dfc-44e8-88c6-270c06899f1b",
      "metadata": {
        "id": "d8932411-4dfc-44e8-88c6-270c06899f1b"
      },
      "source": [
        "#### Exercise"
      ]
    },
    {
      "cell_type": "markdown",
      "id": "aa47572c-029c-4a28-a3f5-0966e4dff6b5",
      "metadata": {
        "id": "aa47572c-029c-4a28-a3f5-0966e4dff6b5"
      },
      "source": [
        "Repeat the previous exercise, now using `'Athens Athens Athens Athens Athens Athens'` as summary."
      ]
    },
    {
      "cell_type": "markdown",
      "id": "be5e1a05-1003-4eac-bc9f-77855d805094",
      "metadata": {
        "id": "be5e1a05-1003-4eac-bc9f-77855d805094"
      },
      "source": [
        "### Exercise"
      ]
    },
    {
      "cell_type": "markdown",
      "id": "bb1fb8f0-af63-42eb-9c2c-736477142afa",
      "metadata": {
        "id": "bb1fb8f0-af63-42eb-9c2c-736477142afa"
      },
      "source": [
        "Compute the ROUGE score for the first summary. Note that the output is richer than with BLUE: for each of the variants of the ROUGE score, only select the `f1measure` value of the `mid` field."
      ]
    },
    {
      "cell_type": "markdown",
      "id": "bd99933f-a6d0-4467-bfe2-4523e0876037",
      "metadata": {
        "id": "bd99933f-a6d0-4467-bfe2-4523e0876037"
      },
      "source": [
        "### Exercise"
      ]
    },
    {
      "cell_type": "markdown",
      "id": "65297bf6-83dc-4441-9f39-7cdc2e285386",
      "metadata": {
        "id": "65297bf6-83dc-4441-9f39-7cdc2e285386"
      },
      "source": [
        "Compute the BLUE score of the text generated in the last exercise using RNNs (you should have saved it in a `generated_text` variable). Note that the source is in this case the whole corpus, which is available in the `data` field of the `CustomDataset` object which you created."
      ]
    },
    {
      "cell_type": "markdown",
      "id": "f4ab62c8-4f0e-47cf-aae8-36a0e731269e",
      "metadata": {
        "id": "f4ab62c8-4f0e-47cf-aae8-36a0e731269e"
      },
      "source": [
        "### Exercise"
      ]
    },
    {
      "cell_type": "markdown",
      "id": "7f8a9e74-ea4f-4daf-b74c-6f588c8cc883",
      "metadata": {
        "id": "7f8a9e74-ea4f-4daf-b74c-6f588c8cc883"
      },
      "source": [
        "Download from Hugging Face any model for summarization and use it on a text of your choice (you can use, for instance, the example text provided in the card of the model you have downloaded). Compute the BLUE and ROUGE scores for the obtained summarization."
      ]
    }
  ],
  "metadata": {
    "accelerator": "GPU",
    "colab": {
      "gpuType": "T4",
      "provenance": [],
      "include_colab_link": true
    },
    "kernelspec": {
      "display_name": "Python 3 (ipykernel)",
      "language": "python",
      "name": "python3"
    },
    "language_info": {
      "codemirror_mode": {
        "name": "ipython",
        "version": 3
      },
      "file_extension": ".py",
      "mimetype": "text/x-python",
      "name": "python",
      "nbconvert_exporter": "python",
      "pygments_lexer": "ipython3",
      "version": "3.10.5"
    },
    "required_libs": [],
    "widgets": {
      "application/vnd.jupyter.widget-state+json": {
        "10cf8f12d28042128bb4d4c17c49053e": {
          "model_module": "@jupyter-widgets/controls",
          "model_name": "HBoxModel",
          "model_module_version": "1.5.0",
          "state": {
            "_dom_classes": [],
            "_model_module": "@jupyter-widgets/controls",
            "_model_module_version": "1.5.0",
            "_model_name": "HBoxModel",
            "_view_count": null,
            "_view_module": "@jupyter-widgets/controls",
            "_view_module_version": "1.5.0",
            "_view_name": "HBoxView",
            "box_style": "",
            "children": [
              "IPY_MODEL_9e1a6e598f1346d693db1963c5f6eed5",
              "IPY_MODEL_befc4b9e9ecb4e47b8f1c99293c52a11",
              "IPY_MODEL_7797f245ebba47fe90ef2b0fb0e58421"
            ],
            "layout": "IPY_MODEL_34f6d510b40b4a27bc13387b58b96f91"
          }
        },
        "9e1a6e598f1346d693db1963c5f6eed5": {
          "model_module": "@jupyter-widgets/controls",
          "model_name": "HTMLModel",
          "model_module_version": "1.5.0",
          "state": {
            "_dom_classes": [],
            "_model_module": "@jupyter-widgets/controls",
            "_model_module_version": "1.5.0",
            "_model_name": "HTMLModel",
            "_view_count": null,
            "_view_module": "@jupyter-widgets/controls",
            "_view_module_version": "1.5.0",
            "_view_name": "HTMLView",
            "description": "",
            "description_tooltip": null,
            "layout": "IPY_MODEL_e9ce5022e1414c7e8ccd597b373ff683",
            "placeholder": "​",
            "style": "IPY_MODEL_cbeec5a8d18943ea8e2ac773da738009",
            "value": "Downloading builder script: 100%"
          }
        },
        "befc4b9e9ecb4e47b8f1c99293c52a11": {
          "model_module": "@jupyter-widgets/controls",
          "model_name": "FloatProgressModel",
          "model_module_version": "1.5.0",
          "state": {
            "_dom_classes": [],
            "_model_module": "@jupyter-widgets/controls",
            "_model_module_version": "1.5.0",
            "_model_name": "FloatProgressModel",
            "_view_count": null,
            "_view_module": "@jupyter-widgets/controls",
            "_view_module_version": "1.5.0",
            "_view_name": "ProgressView",
            "bar_style": "success",
            "description": "",
            "description_tooltip": null,
            "layout": "IPY_MODEL_83933d1cd4124fe48b7984ed8fefaf01",
            "max": 3968,
            "min": 0,
            "orientation": "horizontal",
            "style": "IPY_MODEL_d7afc48783f8475d8356e5d6f8a83b11",
            "value": 3968
          }
        },
        "7797f245ebba47fe90ef2b0fb0e58421": {
          "model_module": "@jupyter-widgets/controls",
          "model_name": "HTMLModel",
          "model_module_version": "1.5.0",
          "state": {
            "_dom_classes": [],
            "_model_module": "@jupyter-widgets/controls",
            "_model_module_version": "1.5.0",
            "_model_name": "HTMLModel",
            "_view_count": null,
            "_view_module": "@jupyter-widgets/controls",
            "_view_module_version": "1.5.0",
            "_view_name": "HTMLView",
            "description": "",
            "description_tooltip": null,
            "layout": "IPY_MODEL_fea93ca6c293499fa6068e7562513eaf",
            "placeholder": "​",
            "style": "IPY_MODEL_13a7954dc5bf411e960578a4ada55df9",
            "value": " 3.97k/3.97k [00:00&lt;00:00, 142kB/s]"
          }
        },
        "34f6d510b40b4a27bc13387b58b96f91": {
          "model_module": "@jupyter-widgets/base",
          "model_name": "LayoutModel",
          "model_module_version": "1.2.0",
          "state": {
            "_model_module": "@jupyter-widgets/base",
            "_model_module_version": "1.2.0",
            "_model_name": "LayoutModel",
            "_view_count": null,
            "_view_module": "@jupyter-widgets/base",
            "_view_module_version": "1.2.0",
            "_view_name": "LayoutView",
            "align_content": null,
            "align_items": null,
            "align_self": null,
            "border": null,
            "bottom": null,
            "display": null,
            "flex": null,
            "flex_flow": null,
            "grid_area": null,
            "grid_auto_columns": null,
            "grid_auto_flow": null,
            "grid_auto_rows": null,
            "grid_column": null,
            "grid_gap": null,
            "grid_row": null,
            "grid_template_areas": null,
            "grid_template_columns": null,
            "grid_template_rows": null,
            "height": null,
            "justify_content": null,
            "justify_items": null,
            "left": null,
            "margin": null,
            "max_height": null,
            "max_width": null,
            "min_height": null,
            "min_width": null,
            "object_fit": null,
            "object_position": null,
            "order": null,
            "overflow": null,
            "overflow_x": null,
            "overflow_y": null,
            "padding": null,
            "right": null,
            "top": null,
            "visibility": null,
            "width": null
          }
        },
        "e9ce5022e1414c7e8ccd597b373ff683": {
          "model_module": "@jupyter-widgets/base",
          "model_name": "LayoutModel",
          "model_module_version": "1.2.0",
          "state": {
            "_model_module": "@jupyter-widgets/base",
            "_model_module_version": "1.2.0",
            "_model_name": "LayoutModel",
            "_view_count": null,
            "_view_module": "@jupyter-widgets/base",
            "_view_module_version": "1.2.0",
            "_view_name": "LayoutView",
            "align_content": null,
            "align_items": null,
            "align_self": null,
            "border": null,
            "bottom": null,
            "display": null,
            "flex": null,
            "flex_flow": null,
            "grid_area": null,
            "grid_auto_columns": null,
            "grid_auto_flow": null,
            "grid_auto_rows": null,
            "grid_column": null,
            "grid_gap": null,
            "grid_row": null,
            "grid_template_areas": null,
            "grid_template_columns": null,
            "grid_template_rows": null,
            "height": null,
            "justify_content": null,
            "justify_items": null,
            "left": null,
            "margin": null,
            "max_height": null,
            "max_width": null,
            "min_height": null,
            "min_width": null,
            "object_fit": null,
            "object_position": null,
            "order": null,
            "overflow": null,
            "overflow_x": null,
            "overflow_y": null,
            "padding": null,
            "right": null,
            "top": null,
            "visibility": null,
            "width": null
          }
        },
        "cbeec5a8d18943ea8e2ac773da738009": {
          "model_module": "@jupyter-widgets/controls",
          "model_name": "DescriptionStyleModel",
          "model_module_version": "1.5.0",
          "state": {
            "_model_module": "@jupyter-widgets/controls",
            "_model_module_version": "1.5.0",
            "_model_name": "DescriptionStyleModel",
            "_view_count": null,
            "_view_module": "@jupyter-widgets/base",
            "_view_module_version": "1.2.0",
            "_view_name": "StyleView",
            "description_width": ""
          }
        },
        "83933d1cd4124fe48b7984ed8fefaf01": {
          "model_module": "@jupyter-widgets/base",
          "model_name": "LayoutModel",
          "model_module_version": "1.2.0",
          "state": {
            "_model_module": "@jupyter-widgets/base",
            "_model_module_version": "1.2.0",
            "_model_name": "LayoutModel",
            "_view_count": null,
            "_view_module": "@jupyter-widgets/base",
            "_view_module_version": "1.2.0",
            "_view_name": "LayoutView",
            "align_content": null,
            "align_items": null,
            "align_self": null,
            "border": null,
            "bottom": null,
            "display": null,
            "flex": null,
            "flex_flow": null,
            "grid_area": null,
            "grid_auto_columns": null,
            "grid_auto_flow": null,
            "grid_auto_rows": null,
            "grid_column": null,
            "grid_gap": null,
            "grid_row": null,
            "grid_template_areas": null,
            "grid_template_columns": null,
            "grid_template_rows": null,
            "height": null,
            "justify_content": null,
            "justify_items": null,
            "left": null,
            "margin": null,
            "max_height": null,
            "max_width": null,
            "min_height": null,
            "min_width": null,
            "object_fit": null,
            "object_position": null,
            "order": null,
            "overflow": null,
            "overflow_x": null,
            "overflow_y": null,
            "padding": null,
            "right": null,
            "top": null,
            "visibility": null,
            "width": null
          }
        },
        "d7afc48783f8475d8356e5d6f8a83b11": {
          "model_module": "@jupyter-widgets/controls",
          "model_name": "ProgressStyleModel",
          "model_module_version": "1.5.0",
          "state": {
            "_model_module": "@jupyter-widgets/controls",
            "_model_module_version": "1.5.0",
            "_model_name": "ProgressStyleModel",
            "_view_count": null,
            "_view_module": "@jupyter-widgets/base",
            "_view_module_version": "1.2.0",
            "_view_name": "StyleView",
            "bar_color": null,
            "description_width": ""
          }
        },
        "fea93ca6c293499fa6068e7562513eaf": {
          "model_module": "@jupyter-widgets/base",
          "model_name": "LayoutModel",
          "model_module_version": "1.2.0",
          "state": {
            "_model_module": "@jupyter-widgets/base",
            "_model_module_version": "1.2.0",
            "_model_name": "LayoutModel",
            "_view_count": null,
            "_view_module": "@jupyter-widgets/base",
            "_view_module_version": "1.2.0",
            "_view_name": "LayoutView",
            "align_content": null,
            "align_items": null,
            "align_self": null,
            "border": null,
            "bottom": null,
            "display": null,
            "flex": null,
            "flex_flow": null,
            "grid_area": null,
            "grid_auto_columns": null,
            "grid_auto_flow": null,
            "grid_auto_rows": null,
            "grid_column": null,
            "grid_gap": null,
            "grid_row": null,
            "grid_template_areas": null,
            "grid_template_columns": null,
            "grid_template_rows": null,
            "height": null,
            "justify_content": null,
            "justify_items": null,
            "left": null,
            "margin": null,
            "max_height": null,
            "max_width": null,
            "min_height": null,
            "min_width": null,
            "object_fit": null,
            "object_position": null,
            "order": null,
            "overflow": null,
            "overflow_x": null,
            "overflow_y": null,
            "padding": null,
            "right": null,
            "top": null,
            "visibility": null,
            "width": null
          }
        },
        "13a7954dc5bf411e960578a4ada55df9": {
          "model_module": "@jupyter-widgets/controls",
          "model_name": "DescriptionStyleModel",
          "model_module_version": "1.5.0",
          "state": {
            "_model_module": "@jupyter-widgets/controls",
            "_model_module_version": "1.5.0",
            "_model_name": "DescriptionStyleModel",
            "_view_count": null,
            "_view_module": "@jupyter-widgets/base",
            "_view_module_version": "1.2.0",
            "_view_name": "StyleView",
            "description_width": ""
          }
        },
        "985c8cb70f764be2a05fb404fa81edbc": {
          "model_module": "@jupyter-widgets/controls",
          "model_name": "HBoxModel",
          "model_module_version": "1.5.0",
          "state": {
            "_dom_classes": [],
            "_model_module": "@jupyter-widgets/controls",
            "_model_module_version": "1.5.0",
            "_model_name": "HBoxModel",
            "_view_count": null,
            "_view_module": "@jupyter-widgets/controls",
            "_view_module_version": "1.5.0",
            "_view_name": "HBoxView",
            "box_style": "",
            "children": [
              "IPY_MODEL_ee85b2bc84d84df39086abcb35a0626d",
              "IPY_MODEL_974fbcee30db4d1189122fff2a43ce21",
              "IPY_MODEL_cddb9ea47da3412ca88dcfc6b1966ba4"
            ],
            "layout": "IPY_MODEL_6c2699fd93924e72b125ad62b7e2a97b"
          }
        },
        "ee85b2bc84d84df39086abcb35a0626d": {
          "model_module": "@jupyter-widgets/controls",
          "model_name": "HTMLModel",
          "model_module_version": "1.5.0",
          "state": {
            "_dom_classes": [],
            "_model_module": "@jupyter-widgets/controls",
            "_model_module_version": "1.5.0",
            "_model_name": "HTMLModel",
            "_view_count": null,
            "_view_module": "@jupyter-widgets/controls",
            "_view_module_version": "1.5.0",
            "_view_name": "HTMLView",
            "description": "",
            "description_tooltip": null,
            "layout": "IPY_MODEL_c8de4cd9e8554ba9a0fc5902e5bf316b",
            "placeholder": "​",
            "style": "IPY_MODEL_f315b135937f44029e50864ab402ca55",
            "value": "Downloading metadata: 100%"
          }
        },
        "974fbcee30db4d1189122fff2a43ce21": {
          "model_module": "@jupyter-widgets/controls",
          "model_name": "FloatProgressModel",
          "model_module_version": "1.5.0",
          "state": {
            "_dom_classes": [],
            "_model_module": "@jupyter-widgets/controls",
            "_model_module_version": "1.5.0",
            "_model_name": "FloatProgressModel",
            "_view_count": null,
            "_view_module": "@jupyter-widgets/controls",
            "_view_module_version": "1.5.0",
            "_view_name": "ProgressView",
            "bar_style": "success",
            "description": "",
            "description_tooltip": null,
            "layout": "IPY_MODEL_c845b95211ad4f08b26f7c65caba1a0c",
            "max": 3280,
            "min": 0,
            "orientation": "horizontal",
            "style": "IPY_MODEL_b310df973b4e4b399bf777a524e220e1",
            "value": 3280
          }
        },
        "cddb9ea47da3412ca88dcfc6b1966ba4": {
          "model_module": "@jupyter-widgets/controls",
          "model_name": "HTMLModel",
          "model_module_version": "1.5.0",
          "state": {
            "_dom_classes": [],
            "_model_module": "@jupyter-widgets/controls",
            "_model_module_version": "1.5.0",
            "_model_name": "HTMLModel",
            "_view_count": null,
            "_view_module": "@jupyter-widgets/controls",
            "_view_module_version": "1.5.0",
            "_view_name": "HTMLView",
            "description": "",
            "description_tooltip": null,
            "layout": "IPY_MODEL_c5dbe2dd32794c35a01ca3b033abd9a5",
            "placeholder": "​",
            "style": "IPY_MODEL_13733cf2639342a390715c42d8445319",
            "value": " 3.28k/3.28k [00:00&lt;00:00, 201kB/s]"
          }
        },
        "6c2699fd93924e72b125ad62b7e2a97b": {
          "model_module": "@jupyter-widgets/base",
          "model_name": "LayoutModel",
          "model_module_version": "1.2.0",
          "state": {
            "_model_module": "@jupyter-widgets/base",
            "_model_module_version": "1.2.0",
            "_model_name": "LayoutModel",
            "_view_count": null,
            "_view_module": "@jupyter-widgets/base",
            "_view_module_version": "1.2.0",
            "_view_name": "LayoutView",
            "align_content": null,
            "align_items": null,
            "align_self": null,
            "border": null,
            "bottom": null,
            "display": null,
            "flex": null,
            "flex_flow": null,
            "grid_area": null,
            "grid_auto_columns": null,
            "grid_auto_flow": null,
            "grid_auto_rows": null,
            "grid_column": null,
            "grid_gap": null,
            "grid_row": null,
            "grid_template_areas": null,
            "grid_template_columns": null,
            "grid_template_rows": null,
            "height": null,
            "justify_content": null,
            "justify_items": null,
            "left": null,
            "margin": null,
            "max_height": null,
            "max_width": null,
            "min_height": null,
            "min_width": null,
            "object_fit": null,
            "object_position": null,
            "order": null,
            "overflow": null,
            "overflow_x": null,
            "overflow_y": null,
            "padding": null,
            "right": null,
            "top": null,
            "visibility": null,
            "width": null
          }
        },
        "c8de4cd9e8554ba9a0fc5902e5bf316b": {
          "model_module": "@jupyter-widgets/base",
          "model_name": "LayoutModel",
          "model_module_version": "1.2.0",
          "state": {
            "_model_module": "@jupyter-widgets/base",
            "_model_module_version": "1.2.0",
            "_model_name": "LayoutModel",
            "_view_count": null,
            "_view_module": "@jupyter-widgets/base",
            "_view_module_version": "1.2.0",
            "_view_name": "LayoutView",
            "align_content": null,
            "align_items": null,
            "align_self": null,
            "border": null,
            "bottom": null,
            "display": null,
            "flex": null,
            "flex_flow": null,
            "grid_area": null,
            "grid_auto_columns": null,
            "grid_auto_flow": null,
            "grid_auto_rows": null,
            "grid_column": null,
            "grid_gap": null,
            "grid_row": null,
            "grid_template_areas": null,
            "grid_template_columns": null,
            "grid_template_rows": null,
            "height": null,
            "justify_content": null,
            "justify_items": null,
            "left": null,
            "margin": null,
            "max_height": null,
            "max_width": null,
            "min_height": null,
            "min_width": null,
            "object_fit": null,
            "object_position": null,
            "order": null,
            "overflow": null,
            "overflow_x": null,
            "overflow_y": null,
            "padding": null,
            "right": null,
            "top": null,
            "visibility": null,
            "width": null
          }
        },
        "f315b135937f44029e50864ab402ca55": {
          "model_module": "@jupyter-widgets/controls",
          "model_name": "DescriptionStyleModel",
          "model_module_version": "1.5.0",
          "state": {
            "_model_module": "@jupyter-widgets/controls",
            "_model_module_version": "1.5.0",
            "_model_name": "DescriptionStyleModel",
            "_view_count": null,
            "_view_module": "@jupyter-widgets/base",
            "_view_module_version": "1.2.0",
            "_view_name": "StyleView",
            "description_width": ""
          }
        },
        "c845b95211ad4f08b26f7c65caba1a0c": {
          "model_module": "@jupyter-widgets/base",
          "model_name": "LayoutModel",
          "model_module_version": "1.2.0",
          "state": {
            "_model_module": "@jupyter-widgets/base",
            "_model_module_version": "1.2.0",
            "_model_name": "LayoutModel",
            "_view_count": null,
            "_view_module": "@jupyter-widgets/base",
            "_view_module_version": "1.2.0",
            "_view_name": "LayoutView",
            "align_content": null,
            "align_items": null,
            "align_self": null,
            "border": null,
            "bottom": null,
            "display": null,
            "flex": null,
            "flex_flow": null,
            "grid_area": null,
            "grid_auto_columns": null,
            "grid_auto_flow": null,
            "grid_auto_rows": null,
            "grid_column": null,
            "grid_gap": null,
            "grid_row": null,
            "grid_template_areas": null,
            "grid_template_columns": null,
            "grid_template_rows": null,
            "height": null,
            "justify_content": null,
            "justify_items": null,
            "left": null,
            "margin": null,
            "max_height": null,
            "max_width": null,
            "min_height": null,
            "min_width": null,
            "object_fit": null,
            "object_position": null,
            "order": null,
            "overflow": null,
            "overflow_x": null,
            "overflow_y": null,
            "padding": null,
            "right": null,
            "top": null,
            "visibility": null,
            "width": null
          }
        },
        "b310df973b4e4b399bf777a524e220e1": {
          "model_module": "@jupyter-widgets/controls",
          "model_name": "ProgressStyleModel",
          "model_module_version": "1.5.0",
          "state": {
            "_model_module": "@jupyter-widgets/controls",
            "_model_module_version": "1.5.0",
            "_model_name": "ProgressStyleModel",
            "_view_count": null,
            "_view_module": "@jupyter-widgets/base",
            "_view_module_version": "1.2.0",
            "_view_name": "StyleView",
            "bar_color": null,
            "description_width": ""
          }
        },
        "c5dbe2dd32794c35a01ca3b033abd9a5": {
          "model_module": "@jupyter-widgets/base",
          "model_name": "LayoutModel",
          "model_module_version": "1.2.0",
          "state": {
            "_model_module": "@jupyter-widgets/base",
            "_model_module_version": "1.2.0",
            "_model_name": "LayoutModel",
            "_view_count": null,
            "_view_module": "@jupyter-widgets/base",
            "_view_module_version": "1.2.0",
            "_view_name": "LayoutView",
            "align_content": null,
            "align_items": null,
            "align_self": null,
            "border": null,
            "bottom": null,
            "display": null,
            "flex": null,
            "flex_flow": null,
            "grid_area": null,
            "grid_auto_columns": null,
            "grid_auto_flow": null,
            "grid_auto_rows": null,
            "grid_column": null,
            "grid_gap": null,
            "grid_row": null,
            "grid_template_areas": null,
            "grid_template_columns": null,
            "grid_template_rows": null,
            "height": null,
            "justify_content": null,
            "justify_items": null,
            "left": null,
            "margin": null,
            "max_height": null,
            "max_width": null,
            "min_height": null,
            "min_width": null,
            "object_fit": null,
            "object_position": null,
            "order": null,
            "overflow": null,
            "overflow_x": null,
            "overflow_y": null,
            "padding": null,
            "right": null,
            "top": null,
            "visibility": null,
            "width": null
          }
        },
        "13733cf2639342a390715c42d8445319": {
          "model_module": "@jupyter-widgets/controls",
          "model_name": "DescriptionStyleModel",
          "model_module_version": "1.5.0",
          "state": {
            "_model_module": "@jupyter-widgets/controls",
            "_model_module_version": "1.5.0",
            "_model_name": "DescriptionStyleModel",
            "_view_count": null,
            "_view_module": "@jupyter-widgets/base",
            "_view_module_version": "1.2.0",
            "_view_name": "StyleView",
            "description_width": ""
          }
        },
        "02bc590ed1654a27886569f113259b87": {
          "model_module": "@jupyter-widgets/controls",
          "model_name": "HBoxModel",
          "model_module_version": "1.5.0",
          "state": {
            "_dom_classes": [],
            "_model_module": "@jupyter-widgets/controls",
            "_model_module_version": "1.5.0",
            "_model_name": "HBoxModel",
            "_view_count": null,
            "_view_module": "@jupyter-widgets/controls",
            "_view_module_version": "1.5.0",
            "_view_name": "HBoxView",
            "box_style": "",
            "children": [
              "IPY_MODEL_e667c25705b54bc5a2dfa6a1f909f12c",
              "IPY_MODEL_0e1701dc0c994ddf8a91c650069e3723",
              "IPY_MODEL_04937cab27724dfcb15e6f9f4315ee66"
            ],
            "layout": "IPY_MODEL_036b0241d98c4fd1bb4be3455ffb852d"
          }
        },
        "e667c25705b54bc5a2dfa6a1f909f12c": {
          "model_module": "@jupyter-widgets/controls",
          "model_name": "HTMLModel",
          "model_module_version": "1.5.0",
          "state": {
            "_dom_classes": [],
            "_model_module": "@jupyter-widgets/controls",
            "_model_module_version": "1.5.0",
            "_model_name": "HTMLModel",
            "_view_count": null,
            "_view_module": "@jupyter-widgets/controls",
            "_view_module_version": "1.5.0",
            "_view_name": "HTMLView",
            "description": "",
            "description_tooltip": null,
            "layout": "IPY_MODEL_47cbdb73c4c5455f9a745044d9ca2a42",
            "placeholder": "​",
            "style": "IPY_MODEL_1e1299949c6f49c6a890aaea54686c9e",
            "value": "Downloading readme: 100%"
          }
        },
        "0e1701dc0c994ddf8a91c650069e3723": {
          "model_module": "@jupyter-widgets/controls",
          "model_name": "FloatProgressModel",
          "model_module_version": "1.5.0",
          "state": {
            "_dom_classes": [],
            "_model_module": "@jupyter-widgets/controls",
            "_model_module_version": "1.5.0",
            "_model_name": "FloatProgressModel",
            "_view_count": null,
            "_view_module": "@jupyter-widgets/controls",
            "_view_module_version": "1.5.0",
            "_view_name": "ProgressView",
            "bar_style": "success",
            "description": "",
            "description_tooltip": null,
            "layout": "IPY_MODEL_84f2cf70d57448ffa5103e0131e0bd04",
            "max": 8780,
            "min": 0,
            "orientation": "horizontal",
            "style": "IPY_MODEL_a22ef405482a4096bdcb483828262be4",
            "value": 8780
          }
        },
        "04937cab27724dfcb15e6f9f4315ee66": {
          "model_module": "@jupyter-widgets/controls",
          "model_name": "HTMLModel",
          "model_module_version": "1.5.0",
          "state": {
            "_dom_classes": [],
            "_model_module": "@jupyter-widgets/controls",
            "_model_module_version": "1.5.0",
            "_model_name": "HTMLModel",
            "_view_count": null,
            "_view_module": "@jupyter-widgets/controls",
            "_view_module_version": "1.5.0",
            "_view_name": "HTMLView",
            "description": "",
            "description_tooltip": null,
            "layout": "IPY_MODEL_50782f108a6b496c91272512d7ac8993",
            "placeholder": "​",
            "style": "IPY_MODEL_aa728f66366b4478b2fffb25a43285ed",
            "value": " 8.78k/8.78k [00:00&lt;00:00, 572kB/s]"
          }
        },
        "036b0241d98c4fd1bb4be3455ffb852d": {
          "model_module": "@jupyter-widgets/base",
          "model_name": "LayoutModel",
          "model_module_version": "1.2.0",
          "state": {
            "_model_module": "@jupyter-widgets/base",
            "_model_module_version": "1.2.0",
            "_model_name": "LayoutModel",
            "_view_count": null,
            "_view_module": "@jupyter-widgets/base",
            "_view_module_version": "1.2.0",
            "_view_name": "LayoutView",
            "align_content": null,
            "align_items": null,
            "align_self": null,
            "border": null,
            "bottom": null,
            "display": null,
            "flex": null,
            "flex_flow": null,
            "grid_area": null,
            "grid_auto_columns": null,
            "grid_auto_flow": null,
            "grid_auto_rows": null,
            "grid_column": null,
            "grid_gap": null,
            "grid_row": null,
            "grid_template_areas": null,
            "grid_template_columns": null,
            "grid_template_rows": null,
            "height": null,
            "justify_content": null,
            "justify_items": null,
            "left": null,
            "margin": null,
            "max_height": null,
            "max_width": null,
            "min_height": null,
            "min_width": null,
            "object_fit": null,
            "object_position": null,
            "order": null,
            "overflow": null,
            "overflow_x": null,
            "overflow_y": null,
            "padding": null,
            "right": null,
            "top": null,
            "visibility": null,
            "width": null
          }
        },
        "47cbdb73c4c5455f9a745044d9ca2a42": {
          "model_module": "@jupyter-widgets/base",
          "model_name": "LayoutModel",
          "model_module_version": "1.2.0",
          "state": {
            "_model_module": "@jupyter-widgets/base",
            "_model_module_version": "1.2.0",
            "_model_name": "LayoutModel",
            "_view_count": null,
            "_view_module": "@jupyter-widgets/base",
            "_view_module_version": "1.2.0",
            "_view_name": "LayoutView",
            "align_content": null,
            "align_items": null,
            "align_self": null,
            "border": null,
            "bottom": null,
            "display": null,
            "flex": null,
            "flex_flow": null,
            "grid_area": null,
            "grid_auto_columns": null,
            "grid_auto_flow": null,
            "grid_auto_rows": null,
            "grid_column": null,
            "grid_gap": null,
            "grid_row": null,
            "grid_template_areas": null,
            "grid_template_columns": null,
            "grid_template_rows": null,
            "height": null,
            "justify_content": null,
            "justify_items": null,
            "left": null,
            "margin": null,
            "max_height": null,
            "max_width": null,
            "min_height": null,
            "min_width": null,
            "object_fit": null,
            "object_position": null,
            "order": null,
            "overflow": null,
            "overflow_x": null,
            "overflow_y": null,
            "padding": null,
            "right": null,
            "top": null,
            "visibility": null,
            "width": null
          }
        },
        "1e1299949c6f49c6a890aaea54686c9e": {
          "model_module": "@jupyter-widgets/controls",
          "model_name": "DescriptionStyleModel",
          "model_module_version": "1.5.0",
          "state": {
            "_model_module": "@jupyter-widgets/controls",
            "_model_module_version": "1.5.0",
            "_model_name": "DescriptionStyleModel",
            "_view_count": null,
            "_view_module": "@jupyter-widgets/base",
            "_view_module_version": "1.2.0",
            "_view_name": "StyleView",
            "description_width": ""
          }
        },
        "84f2cf70d57448ffa5103e0131e0bd04": {
          "model_module": "@jupyter-widgets/base",
          "model_name": "LayoutModel",
          "model_module_version": "1.2.0",
          "state": {
            "_model_module": "@jupyter-widgets/base",
            "_model_module_version": "1.2.0",
            "_model_name": "LayoutModel",
            "_view_count": null,
            "_view_module": "@jupyter-widgets/base",
            "_view_module_version": "1.2.0",
            "_view_name": "LayoutView",
            "align_content": null,
            "align_items": null,
            "align_self": null,
            "border": null,
            "bottom": null,
            "display": null,
            "flex": null,
            "flex_flow": null,
            "grid_area": null,
            "grid_auto_columns": null,
            "grid_auto_flow": null,
            "grid_auto_rows": null,
            "grid_column": null,
            "grid_gap": null,
            "grid_row": null,
            "grid_template_areas": null,
            "grid_template_columns": null,
            "grid_template_rows": null,
            "height": null,
            "justify_content": null,
            "justify_items": null,
            "left": null,
            "margin": null,
            "max_height": null,
            "max_width": null,
            "min_height": null,
            "min_width": null,
            "object_fit": null,
            "object_position": null,
            "order": null,
            "overflow": null,
            "overflow_x": null,
            "overflow_y": null,
            "padding": null,
            "right": null,
            "top": null,
            "visibility": null,
            "width": null
          }
        },
        "a22ef405482a4096bdcb483828262be4": {
          "model_module": "@jupyter-widgets/controls",
          "model_name": "ProgressStyleModel",
          "model_module_version": "1.5.0",
          "state": {
            "_model_module": "@jupyter-widgets/controls",
            "_model_module_version": "1.5.0",
            "_model_name": "ProgressStyleModel",
            "_view_count": null,
            "_view_module": "@jupyter-widgets/base",
            "_view_module_version": "1.2.0",
            "_view_name": "StyleView",
            "bar_color": null,
            "description_width": ""
          }
        },
        "50782f108a6b496c91272512d7ac8993": {
          "model_module": "@jupyter-widgets/base",
          "model_name": "LayoutModel",
          "model_module_version": "1.2.0",
          "state": {
            "_model_module": "@jupyter-widgets/base",
            "_model_module_version": "1.2.0",
            "_model_name": "LayoutModel",
            "_view_count": null,
            "_view_module": "@jupyter-widgets/base",
            "_view_module_version": "1.2.0",
            "_view_name": "LayoutView",
            "align_content": null,
            "align_items": null,
            "align_self": null,
            "border": null,
            "bottom": null,
            "display": null,
            "flex": null,
            "flex_flow": null,
            "grid_area": null,
            "grid_auto_columns": null,
            "grid_auto_flow": null,
            "grid_auto_rows": null,
            "grid_column": null,
            "grid_gap": null,
            "grid_row": null,
            "grid_template_areas": null,
            "grid_template_columns": null,
            "grid_template_rows": null,
            "height": null,
            "justify_content": null,
            "justify_items": null,
            "left": null,
            "margin": null,
            "max_height": null,
            "max_width": null,
            "min_height": null,
            "min_width": null,
            "object_fit": null,
            "object_position": null,
            "order": null,
            "overflow": null,
            "overflow_x": null,
            "overflow_y": null,
            "padding": null,
            "right": null,
            "top": null,
            "visibility": null,
            "width": null
          }
        },
        "aa728f66366b4478b2fffb25a43285ed": {
          "model_module": "@jupyter-widgets/controls",
          "model_name": "DescriptionStyleModel",
          "model_module_version": "1.5.0",
          "state": {
            "_model_module": "@jupyter-widgets/controls",
            "_model_module_version": "1.5.0",
            "_model_name": "DescriptionStyleModel",
            "_view_count": null,
            "_view_module": "@jupyter-widgets/base",
            "_view_module_version": "1.2.0",
            "_view_name": "StyleView",
            "description_width": ""
          }
        },
        "fc31a935d9774334ab75a4893eec463b": {
          "model_module": "@jupyter-widgets/controls",
          "model_name": "HBoxModel",
          "model_module_version": "1.5.0",
          "state": {
            "_dom_classes": [],
            "_model_module": "@jupyter-widgets/controls",
            "_model_module_version": "1.5.0",
            "_model_name": "HBoxModel",
            "_view_count": null,
            "_view_module": "@jupyter-widgets/controls",
            "_view_module_version": "1.5.0",
            "_view_name": "HBoxView",
            "box_style": "",
            "children": [
              "IPY_MODEL_002db7a01d13416785748b9ae2c01c04",
              "IPY_MODEL_3c2cd9ad6f65437e91f2590f31b903cd",
              "IPY_MODEL_0b6861ac380a438b8f0920b08261b9a3"
            ],
            "layout": "IPY_MODEL_1aca0ff808b84195ad82569502b10dd7"
          }
        },
        "002db7a01d13416785748b9ae2c01c04": {
          "model_module": "@jupyter-widgets/controls",
          "model_name": "HTMLModel",
          "model_module_version": "1.5.0",
          "state": {
            "_dom_classes": [],
            "_model_module": "@jupyter-widgets/controls",
            "_model_module_version": "1.5.0",
            "_model_name": "HTMLModel",
            "_view_count": null,
            "_view_module": "@jupyter-widgets/controls",
            "_view_module_version": "1.5.0",
            "_view_name": "HTMLView",
            "description": "",
            "description_tooltip": null,
            "layout": "IPY_MODEL_5aa41cbce60c4245b0335f27fb5dcda4",
            "placeholder": "​",
            "style": "IPY_MODEL_a02a899faa2044e7894db66b3b2b6438",
            "value": "Downloading data: 100%"
          }
        },
        "3c2cd9ad6f65437e91f2590f31b903cd": {
          "model_module": "@jupyter-widgets/controls",
          "model_name": "FloatProgressModel",
          "model_module_version": "1.5.0",
          "state": {
            "_dom_classes": [],
            "_model_module": "@jupyter-widgets/controls",
            "_model_module_version": "1.5.0",
            "_model_name": "FloatProgressModel",
            "_view_count": null,
            "_view_module": "@jupyter-widgets/controls",
            "_view_module_version": "1.5.0",
            "_view_name": "ProgressView",
            "bar_style": "success",
            "description": "",
            "description_tooltip": null,
            "layout": "IPY_MODEL_bc0bab44f02a477e82b9f3aa5cb96758",
            "max": 591930,
            "min": 0,
            "orientation": "horizontal",
            "style": "IPY_MODEL_ab35a50e715a4ad7876e250d7fac1565",
            "value": 591930
          }
        },
        "0b6861ac380a438b8f0920b08261b9a3": {
          "model_module": "@jupyter-widgets/controls",
          "model_name": "HTMLModel",
          "model_module_version": "1.5.0",
          "state": {
            "_dom_classes": [],
            "_model_module": "@jupyter-widgets/controls",
            "_model_module_version": "1.5.0",
            "_model_name": "HTMLModel",
            "_view_count": null,
            "_view_module": "@jupyter-widgets/controls",
            "_view_module_version": "1.5.0",
            "_view_name": "HTMLView",
            "description": "",
            "description_tooltip": null,
            "layout": "IPY_MODEL_dafae7336a204b2985f1085845dfd823",
            "placeholder": "​",
            "style": "IPY_MODEL_ebcf6412abce4e2c997947760b0e007d",
            "value": " 592k/592k [00:00&lt;00:00, 9.18MB/s]"
          }
        },
        "1aca0ff808b84195ad82569502b10dd7": {
          "model_module": "@jupyter-widgets/base",
          "model_name": "LayoutModel",
          "model_module_version": "1.2.0",
          "state": {
            "_model_module": "@jupyter-widgets/base",
            "_model_module_version": "1.2.0",
            "_model_name": "LayoutModel",
            "_view_count": null,
            "_view_module": "@jupyter-widgets/base",
            "_view_module_version": "1.2.0",
            "_view_name": "LayoutView",
            "align_content": null,
            "align_items": null,
            "align_self": null,
            "border": null,
            "bottom": null,
            "display": null,
            "flex": null,
            "flex_flow": null,
            "grid_area": null,
            "grid_auto_columns": null,
            "grid_auto_flow": null,
            "grid_auto_rows": null,
            "grid_column": null,
            "grid_gap": null,
            "grid_row": null,
            "grid_template_areas": null,
            "grid_template_columns": null,
            "grid_template_rows": null,
            "height": null,
            "justify_content": null,
            "justify_items": null,
            "left": null,
            "margin": null,
            "max_height": null,
            "max_width": null,
            "min_height": null,
            "min_width": null,
            "object_fit": null,
            "object_position": null,
            "order": null,
            "overflow": null,
            "overflow_x": null,
            "overflow_y": null,
            "padding": null,
            "right": null,
            "top": null,
            "visibility": null,
            "width": null
          }
        },
        "5aa41cbce60c4245b0335f27fb5dcda4": {
          "model_module": "@jupyter-widgets/base",
          "model_name": "LayoutModel",
          "model_module_version": "1.2.0",
          "state": {
            "_model_module": "@jupyter-widgets/base",
            "_model_module_version": "1.2.0",
            "_model_name": "LayoutModel",
            "_view_count": null,
            "_view_module": "@jupyter-widgets/base",
            "_view_module_version": "1.2.0",
            "_view_name": "LayoutView",
            "align_content": null,
            "align_items": null,
            "align_self": null,
            "border": null,
            "bottom": null,
            "display": null,
            "flex": null,
            "flex_flow": null,
            "grid_area": null,
            "grid_auto_columns": null,
            "grid_auto_flow": null,
            "grid_auto_rows": null,
            "grid_column": null,
            "grid_gap": null,
            "grid_row": null,
            "grid_template_areas": null,
            "grid_template_columns": null,
            "grid_template_rows": null,
            "height": null,
            "justify_content": null,
            "justify_items": null,
            "left": null,
            "margin": null,
            "max_height": null,
            "max_width": null,
            "min_height": null,
            "min_width": null,
            "object_fit": null,
            "object_position": null,
            "order": null,
            "overflow": null,
            "overflow_x": null,
            "overflow_y": null,
            "padding": null,
            "right": null,
            "top": null,
            "visibility": null,
            "width": null
          }
        },
        "a02a899faa2044e7894db66b3b2b6438": {
          "model_module": "@jupyter-widgets/controls",
          "model_name": "DescriptionStyleModel",
          "model_module_version": "1.5.0",
          "state": {
            "_model_module": "@jupyter-widgets/controls",
            "_model_module_version": "1.5.0",
            "_model_name": "DescriptionStyleModel",
            "_view_count": null,
            "_view_module": "@jupyter-widgets/base",
            "_view_module_version": "1.2.0",
            "_view_name": "StyleView",
            "description_width": ""
          }
        },
        "bc0bab44f02a477e82b9f3aa5cb96758": {
          "model_module": "@jupyter-widgets/base",
          "model_name": "LayoutModel",
          "model_module_version": "1.2.0",
          "state": {
            "_model_module": "@jupyter-widgets/base",
            "_model_module_version": "1.2.0",
            "_model_name": "LayoutModel",
            "_view_count": null,
            "_view_module": "@jupyter-widgets/base",
            "_view_module_version": "1.2.0",
            "_view_name": "LayoutView",
            "align_content": null,
            "align_items": null,
            "align_self": null,
            "border": null,
            "bottom": null,
            "display": null,
            "flex": null,
            "flex_flow": null,
            "grid_area": null,
            "grid_auto_columns": null,
            "grid_auto_flow": null,
            "grid_auto_rows": null,
            "grid_column": null,
            "grid_gap": null,
            "grid_row": null,
            "grid_template_areas": null,
            "grid_template_columns": null,
            "grid_template_rows": null,
            "height": null,
            "justify_content": null,
            "justify_items": null,
            "left": null,
            "margin": null,
            "max_height": null,
            "max_width": null,
            "min_height": null,
            "min_width": null,
            "object_fit": null,
            "object_position": null,
            "order": null,
            "overflow": null,
            "overflow_x": null,
            "overflow_y": null,
            "padding": null,
            "right": null,
            "top": null,
            "visibility": null,
            "width": null
          }
        },
        "ab35a50e715a4ad7876e250d7fac1565": {
          "model_module": "@jupyter-widgets/controls",
          "model_name": "ProgressStyleModel",
          "model_module_version": "1.5.0",
          "state": {
            "_model_module": "@jupyter-widgets/controls",
            "_model_module_version": "1.5.0",
            "_model_name": "ProgressStyleModel",
            "_view_count": null,
            "_view_module": "@jupyter-widgets/base",
            "_view_module_version": "1.2.0",
            "_view_name": "StyleView",
            "bar_color": null,
            "description_width": ""
          }
        },
        "dafae7336a204b2985f1085845dfd823": {
          "model_module": "@jupyter-widgets/base",
          "model_name": "LayoutModel",
          "model_module_version": "1.2.0",
          "state": {
            "_model_module": "@jupyter-widgets/base",
            "_model_module_version": "1.2.0",
            "_model_name": "LayoutModel",
            "_view_count": null,
            "_view_module": "@jupyter-widgets/base",
            "_view_module_version": "1.2.0",
            "_view_name": "LayoutView",
            "align_content": null,
            "align_items": null,
            "align_self": null,
            "border": null,
            "bottom": null,
            "display": null,
            "flex": null,
            "flex_flow": null,
            "grid_area": null,
            "grid_auto_columns": null,
            "grid_auto_flow": null,
            "grid_auto_rows": null,
            "grid_column": null,
            "grid_gap": null,
            "grid_row": null,
            "grid_template_areas": null,
            "grid_template_columns": null,
            "grid_template_rows": null,
            "height": null,
            "justify_content": null,
            "justify_items": null,
            "left": null,
            "margin": null,
            "max_height": null,
            "max_width": null,
            "min_height": null,
            "min_width": null,
            "object_fit": null,
            "object_position": null,
            "order": null,
            "overflow": null,
            "overflow_x": null,
            "overflow_y": null,
            "padding": null,
            "right": null,
            "top": null,
            "visibility": null,
            "width": null
          }
        },
        "ebcf6412abce4e2c997947760b0e007d": {
          "model_module": "@jupyter-widgets/controls",
          "model_name": "DescriptionStyleModel",
          "model_module_version": "1.5.0",
          "state": {
            "_model_module": "@jupyter-widgets/controls",
            "_model_module_version": "1.5.0",
            "_model_name": "DescriptionStyleModel",
            "_view_count": null,
            "_view_module": "@jupyter-widgets/base",
            "_view_module_version": "1.2.0",
            "_view_name": "StyleView",
            "description_width": ""
          }
        },
        "4a2853cf6f54499dac643efaa4a00923": {
          "model_module": "@jupyter-widgets/controls",
          "model_name": "HBoxModel",
          "model_module_version": "1.5.0",
          "state": {
            "_dom_classes": [],
            "_model_module": "@jupyter-widgets/controls",
            "_model_module_version": "1.5.0",
            "_model_name": "HBoxModel",
            "_view_count": null,
            "_view_module": "@jupyter-widgets/controls",
            "_view_module_version": "1.5.0",
            "_view_name": "HBoxView",
            "box_style": "",
            "children": [
              "IPY_MODEL_8e106a924e7641e3a9f7279760288ef8",
              "IPY_MODEL_f8ce91efa0ae4d90ba53e3c0b1f897c3",
              "IPY_MODEL_e8b51f2db7e3492597a67b5af976fc05"
            ],
            "layout": "IPY_MODEL_b4182268824d4fd0bd2f53a5093a03ce"
          }
        },
        "8e106a924e7641e3a9f7279760288ef8": {
          "model_module": "@jupyter-widgets/controls",
          "model_name": "HTMLModel",
          "model_module_version": "1.5.0",
          "state": {
            "_dom_classes": [],
            "_model_module": "@jupyter-widgets/controls",
            "_model_module_version": "1.5.0",
            "_model_name": "HTMLModel",
            "_view_count": null,
            "_view_module": "@jupyter-widgets/controls",
            "_view_module_version": "1.5.0",
            "_view_name": "HTMLView",
            "description": "",
            "description_tooltip": null,
            "layout": "IPY_MODEL_20d75b3eb2724d03ba484b84e308b3f4",
            "placeholder": "​",
            "style": "IPY_MODEL_2926e976f83348bc93efd19a56d4cfc9",
            "value": "Downloading data: 100%"
          }
        },
        "f8ce91efa0ae4d90ba53e3c0b1f897c3": {
          "model_module": "@jupyter-widgets/controls",
          "model_name": "FloatProgressModel",
          "model_module_version": "1.5.0",
          "state": {
            "_dom_classes": [],
            "_model_module": "@jupyter-widgets/controls",
            "_model_module_version": "1.5.0",
            "_model_name": "FloatProgressModel",
            "_view_count": null,
            "_view_module": "@jupyter-widgets/controls",
            "_view_module_version": "1.5.0",
            "_view_name": "ProgressView",
            "bar_style": "success",
            "description": "",
            "description_tooltip": null,
            "layout": "IPY_MODEL_0a6a57bfd6a848fbbae38d25b569a859",
            "max": 74018,
            "min": 0,
            "orientation": "horizontal",
            "style": "IPY_MODEL_14faa00941d24a1a8fbecae2b8774dc6",
            "value": 74018
          }
        },
        "e8b51f2db7e3492597a67b5af976fc05": {
          "model_module": "@jupyter-widgets/controls",
          "model_name": "HTMLModel",
          "model_module_version": "1.5.0",
          "state": {
            "_dom_classes": [],
            "_model_module": "@jupyter-widgets/controls",
            "_model_module_version": "1.5.0",
            "_model_name": "HTMLModel",
            "_view_count": null,
            "_view_module": "@jupyter-widgets/controls",
            "_view_module_version": "1.5.0",
            "_view_name": "HTMLView",
            "description": "",
            "description_tooltip": null,
            "layout": "IPY_MODEL_7fab728232144ea4a95d50dfea13bdae",
            "placeholder": "​",
            "style": "IPY_MODEL_8374fe5bab474821b9ab9c795a04b13a",
            "value": " 74.0k/74.0k [00:00&lt;00:00, 3.66MB/s]"
          }
        },
        "b4182268824d4fd0bd2f53a5093a03ce": {
          "model_module": "@jupyter-widgets/base",
          "model_name": "LayoutModel",
          "model_module_version": "1.2.0",
          "state": {
            "_model_module": "@jupyter-widgets/base",
            "_model_module_version": "1.2.0",
            "_model_name": "LayoutModel",
            "_view_count": null,
            "_view_module": "@jupyter-widgets/base",
            "_view_module_version": "1.2.0",
            "_view_name": "LayoutView",
            "align_content": null,
            "align_items": null,
            "align_self": null,
            "border": null,
            "bottom": null,
            "display": null,
            "flex": null,
            "flex_flow": null,
            "grid_area": null,
            "grid_auto_columns": null,
            "grid_auto_flow": null,
            "grid_auto_rows": null,
            "grid_column": null,
            "grid_gap": null,
            "grid_row": null,
            "grid_template_areas": null,
            "grid_template_columns": null,
            "grid_template_rows": null,
            "height": null,
            "justify_content": null,
            "justify_items": null,
            "left": null,
            "margin": null,
            "max_height": null,
            "max_width": null,
            "min_height": null,
            "min_width": null,
            "object_fit": null,
            "object_position": null,
            "order": null,
            "overflow": null,
            "overflow_x": null,
            "overflow_y": null,
            "padding": null,
            "right": null,
            "top": null,
            "visibility": null,
            "width": null
          }
        },
        "20d75b3eb2724d03ba484b84e308b3f4": {
          "model_module": "@jupyter-widgets/base",
          "model_name": "LayoutModel",
          "model_module_version": "1.2.0",
          "state": {
            "_model_module": "@jupyter-widgets/base",
            "_model_module_version": "1.2.0",
            "_model_name": "LayoutModel",
            "_view_count": null,
            "_view_module": "@jupyter-widgets/base",
            "_view_module_version": "1.2.0",
            "_view_name": "LayoutView",
            "align_content": null,
            "align_items": null,
            "align_self": null,
            "border": null,
            "bottom": null,
            "display": null,
            "flex": null,
            "flex_flow": null,
            "grid_area": null,
            "grid_auto_columns": null,
            "grid_auto_flow": null,
            "grid_auto_rows": null,
            "grid_column": null,
            "grid_gap": null,
            "grid_row": null,
            "grid_template_areas": null,
            "grid_template_columns": null,
            "grid_template_rows": null,
            "height": null,
            "justify_content": null,
            "justify_items": null,
            "left": null,
            "margin": null,
            "max_height": null,
            "max_width": null,
            "min_height": null,
            "min_width": null,
            "object_fit": null,
            "object_position": null,
            "order": null,
            "overflow": null,
            "overflow_x": null,
            "overflow_y": null,
            "padding": null,
            "right": null,
            "top": null,
            "visibility": null,
            "width": null
          }
        },
        "2926e976f83348bc93efd19a56d4cfc9": {
          "model_module": "@jupyter-widgets/controls",
          "model_name": "DescriptionStyleModel",
          "model_module_version": "1.5.0",
          "state": {
            "_model_module": "@jupyter-widgets/controls",
            "_model_module_version": "1.5.0",
            "_model_name": "DescriptionStyleModel",
            "_view_count": null,
            "_view_module": "@jupyter-widgets/base",
            "_view_module_version": "1.2.0",
            "_view_name": "StyleView",
            "description_width": ""
          }
        },
        "0a6a57bfd6a848fbbae38d25b569a859": {
          "model_module": "@jupyter-widgets/base",
          "model_name": "LayoutModel",
          "model_module_version": "1.2.0",
          "state": {
            "_model_module": "@jupyter-widgets/base",
            "_model_module_version": "1.2.0",
            "_model_name": "LayoutModel",
            "_view_count": null,
            "_view_module": "@jupyter-widgets/base",
            "_view_module_version": "1.2.0",
            "_view_name": "LayoutView",
            "align_content": null,
            "align_items": null,
            "align_self": null,
            "border": null,
            "bottom": null,
            "display": null,
            "flex": null,
            "flex_flow": null,
            "grid_area": null,
            "grid_auto_columns": null,
            "grid_auto_flow": null,
            "grid_auto_rows": null,
            "grid_column": null,
            "grid_gap": null,
            "grid_row": null,
            "grid_template_areas": null,
            "grid_template_columns": null,
            "grid_template_rows": null,
            "height": null,
            "justify_content": null,
            "justify_items": null,
            "left": null,
            "margin": null,
            "max_height": null,
            "max_width": null,
            "min_height": null,
            "min_width": null,
            "object_fit": null,
            "object_position": null,
            "order": null,
            "overflow": null,
            "overflow_x": null,
            "overflow_y": null,
            "padding": null,
            "right": null,
            "top": null,
            "visibility": null,
            "width": null
          }
        },
        "14faa00941d24a1a8fbecae2b8774dc6": {
          "model_module": "@jupyter-widgets/controls",
          "model_name": "ProgressStyleModel",
          "model_module_version": "1.5.0",
          "state": {
            "_model_module": "@jupyter-widgets/controls",
            "_model_module_version": "1.5.0",
            "_model_name": "ProgressStyleModel",
            "_view_count": null,
            "_view_module": "@jupyter-widgets/base",
            "_view_module_version": "1.2.0",
            "_view_name": "StyleView",
            "bar_color": null,
            "description_width": ""
          }
        },
        "7fab728232144ea4a95d50dfea13bdae": {
          "model_module": "@jupyter-widgets/base",
          "model_name": "LayoutModel",
          "model_module_version": "1.2.0",
          "state": {
            "_model_module": "@jupyter-widgets/base",
            "_model_module_version": "1.2.0",
            "_model_name": "LayoutModel",
            "_view_count": null,
            "_view_module": "@jupyter-widgets/base",
            "_view_module_version": "1.2.0",
            "_view_name": "LayoutView",
            "align_content": null,
            "align_items": null,
            "align_self": null,
            "border": null,
            "bottom": null,
            "display": null,
            "flex": null,
            "flex_flow": null,
            "grid_area": null,
            "grid_auto_columns": null,
            "grid_auto_flow": null,
            "grid_auto_rows": null,
            "grid_column": null,
            "grid_gap": null,
            "grid_row": null,
            "grid_template_areas": null,
            "grid_template_columns": null,
            "grid_template_rows": null,
            "height": null,
            "justify_content": null,
            "justify_items": null,
            "left": null,
            "margin": null,
            "max_height": null,
            "max_width": null,
            "min_height": null,
            "min_width": null,
            "object_fit": null,
            "object_position": null,
            "order": null,
            "overflow": null,
            "overflow_x": null,
            "overflow_y": null,
            "padding": null,
            "right": null,
            "top": null,
            "visibility": null,
            "width": null
          }
        },
        "8374fe5bab474821b9ab9c795a04b13a": {
          "model_module": "@jupyter-widgets/controls",
          "model_name": "DescriptionStyleModel",
          "model_module_version": "1.5.0",
          "state": {
            "_model_module": "@jupyter-widgets/controls",
            "_model_module_version": "1.5.0",
            "_model_name": "DescriptionStyleModel",
            "_view_count": null,
            "_view_module": "@jupyter-widgets/base",
            "_view_module_version": "1.2.0",
            "_view_name": "StyleView",
            "description_width": ""
          }
        },
        "154ed01bb0374d1e924efa7eaa7803f8": {
          "model_module": "@jupyter-widgets/controls",
          "model_name": "HBoxModel",
          "model_module_version": "1.5.0",
          "state": {
            "_dom_classes": [],
            "_model_module": "@jupyter-widgets/controls",
            "_model_module_version": "1.5.0",
            "_model_name": "HBoxModel",
            "_view_count": null,
            "_view_module": "@jupyter-widgets/controls",
            "_view_module_version": "1.5.0",
            "_view_name": "HBoxView",
            "box_style": "",
            "children": [
              "IPY_MODEL_a9195b6da43b43d9babdbcd8e8236771",
              "IPY_MODEL_baf42742e9444be2b3f3097e8f7d8579",
              "IPY_MODEL_579aacbb705545d4a14ce01af1564654"
            ],
            "layout": "IPY_MODEL_e4d988cc13b34d5c9ee5e0951d7a5fe4"
          }
        },
        "a9195b6da43b43d9babdbcd8e8236771": {
          "model_module": "@jupyter-widgets/controls",
          "model_name": "HTMLModel",
          "model_module_version": "1.5.0",
          "state": {
            "_dom_classes": [],
            "_model_module": "@jupyter-widgets/controls",
            "_model_module_version": "1.5.0",
            "_model_name": "HTMLModel",
            "_view_count": null,
            "_view_module": "@jupyter-widgets/controls",
            "_view_module_version": "1.5.0",
            "_view_name": "HTMLView",
            "description": "",
            "description_tooltip": null,
            "layout": "IPY_MODEL_e4fb3c807f644368aa0a5e27947aa1eb",
            "placeholder": "​",
            "style": "IPY_MODEL_a34a5b848ef34ce39311494d8f384039",
            "value": "Downloading data: 100%"
          }
        },
        "baf42742e9444be2b3f3097e8f7d8579": {
          "model_module": "@jupyter-widgets/controls",
          "model_name": "FloatProgressModel",
          "model_module_version": "1.5.0",
          "state": {
            "_dom_classes": [],
            "_model_module": "@jupyter-widgets/controls",
            "_model_module_version": "1.5.0",
            "_model_name": "FloatProgressModel",
            "_view_count": null,
            "_view_module": "@jupyter-widgets/controls",
            "_view_module_version": "1.5.0",
            "_view_name": "ProgressView",
            "bar_style": "success",
            "description": "",
            "description_tooltip": null,
            "layout": "IPY_MODEL_6be95c86050a4c14ab0625dba4833d74",
            "max": 74935,
            "min": 0,
            "orientation": "horizontal",
            "style": "IPY_MODEL_1548da46f2414d2997e2152945f26e93",
            "value": 74935
          }
        },
        "579aacbb705545d4a14ce01af1564654": {
          "model_module": "@jupyter-widgets/controls",
          "model_name": "HTMLModel",
          "model_module_version": "1.5.0",
          "state": {
            "_dom_classes": [],
            "_model_module": "@jupyter-widgets/controls",
            "_model_module_version": "1.5.0",
            "_model_name": "HTMLModel",
            "_view_count": null,
            "_view_module": "@jupyter-widgets/controls",
            "_view_module_version": "1.5.0",
            "_view_name": "HTMLView",
            "description": "",
            "description_tooltip": null,
            "layout": "IPY_MODEL_deefc28dfade4949b6fe8dcba4213873",
            "placeholder": "​",
            "style": "IPY_MODEL_aba6a1100a834ba88259a98364426741",
            "value": " 74.9k/74.9k [00:00&lt;00:00, 2.32MB/s]"
          }
        },
        "e4d988cc13b34d5c9ee5e0951d7a5fe4": {
          "model_module": "@jupyter-widgets/base",
          "model_name": "LayoutModel",
          "model_module_version": "1.2.0",
          "state": {
            "_model_module": "@jupyter-widgets/base",
            "_model_module_version": "1.2.0",
            "_model_name": "LayoutModel",
            "_view_count": null,
            "_view_module": "@jupyter-widgets/base",
            "_view_module_version": "1.2.0",
            "_view_name": "LayoutView",
            "align_content": null,
            "align_items": null,
            "align_self": null,
            "border": null,
            "bottom": null,
            "display": null,
            "flex": null,
            "flex_flow": null,
            "grid_area": null,
            "grid_auto_columns": null,
            "grid_auto_flow": null,
            "grid_auto_rows": null,
            "grid_column": null,
            "grid_gap": null,
            "grid_row": null,
            "grid_template_areas": null,
            "grid_template_columns": null,
            "grid_template_rows": null,
            "height": null,
            "justify_content": null,
            "justify_items": null,
            "left": null,
            "margin": null,
            "max_height": null,
            "max_width": null,
            "min_height": null,
            "min_width": null,
            "object_fit": null,
            "object_position": null,
            "order": null,
            "overflow": null,
            "overflow_x": null,
            "overflow_y": null,
            "padding": null,
            "right": null,
            "top": null,
            "visibility": null,
            "width": null
          }
        },
        "e4fb3c807f644368aa0a5e27947aa1eb": {
          "model_module": "@jupyter-widgets/base",
          "model_name": "LayoutModel",
          "model_module_version": "1.2.0",
          "state": {
            "_model_module": "@jupyter-widgets/base",
            "_model_module_version": "1.2.0",
            "_model_name": "LayoutModel",
            "_view_count": null,
            "_view_module": "@jupyter-widgets/base",
            "_view_module_version": "1.2.0",
            "_view_name": "LayoutView",
            "align_content": null,
            "align_items": null,
            "align_self": null,
            "border": null,
            "bottom": null,
            "display": null,
            "flex": null,
            "flex_flow": null,
            "grid_area": null,
            "grid_auto_columns": null,
            "grid_auto_flow": null,
            "grid_auto_rows": null,
            "grid_column": null,
            "grid_gap": null,
            "grid_row": null,
            "grid_template_areas": null,
            "grid_template_columns": null,
            "grid_template_rows": null,
            "height": null,
            "justify_content": null,
            "justify_items": null,
            "left": null,
            "margin": null,
            "max_height": null,
            "max_width": null,
            "min_height": null,
            "min_width": null,
            "object_fit": null,
            "object_position": null,
            "order": null,
            "overflow": null,
            "overflow_x": null,
            "overflow_y": null,
            "padding": null,
            "right": null,
            "top": null,
            "visibility": null,
            "width": null
          }
        },
        "a34a5b848ef34ce39311494d8f384039": {
          "model_module": "@jupyter-widgets/controls",
          "model_name": "DescriptionStyleModel",
          "model_module_version": "1.5.0",
          "state": {
            "_model_module": "@jupyter-widgets/controls",
            "_model_module_version": "1.5.0",
            "_model_name": "DescriptionStyleModel",
            "_view_count": null,
            "_view_module": "@jupyter-widgets/base",
            "_view_module_version": "1.2.0",
            "_view_name": "StyleView",
            "description_width": ""
          }
        },
        "6be95c86050a4c14ab0625dba4833d74": {
          "model_module": "@jupyter-widgets/base",
          "model_name": "LayoutModel",
          "model_module_version": "1.2.0",
          "state": {
            "_model_module": "@jupyter-widgets/base",
            "_model_module_version": "1.2.0",
            "_model_name": "LayoutModel",
            "_view_count": null,
            "_view_module": "@jupyter-widgets/base",
            "_view_module_version": "1.2.0",
            "_view_name": "LayoutView",
            "align_content": null,
            "align_items": null,
            "align_self": null,
            "border": null,
            "bottom": null,
            "display": null,
            "flex": null,
            "flex_flow": null,
            "grid_area": null,
            "grid_auto_columns": null,
            "grid_auto_flow": null,
            "grid_auto_rows": null,
            "grid_column": null,
            "grid_gap": null,
            "grid_row": null,
            "grid_template_areas": null,
            "grid_template_columns": null,
            "grid_template_rows": null,
            "height": null,
            "justify_content": null,
            "justify_items": null,
            "left": null,
            "margin": null,
            "max_height": null,
            "max_width": null,
            "min_height": null,
            "min_width": null,
            "object_fit": null,
            "object_position": null,
            "order": null,
            "overflow": null,
            "overflow_x": null,
            "overflow_y": null,
            "padding": null,
            "right": null,
            "top": null,
            "visibility": null,
            "width": null
          }
        },
        "1548da46f2414d2997e2152945f26e93": {
          "model_module": "@jupyter-widgets/controls",
          "model_name": "ProgressStyleModel",
          "model_module_version": "1.5.0",
          "state": {
            "_model_module": "@jupyter-widgets/controls",
            "_model_module_version": "1.5.0",
            "_model_name": "ProgressStyleModel",
            "_view_count": null,
            "_view_module": "@jupyter-widgets/base",
            "_view_module_version": "1.2.0",
            "_view_name": "StyleView",
            "bar_color": null,
            "description_width": ""
          }
        },
        "deefc28dfade4949b6fe8dcba4213873": {
          "model_module": "@jupyter-widgets/base",
          "model_name": "LayoutModel",
          "model_module_version": "1.2.0",
          "state": {
            "_model_module": "@jupyter-widgets/base",
            "_model_module_version": "1.2.0",
            "_model_name": "LayoutModel",
            "_view_count": null,
            "_view_module": "@jupyter-widgets/base",
            "_view_module_version": "1.2.0",
            "_view_name": "LayoutView",
            "align_content": null,
            "align_items": null,
            "align_self": null,
            "border": null,
            "bottom": null,
            "display": null,
            "flex": null,
            "flex_flow": null,
            "grid_area": null,
            "grid_auto_columns": null,
            "grid_auto_flow": null,
            "grid_auto_rows": null,
            "grid_column": null,
            "grid_gap": null,
            "grid_row": null,
            "grid_template_areas": null,
            "grid_template_columns": null,
            "grid_template_rows": null,
            "height": null,
            "justify_content": null,
            "justify_items": null,
            "left": null,
            "margin": null,
            "max_height": null,
            "max_width": null,
            "min_height": null,
            "min_width": null,
            "object_fit": null,
            "object_position": null,
            "order": null,
            "overflow": null,
            "overflow_x": null,
            "overflow_y": null,
            "padding": null,
            "right": null,
            "top": null,
            "visibility": null,
            "width": null
          }
        },
        "aba6a1100a834ba88259a98364426741": {
          "model_module": "@jupyter-widgets/controls",
          "model_name": "DescriptionStyleModel",
          "model_module_version": "1.5.0",
          "state": {
            "_model_module": "@jupyter-widgets/controls",
            "_model_module_version": "1.5.0",
            "_model_name": "DescriptionStyleModel",
            "_view_count": null,
            "_view_module": "@jupyter-widgets/base",
            "_view_module_version": "1.2.0",
            "_view_name": "StyleView",
            "description_width": ""
          }
        },
        "af63ad39355943eaa7c7def1c97ace6b": {
          "model_module": "@jupyter-widgets/controls",
          "model_name": "HBoxModel",
          "model_module_version": "1.5.0",
          "state": {
            "_dom_classes": [],
            "_model_module": "@jupyter-widgets/controls",
            "_model_module_version": "1.5.0",
            "_model_name": "HBoxModel",
            "_view_count": null,
            "_view_module": "@jupyter-widgets/controls",
            "_view_module_version": "1.5.0",
            "_view_name": "HBoxView",
            "box_style": "",
            "children": [
              "IPY_MODEL_aca28ef3302541859b4633ac9d15d1cb",
              "IPY_MODEL_cd12941918bd40729d11cebb6ec1903c",
              "IPY_MODEL_be9d1418efa04f68882a0ef410777a60"
            ],
            "layout": "IPY_MODEL_78984a40da384bfa93822560615b4ce7"
          }
        },
        "aca28ef3302541859b4633ac9d15d1cb": {
          "model_module": "@jupyter-widgets/controls",
          "model_name": "HTMLModel",
          "model_module_version": "1.5.0",
          "state": {
            "_dom_classes": [],
            "_model_module": "@jupyter-widgets/controls",
            "_model_module_version": "1.5.0",
            "_model_name": "HTMLModel",
            "_view_count": null,
            "_view_module": "@jupyter-widgets/controls",
            "_view_module_version": "1.5.0",
            "_view_name": "HTMLView",
            "description": "",
            "description_tooltip": null,
            "layout": "IPY_MODEL_da4f06879dce4b88b09a659c3b7453c8",
            "placeholder": "​",
            "style": "IPY_MODEL_71ea9dcb5dfe4338aaf8d37c28903a28",
            "value": "Generating train split: 100%"
          }
        },
        "cd12941918bd40729d11cebb6ec1903c": {
          "model_module": "@jupyter-widgets/controls",
          "model_name": "FloatProgressModel",
          "model_module_version": "1.5.0",
          "state": {
            "_dom_classes": [],
            "_model_module": "@jupyter-widgets/controls",
            "_model_module_version": "1.5.0",
            "_model_name": "FloatProgressModel",
            "_view_count": null,
            "_view_module": "@jupyter-widgets/controls",
            "_view_module_version": "1.5.0",
            "_view_name": "ProgressView",
            "bar_style": "success",
            "description": "",
            "description_tooltip": null,
            "layout": "IPY_MODEL_72af47360b514bed814352fe636d07f3",
            "max": 16000,
            "min": 0,
            "orientation": "horizontal",
            "style": "IPY_MODEL_e8106d4849574969ae3584e9f8180dbd",
            "value": 16000
          }
        },
        "be9d1418efa04f68882a0ef410777a60": {
          "model_module": "@jupyter-widgets/controls",
          "model_name": "HTMLModel",
          "model_module_version": "1.5.0",
          "state": {
            "_dom_classes": [],
            "_model_module": "@jupyter-widgets/controls",
            "_model_module_version": "1.5.0",
            "_model_name": "HTMLModel",
            "_view_count": null,
            "_view_module": "@jupyter-widgets/controls",
            "_view_module_version": "1.5.0",
            "_view_name": "HTMLView",
            "description": "",
            "description_tooltip": null,
            "layout": "IPY_MODEL_f138f546da5e4c9c95d8b99cc91fe670",
            "placeholder": "​",
            "style": "IPY_MODEL_144201a3741e4241aa471a69fcc7b9d4",
            "value": " 16000/16000 [00:00&lt;00:00, 31477.97 examples/s]"
          }
        },
        "78984a40da384bfa93822560615b4ce7": {
          "model_module": "@jupyter-widgets/base",
          "model_name": "LayoutModel",
          "model_module_version": "1.2.0",
          "state": {
            "_model_module": "@jupyter-widgets/base",
            "_model_module_version": "1.2.0",
            "_model_name": "LayoutModel",
            "_view_count": null,
            "_view_module": "@jupyter-widgets/base",
            "_view_module_version": "1.2.0",
            "_view_name": "LayoutView",
            "align_content": null,
            "align_items": null,
            "align_self": null,
            "border": null,
            "bottom": null,
            "display": null,
            "flex": null,
            "flex_flow": null,
            "grid_area": null,
            "grid_auto_columns": null,
            "grid_auto_flow": null,
            "grid_auto_rows": null,
            "grid_column": null,
            "grid_gap": null,
            "grid_row": null,
            "grid_template_areas": null,
            "grid_template_columns": null,
            "grid_template_rows": null,
            "height": null,
            "justify_content": null,
            "justify_items": null,
            "left": null,
            "margin": null,
            "max_height": null,
            "max_width": null,
            "min_height": null,
            "min_width": null,
            "object_fit": null,
            "object_position": null,
            "order": null,
            "overflow": null,
            "overflow_x": null,
            "overflow_y": null,
            "padding": null,
            "right": null,
            "top": null,
            "visibility": null,
            "width": null
          }
        },
        "da4f06879dce4b88b09a659c3b7453c8": {
          "model_module": "@jupyter-widgets/base",
          "model_name": "LayoutModel",
          "model_module_version": "1.2.0",
          "state": {
            "_model_module": "@jupyter-widgets/base",
            "_model_module_version": "1.2.0",
            "_model_name": "LayoutModel",
            "_view_count": null,
            "_view_module": "@jupyter-widgets/base",
            "_view_module_version": "1.2.0",
            "_view_name": "LayoutView",
            "align_content": null,
            "align_items": null,
            "align_self": null,
            "border": null,
            "bottom": null,
            "display": null,
            "flex": null,
            "flex_flow": null,
            "grid_area": null,
            "grid_auto_columns": null,
            "grid_auto_flow": null,
            "grid_auto_rows": null,
            "grid_column": null,
            "grid_gap": null,
            "grid_row": null,
            "grid_template_areas": null,
            "grid_template_columns": null,
            "grid_template_rows": null,
            "height": null,
            "justify_content": null,
            "justify_items": null,
            "left": null,
            "margin": null,
            "max_height": null,
            "max_width": null,
            "min_height": null,
            "min_width": null,
            "object_fit": null,
            "object_position": null,
            "order": null,
            "overflow": null,
            "overflow_x": null,
            "overflow_y": null,
            "padding": null,
            "right": null,
            "top": null,
            "visibility": null,
            "width": null
          }
        },
        "71ea9dcb5dfe4338aaf8d37c28903a28": {
          "model_module": "@jupyter-widgets/controls",
          "model_name": "DescriptionStyleModel",
          "model_module_version": "1.5.0",
          "state": {
            "_model_module": "@jupyter-widgets/controls",
            "_model_module_version": "1.5.0",
            "_model_name": "DescriptionStyleModel",
            "_view_count": null,
            "_view_module": "@jupyter-widgets/base",
            "_view_module_version": "1.2.0",
            "_view_name": "StyleView",
            "description_width": ""
          }
        },
        "72af47360b514bed814352fe636d07f3": {
          "model_module": "@jupyter-widgets/base",
          "model_name": "LayoutModel",
          "model_module_version": "1.2.0",
          "state": {
            "_model_module": "@jupyter-widgets/base",
            "_model_module_version": "1.2.0",
            "_model_name": "LayoutModel",
            "_view_count": null,
            "_view_module": "@jupyter-widgets/base",
            "_view_module_version": "1.2.0",
            "_view_name": "LayoutView",
            "align_content": null,
            "align_items": null,
            "align_self": null,
            "border": null,
            "bottom": null,
            "display": null,
            "flex": null,
            "flex_flow": null,
            "grid_area": null,
            "grid_auto_columns": null,
            "grid_auto_flow": null,
            "grid_auto_rows": null,
            "grid_column": null,
            "grid_gap": null,
            "grid_row": null,
            "grid_template_areas": null,
            "grid_template_columns": null,
            "grid_template_rows": null,
            "height": null,
            "justify_content": null,
            "justify_items": null,
            "left": null,
            "margin": null,
            "max_height": null,
            "max_width": null,
            "min_height": null,
            "min_width": null,
            "object_fit": null,
            "object_position": null,
            "order": null,
            "overflow": null,
            "overflow_x": null,
            "overflow_y": null,
            "padding": null,
            "right": null,
            "top": null,
            "visibility": null,
            "width": null
          }
        },
        "e8106d4849574969ae3584e9f8180dbd": {
          "model_module": "@jupyter-widgets/controls",
          "model_name": "ProgressStyleModel",
          "model_module_version": "1.5.0",
          "state": {
            "_model_module": "@jupyter-widgets/controls",
            "_model_module_version": "1.5.0",
            "_model_name": "ProgressStyleModel",
            "_view_count": null,
            "_view_module": "@jupyter-widgets/base",
            "_view_module_version": "1.2.0",
            "_view_name": "StyleView",
            "bar_color": null,
            "description_width": ""
          }
        },
        "f138f546da5e4c9c95d8b99cc91fe670": {
          "model_module": "@jupyter-widgets/base",
          "model_name": "LayoutModel",
          "model_module_version": "1.2.0",
          "state": {
            "_model_module": "@jupyter-widgets/base",
            "_model_module_version": "1.2.0",
            "_model_name": "LayoutModel",
            "_view_count": null,
            "_view_module": "@jupyter-widgets/base",
            "_view_module_version": "1.2.0",
            "_view_name": "LayoutView",
            "align_content": null,
            "align_items": null,
            "align_self": null,
            "border": null,
            "bottom": null,
            "display": null,
            "flex": null,
            "flex_flow": null,
            "grid_area": null,
            "grid_auto_columns": null,
            "grid_auto_flow": null,
            "grid_auto_rows": null,
            "grid_column": null,
            "grid_gap": null,
            "grid_row": null,
            "grid_template_areas": null,
            "grid_template_columns": null,
            "grid_template_rows": null,
            "height": null,
            "justify_content": null,
            "justify_items": null,
            "left": null,
            "margin": null,
            "max_height": null,
            "max_width": null,
            "min_height": null,
            "min_width": null,
            "object_fit": null,
            "object_position": null,
            "order": null,
            "overflow": null,
            "overflow_x": null,
            "overflow_y": null,
            "padding": null,
            "right": null,
            "top": null,
            "visibility": null,
            "width": null
          }
        },
        "144201a3741e4241aa471a69fcc7b9d4": {
          "model_module": "@jupyter-widgets/controls",
          "model_name": "DescriptionStyleModel",
          "model_module_version": "1.5.0",
          "state": {
            "_model_module": "@jupyter-widgets/controls",
            "_model_module_version": "1.5.0",
            "_model_name": "DescriptionStyleModel",
            "_view_count": null,
            "_view_module": "@jupyter-widgets/base",
            "_view_module_version": "1.2.0",
            "_view_name": "StyleView",
            "description_width": ""
          }
        },
        "2b49d0cd9ba246ce972a18cd26acf813": {
          "model_module": "@jupyter-widgets/controls",
          "model_name": "HBoxModel",
          "model_module_version": "1.5.0",
          "state": {
            "_dom_classes": [],
            "_model_module": "@jupyter-widgets/controls",
            "_model_module_version": "1.5.0",
            "_model_name": "HBoxModel",
            "_view_count": null,
            "_view_module": "@jupyter-widgets/controls",
            "_view_module_version": "1.5.0",
            "_view_name": "HBoxView",
            "box_style": "",
            "children": [
              "IPY_MODEL_d61f8b467e81493597463ed2448a937d",
              "IPY_MODEL_940e3beb3c194d6886d9fae4baf13c92",
              "IPY_MODEL_22da8588712f46f08e0d6c550d8a7f20"
            ],
            "layout": "IPY_MODEL_64903fb6288a48e699532040c4da1167"
          }
        },
        "d61f8b467e81493597463ed2448a937d": {
          "model_module": "@jupyter-widgets/controls",
          "model_name": "HTMLModel",
          "model_module_version": "1.5.0",
          "state": {
            "_dom_classes": [],
            "_model_module": "@jupyter-widgets/controls",
            "_model_module_version": "1.5.0",
            "_model_name": "HTMLModel",
            "_view_count": null,
            "_view_module": "@jupyter-widgets/controls",
            "_view_module_version": "1.5.0",
            "_view_name": "HTMLView",
            "description": "",
            "description_tooltip": null,
            "layout": "IPY_MODEL_757e5bdb348d48cc86d5cb02433b46aa",
            "placeholder": "​",
            "style": "IPY_MODEL_81346e43f7d44e1a8d295487650da98e",
            "value": "Generating validation split: 100%"
          }
        },
        "940e3beb3c194d6886d9fae4baf13c92": {
          "model_module": "@jupyter-widgets/controls",
          "model_name": "FloatProgressModel",
          "model_module_version": "1.5.0",
          "state": {
            "_dom_classes": [],
            "_model_module": "@jupyter-widgets/controls",
            "_model_module_version": "1.5.0",
            "_model_name": "FloatProgressModel",
            "_view_count": null,
            "_view_module": "@jupyter-widgets/controls",
            "_view_module_version": "1.5.0",
            "_view_name": "ProgressView",
            "bar_style": "success",
            "description": "",
            "description_tooltip": null,
            "layout": "IPY_MODEL_886cd4fa9cdc4a6a842588d78d3afbde",
            "max": 2000,
            "min": 0,
            "orientation": "horizontal",
            "style": "IPY_MODEL_6350142e47214beb9bb3d0354a0cdf5b",
            "value": 2000
          }
        },
        "22da8588712f46f08e0d6c550d8a7f20": {
          "model_module": "@jupyter-widgets/controls",
          "model_name": "HTMLModel",
          "model_module_version": "1.5.0",
          "state": {
            "_dom_classes": [],
            "_model_module": "@jupyter-widgets/controls",
            "_model_module_version": "1.5.0",
            "_model_name": "HTMLModel",
            "_view_count": null,
            "_view_module": "@jupyter-widgets/controls",
            "_view_module_version": "1.5.0",
            "_view_name": "HTMLView",
            "description": "",
            "description_tooltip": null,
            "layout": "IPY_MODEL_385708a6ed7d4e3d99ce736d80125bde",
            "placeholder": "​",
            "style": "IPY_MODEL_bc73aa138d004c179dec6cb561c7ccb0",
            "value": " 2000/2000 [00:00&lt;00:00, 19619.81 examples/s]"
          }
        },
        "64903fb6288a48e699532040c4da1167": {
          "model_module": "@jupyter-widgets/base",
          "model_name": "LayoutModel",
          "model_module_version": "1.2.0",
          "state": {
            "_model_module": "@jupyter-widgets/base",
            "_model_module_version": "1.2.0",
            "_model_name": "LayoutModel",
            "_view_count": null,
            "_view_module": "@jupyter-widgets/base",
            "_view_module_version": "1.2.0",
            "_view_name": "LayoutView",
            "align_content": null,
            "align_items": null,
            "align_self": null,
            "border": null,
            "bottom": null,
            "display": null,
            "flex": null,
            "flex_flow": null,
            "grid_area": null,
            "grid_auto_columns": null,
            "grid_auto_flow": null,
            "grid_auto_rows": null,
            "grid_column": null,
            "grid_gap": null,
            "grid_row": null,
            "grid_template_areas": null,
            "grid_template_columns": null,
            "grid_template_rows": null,
            "height": null,
            "justify_content": null,
            "justify_items": null,
            "left": null,
            "margin": null,
            "max_height": null,
            "max_width": null,
            "min_height": null,
            "min_width": null,
            "object_fit": null,
            "object_position": null,
            "order": null,
            "overflow": null,
            "overflow_x": null,
            "overflow_y": null,
            "padding": null,
            "right": null,
            "top": null,
            "visibility": null,
            "width": null
          }
        },
        "757e5bdb348d48cc86d5cb02433b46aa": {
          "model_module": "@jupyter-widgets/base",
          "model_name": "LayoutModel",
          "model_module_version": "1.2.0",
          "state": {
            "_model_module": "@jupyter-widgets/base",
            "_model_module_version": "1.2.0",
            "_model_name": "LayoutModel",
            "_view_count": null,
            "_view_module": "@jupyter-widgets/base",
            "_view_module_version": "1.2.0",
            "_view_name": "LayoutView",
            "align_content": null,
            "align_items": null,
            "align_self": null,
            "border": null,
            "bottom": null,
            "display": null,
            "flex": null,
            "flex_flow": null,
            "grid_area": null,
            "grid_auto_columns": null,
            "grid_auto_flow": null,
            "grid_auto_rows": null,
            "grid_column": null,
            "grid_gap": null,
            "grid_row": null,
            "grid_template_areas": null,
            "grid_template_columns": null,
            "grid_template_rows": null,
            "height": null,
            "justify_content": null,
            "justify_items": null,
            "left": null,
            "margin": null,
            "max_height": null,
            "max_width": null,
            "min_height": null,
            "min_width": null,
            "object_fit": null,
            "object_position": null,
            "order": null,
            "overflow": null,
            "overflow_x": null,
            "overflow_y": null,
            "padding": null,
            "right": null,
            "top": null,
            "visibility": null,
            "width": null
          }
        },
        "81346e43f7d44e1a8d295487650da98e": {
          "model_module": "@jupyter-widgets/controls",
          "model_name": "DescriptionStyleModel",
          "model_module_version": "1.5.0",
          "state": {
            "_model_module": "@jupyter-widgets/controls",
            "_model_module_version": "1.5.0",
            "_model_name": "DescriptionStyleModel",
            "_view_count": null,
            "_view_module": "@jupyter-widgets/base",
            "_view_module_version": "1.2.0",
            "_view_name": "StyleView",
            "description_width": ""
          }
        },
        "886cd4fa9cdc4a6a842588d78d3afbde": {
          "model_module": "@jupyter-widgets/base",
          "model_name": "LayoutModel",
          "model_module_version": "1.2.0",
          "state": {
            "_model_module": "@jupyter-widgets/base",
            "_model_module_version": "1.2.0",
            "_model_name": "LayoutModel",
            "_view_count": null,
            "_view_module": "@jupyter-widgets/base",
            "_view_module_version": "1.2.0",
            "_view_name": "LayoutView",
            "align_content": null,
            "align_items": null,
            "align_self": null,
            "border": null,
            "bottom": null,
            "display": null,
            "flex": null,
            "flex_flow": null,
            "grid_area": null,
            "grid_auto_columns": null,
            "grid_auto_flow": null,
            "grid_auto_rows": null,
            "grid_column": null,
            "grid_gap": null,
            "grid_row": null,
            "grid_template_areas": null,
            "grid_template_columns": null,
            "grid_template_rows": null,
            "height": null,
            "justify_content": null,
            "justify_items": null,
            "left": null,
            "margin": null,
            "max_height": null,
            "max_width": null,
            "min_height": null,
            "min_width": null,
            "object_fit": null,
            "object_position": null,
            "order": null,
            "overflow": null,
            "overflow_x": null,
            "overflow_y": null,
            "padding": null,
            "right": null,
            "top": null,
            "visibility": null,
            "width": null
          }
        },
        "6350142e47214beb9bb3d0354a0cdf5b": {
          "model_module": "@jupyter-widgets/controls",
          "model_name": "ProgressStyleModel",
          "model_module_version": "1.5.0",
          "state": {
            "_model_module": "@jupyter-widgets/controls",
            "_model_module_version": "1.5.0",
            "_model_name": "ProgressStyleModel",
            "_view_count": null,
            "_view_module": "@jupyter-widgets/base",
            "_view_module_version": "1.2.0",
            "_view_name": "StyleView",
            "bar_color": null,
            "description_width": ""
          }
        },
        "385708a6ed7d4e3d99ce736d80125bde": {
          "model_module": "@jupyter-widgets/base",
          "model_name": "LayoutModel",
          "model_module_version": "1.2.0",
          "state": {
            "_model_module": "@jupyter-widgets/base",
            "_model_module_version": "1.2.0",
            "_model_name": "LayoutModel",
            "_view_count": null,
            "_view_module": "@jupyter-widgets/base",
            "_view_module_version": "1.2.0",
            "_view_name": "LayoutView",
            "align_content": null,
            "align_items": null,
            "align_self": null,
            "border": null,
            "bottom": null,
            "display": null,
            "flex": null,
            "flex_flow": null,
            "grid_area": null,
            "grid_auto_columns": null,
            "grid_auto_flow": null,
            "grid_auto_rows": null,
            "grid_column": null,
            "grid_gap": null,
            "grid_row": null,
            "grid_template_areas": null,
            "grid_template_columns": null,
            "grid_template_rows": null,
            "height": null,
            "justify_content": null,
            "justify_items": null,
            "left": null,
            "margin": null,
            "max_height": null,
            "max_width": null,
            "min_height": null,
            "min_width": null,
            "object_fit": null,
            "object_position": null,
            "order": null,
            "overflow": null,
            "overflow_x": null,
            "overflow_y": null,
            "padding": null,
            "right": null,
            "top": null,
            "visibility": null,
            "width": null
          }
        },
        "bc73aa138d004c179dec6cb561c7ccb0": {
          "model_module": "@jupyter-widgets/controls",
          "model_name": "DescriptionStyleModel",
          "model_module_version": "1.5.0",
          "state": {
            "_model_module": "@jupyter-widgets/controls",
            "_model_module_version": "1.5.0",
            "_model_name": "DescriptionStyleModel",
            "_view_count": null,
            "_view_module": "@jupyter-widgets/base",
            "_view_module_version": "1.2.0",
            "_view_name": "StyleView",
            "description_width": ""
          }
        },
        "646723d50578416185ee353813688292": {
          "model_module": "@jupyter-widgets/controls",
          "model_name": "HBoxModel",
          "model_module_version": "1.5.0",
          "state": {
            "_dom_classes": [],
            "_model_module": "@jupyter-widgets/controls",
            "_model_module_version": "1.5.0",
            "_model_name": "HBoxModel",
            "_view_count": null,
            "_view_module": "@jupyter-widgets/controls",
            "_view_module_version": "1.5.0",
            "_view_name": "HBoxView",
            "box_style": "",
            "children": [
              "IPY_MODEL_0905184122c3413099ca095523ee32bf",
              "IPY_MODEL_8e315ec7d471442d9b5b8385e6db831d",
              "IPY_MODEL_3419cd6b4cdb47d8acc68f0a4409f76a"
            ],
            "layout": "IPY_MODEL_aba8024d4b3e494cb4f2bfd539b22ca3"
          }
        },
        "0905184122c3413099ca095523ee32bf": {
          "model_module": "@jupyter-widgets/controls",
          "model_name": "HTMLModel",
          "model_module_version": "1.5.0",
          "state": {
            "_dom_classes": [],
            "_model_module": "@jupyter-widgets/controls",
            "_model_module_version": "1.5.0",
            "_model_name": "HTMLModel",
            "_view_count": null,
            "_view_module": "@jupyter-widgets/controls",
            "_view_module_version": "1.5.0",
            "_view_name": "HTMLView",
            "description": "",
            "description_tooltip": null,
            "layout": "IPY_MODEL_1859c879e4444009bafd04dc41a65f6e",
            "placeholder": "​",
            "style": "IPY_MODEL_8d5864e7c66b40b5a9d6d24c9d88cebf",
            "value": "Generating test split: 100%"
          }
        },
        "8e315ec7d471442d9b5b8385e6db831d": {
          "model_module": "@jupyter-widgets/controls",
          "model_name": "FloatProgressModel",
          "model_module_version": "1.5.0",
          "state": {
            "_dom_classes": [],
            "_model_module": "@jupyter-widgets/controls",
            "_model_module_version": "1.5.0",
            "_model_name": "FloatProgressModel",
            "_view_count": null,
            "_view_module": "@jupyter-widgets/controls",
            "_view_module_version": "1.5.0",
            "_view_name": "ProgressView",
            "bar_style": "success",
            "description": "",
            "description_tooltip": null,
            "layout": "IPY_MODEL_5ad42a797e5c4b16830c328ca553aaf5",
            "max": 2000,
            "min": 0,
            "orientation": "horizontal",
            "style": "IPY_MODEL_efd43533920b466991a139aeb15e0bbf",
            "value": 2000
          }
        },
        "3419cd6b4cdb47d8acc68f0a4409f76a": {
          "model_module": "@jupyter-widgets/controls",
          "model_name": "HTMLModel",
          "model_module_version": "1.5.0",
          "state": {
            "_dom_classes": [],
            "_model_module": "@jupyter-widgets/controls",
            "_model_module_version": "1.5.0",
            "_model_name": "HTMLModel",
            "_view_count": null,
            "_view_module": "@jupyter-widgets/controls",
            "_view_module_version": "1.5.0",
            "_view_name": "HTMLView",
            "description": "",
            "description_tooltip": null,
            "layout": "IPY_MODEL_836f146d364a46cf91746e8cf6b92fa8",
            "placeholder": "​",
            "style": "IPY_MODEL_6bc11e877b834cfaab77cee3b5aeb9d3",
            "value": " 2000/2000 [00:00&lt;00:00, 20660.99 examples/s]"
          }
        },
        "aba8024d4b3e494cb4f2bfd539b22ca3": {
          "model_module": "@jupyter-widgets/base",
          "model_name": "LayoutModel",
          "model_module_version": "1.2.0",
          "state": {
            "_model_module": "@jupyter-widgets/base",
            "_model_module_version": "1.2.0",
            "_model_name": "LayoutModel",
            "_view_count": null,
            "_view_module": "@jupyter-widgets/base",
            "_view_module_version": "1.2.0",
            "_view_name": "LayoutView",
            "align_content": null,
            "align_items": null,
            "align_self": null,
            "border": null,
            "bottom": null,
            "display": null,
            "flex": null,
            "flex_flow": null,
            "grid_area": null,
            "grid_auto_columns": null,
            "grid_auto_flow": null,
            "grid_auto_rows": null,
            "grid_column": null,
            "grid_gap": null,
            "grid_row": null,
            "grid_template_areas": null,
            "grid_template_columns": null,
            "grid_template_rows": null,
            "height": null,
            "justify_content": null,
            "justify_items": null,
            "left": null,
            "margin": null,
            "max_height": null,
            "max_width": null,
            "min_height": null,
            "min_width": null,
            "object_fit": null,
            "object_position": null,
            "order": null,
            "overflow": null,
            "overflow_x": null,
            "overflow_y": null,
            "padding": null,
            "right": null,
            "top": null,
            "visibility": null,
            "width": null
          }
        },
        "1859c879e4444009bafd04dc41a65f6e": {
          "model_module": "@jupyter-widgets/base",
          "model_name": "LayoutModel",
          "model_module_version": "1.2.0",
          "state": {
            "_model_module": "@jupyter-widgets/base",
            "_model_module_version": "1.2.0",
            "_model_name": "LayoutModel",
            "_view_count": null,
            "_view_module": "@jupyter-widgets/base",
            "_view_module_version": "1.2.0",
            "_view_name": "LayoutView",
            "align_content": null,
            "align_items": null,
            "align_self": null,
            "border": null,
            "bottom": null,
            "display": null,
            "flex": null,
            "flex_flow": null,
            "grid_area": null,
            "grid_auto_columns": null,
            "grid_auto_flow": null,
            "grid_auto_rows": null,
            "grid_column": null,
            "grid_gap": null,
            "grid_row": null,
            "grid_template_areas": null,
            "grid_template_columns": null,
            "grid_template_rows": null,
            "height": null,
            "justify_content": null,
            "justify_items": null,
            "left": null,
            "margin": null,
            "max_height": null,
            "max_width": null,
            "min_height": null,
            "min_width": null,
            "object_fit": null,
            "object_position": null,
            "order": null,
            "overflow": null,
            "overflow_x": null,
            "overflow_y": null,
            "padding": null,
            "right": null,
            "top": null,
            "visibility": null,
            "width": null
          }
        },
        "8d5864e7c66b40b5a9d6d24c9d88cebf": {
          "model_module": "@jupyter-widgets/controls",
          "model_name": "DescriptionStyleModel",
          "model_module_version": "1.5.0",
          "state": {
            "_model_module": "@jupyter-widgets/controls",
            "_model_module_version": "1.5.0",
            "_model_name": "DescriptionStyleModel",
            "_view_count": null,
            "_view_module": "@jupyter-widgets/base",
            "_view_module_version": "1.2.0",
            "_view_name": "StyleView",
            "description_width": ""
          }
        },
        "5ad42a797e5c4b16830c328ca553aaf5": {
          "model_module": "@jupyter-widgets/base",
          "model_name": "LayoutModel",
          "model_module_version": "1.2.0",
          "state": {
            "_model_module": "@jupyter-widgets/base",
            "_model_module_version": "1.2.0",
            "_model_name": "LayoutModel",
            "_view_count": null,
            "_view_module": "@jupyter-widgets/base",
            "_view_module_version": "1.2.0",
            "_view_name": "LayoutView",
            "align_content": null,
            "align_items": null,
            "align_self": null,
            "border": null,
            "bottom": null,
            "display": null,
            "flex": null,
            "flex_flow": null,
            "grid_area": null,
            "grid_auto_columns": null,
            "grid_auto_flow": null,
            "grid_auto_rows": null,
            "grid_column": null,
            "grid_gap": null,
            "grid_row": null,
            "grid_template_areas": null,
            "grid_template_columns": null,
            "grid_template_rows": null,
            "height": null,
            "justify_content": null,
            "justify_items": null,
            "left": null,
            "margin": null,
            "max_height": null,
            "max_width": null,
            "min_height": null,
            "min_width": null,
            "object_fit": null,
            "object_position": null,
            "order": null,
            "overflow": null,
            "overflow_x": null,
            "overflow_y": null,
            "padding": null,
            "right": null,
            "top": null,
            "visibility": null,
            "width": null
          }
        },
        "efd43533920b466991a139aeb15e0bbf": {
          "model_module": "@jupyter-widgets/controls",
          "model_name": "ProgressStyleModel",
          "model_module_version": "1.5.0",
          "state": {
            "_model_module": "@jupyter-widgets/controls",
            "_model_module_version": "1.5.0",
            "_model_name": "ProgressStyleModel",
            "_view_count": null,
            "_view_module": "@jupyter-widgets/base",
            "_view_module_version": "1.2.0",
            "_view_name": "StyleView",
            "bar_color": null,
            "description_width": ""
          }
        },
        "836f146d364a46cf91746e8cf6b92fa8": {
          "model_module": "@jupyter-widgets/base",
          "model_name": "LayoutModel",
          "model_module_version": "1.2.0",
          "state": {
            "_model_module": "@jupyter-widgets/base",
            "_model_module_version": "1.2.0",
            "_model_name": "LayoutModel",
            "_view_count": null,
            "_view_module": "@jupyter-widgets/base",
            "_view_module_version": "1.2.0",
            "_view_name": "LayoutView",
            "align_content": null,
            "align_items": null,
            "align_self": null,
            "border": null,
            "bottom": null,
            "display": null,
            "flex": null,
            "flex_flow": null,
            "grid_area": null,
            "grid_auto_columns": null,
            "grid_auto_flow": null,
            "grid_auto_rows": null,
            "grid_column": null,
            "grid_gap": null,
            "grid_row": null,
            "grid_template_areas": null,
            "grid_template_columns": null,
            "grid_template_rows": null,
            "height": null,
            "justify_content": null,
            "justify_items": null,
            "left": null,
            "margin": null,
            "max_height": null,
            "max_width": null,
            "min_height": null,
            "min_width": null,
            "object_fit": null,
            "object_position": null,
            "order": null,
            "overflow": null,
            "overflow_x": null,
            "overflow_y": null,
            "padding": null,
            "right": null,
            "top": null,
            "visibility": null,
            "width": null
          }
        },
        "6bc11e877b834cfaab77cee3b5aeb9d3": {
          "model_module": "@jupyter-widgets/controls",
          "model_name": "DescriptionStyleModel",
          "model_module_version": "1.5.0",
          "state": {
            "_model_module": "@jupyter-widgets/controls",
            "_model_module_version": "1.5.0",
            "_model_name": "DescriptionStyleModel",
            "_view_count": null,
            "_view_module": "@jupyter-widgets/base",
            "_view_module_version": "1.2.0",
            "_view_name": "StyleView",
            "description_width": ""
          }
        },
        "233722ff2b53416f85ddf974443f757f": {
          "model_module": "@jupyter-widgets/controls",
          "model_name": "HBoxModel",
          "model_module_version": "1.5.0",
          "state": {
            "_dom_classes": [],
            "_model_module": "@jupyter-widgets/controls",
            "_model_module_version": "1.5.0",
            "_model_name": "HBoxModel",
            "_view_count": null,
            "_view_module": "@jupyter-widgets/controls",
            "_view_module_version": "1.5.0",
            "_view_name": "HBoxView",
            "box_style": "",
            "children": [
              "IPY_MODEL_9aea66cdfbf244869333d2e744d67716",
              "IPY_MODEL_2c0a7fb549cb47b4a57fdc73ee65ad7c",
              "IPY_MODEL_1d6d7a0f8a2142049e6dfda1528941db"
            ],
            "layout": "IPY_MODEL_7991ff775b924489bef92e1b27d21568"
          }
        },
        "9aea66cdfbf244869333d2e744d67716": {
          "model_module": "@jupyter-widgets/controls",
          "model_name": "HTMLModel",
          "model_module_version": "1.5.0",
          "state": {
            "_dom_classes": [],
            "_model_module": "@jupyter-widgets/controls",
            "_model_module_version": "1.5.0",
            "_model_name": "HTMLModel",
            "_view_count": null,
            "_view_module": "@jupyter-widgets/controls",
            "_view_module_version": "1.5.0",
            "_view_name": "HTMLView",
            "description": "",
            "description_tooltip": null,
            "layout": "IPY_MODEL_840074d073d94cb3b2fd2b69af8064df",
            "placeholder": "​",
            "style": "IPY_MODEL_1da5226b53cd44a28774950187f58b9c",
            "value": "tokenizer_config.json: 100%"
          }
        },
        "2c0a7fb549cb47b4a57fdc73ee65ad7c": {
          "model_module": "@jupyter-widgets/controls",
          "model_name": "FloatProgressModel",
          "model_module_version": "1.5.0",
          "state": {
            "_dom_classes": [],
            "_model_module": "@jupyter-widgets/controls",
            "_model_module_version": "1.5.0",
            "_model_name": "FloatProgressModel",
            "_view_count": null,
            "_view_module": "@jupyter-widgets/controls",
            "_view_module_version": "1.5.0",
            "_view_name": "ProgressView",
            "bar_style": "success",
            "description": "",
            "description_tooltip": null,
            "layout": "IPY_MODEL_95e0de8a99484506994ef9c8b5ade4f8",
            "max": 28,
            "min": 0,
            "orientation": "horizontal",
            "style": "IPY_MODEL_154f8597f57a4e2289ae570e10d2d454",
            "value": 28
          }
        },
        "1d6d7a0f8a2142049e6dfda1528941db": {
          "model_module": "@jupyter-widgets/controls",
          "model_name": "HTMLModel",
          "model_module_version": "1.5.0",
          "state": {
            "_dom_classes": [],
            "_model_module": "@jupyter-widgets/controls",
            "_model_module_version": "1.5.0",
            "_model_name": "HTMLModel",
            "_view_count": null,
            "_view_module": "@jupyter-widgets/controls",
            "_view_module_version": "1.5.0",
            "_view_name": "HTMLView",
            "description": "",
            "description_tooltip": null,
            "layout": "IPY_MODEL_db7853bf68a04e669e420befc68942fb",
            "placeholder": "​",
            "style": "IPY_MODEL_ecec5a43320f4245959f24ca8e4df7ea",
            "value": " 28.0/28.0 [00:00&lt;00:00, 1.35kB/s]"
          }
        },
        "7991ff775b924489bef92e1b27d21568": {
          "model_module": "@jupyter-widgets/base",
          "model_name": "LayoutModel",
          "model_module_version": "1.2.0",
          "state": {
            "_model_module": "@jupyter-widgets/base",
            "_model_module_version": "1.2.0",
            "_model_name": "LayoutModel",
            "_view_count": null,
            "_view_module": "@jupyter-widgets/base",
            "_view_module_version": "1.2.0",
            "_view_name": "LayoutView",
            "align_content": null,
            "align_items": null,
            "align_self": null,
            "border": null,
            "bottom": null,
            "display": null,
            "flex": null,
            "flex_flow": null,
            "grid_area": null,
            "grid_auto_columns": null,
            "grid_auto_flow": null,
            "grid_auto_rows": null,
            "grid_column": null,
            "grid_gap": null,
            "grid_row": null,
            "grid_template_areas": null,
            "grid_template_columns": null,
            "grid_template_rows": null,
            "height": null,
            "justify_content": null,
            "justify_items": null,
            "left": null,
            "margin": null,
            "max_height": null,
            "max_width": null,
            "min_height": null,
            "min_width": null,
            "object_fit": null,
            "object_position": null,
            "order": null,
            "overflow": null,
            "overflow_x": null,
            "overflow_y": null,
            "padding": null,
            "right": null,
            "top": null,
            "visibility": null,
            "width": null
          }
        },
        "840074d073d94cb3b2fd2b69af8064df": {
          "model_module": "@jupyter-widgets/base",
          "model_name": "LayoutModel",
          "model_module_version": "1.2.0",
          "state": {
            "_model_module": "@jupyter-widgets/base",
            "_model_module_version": "1.2.0",
            "_model_name": "LayoutModel",
            "_view_count": null,
            "_view_module": "@jupyter-widgets/base",
            "_view_module_version": "1.2.0",
            "_view_name": "LayoutView",
            "align_content": null,
            "align_items": null,
            "align_self": null,
            "border": null,
            "bottom": null,
            "display": null,
            "flex": null,
            "flex_flow": null,
            "grid_area": null,
            "grid_auto_columns": null,
            "grid_auto_flow": null,
            "grid_auto_rows": null,
            "grid_column": null,
            "grid_gap": null,
            "grid_row": null,
            "grid_template_areas": null,
            "grid_template_columns": null,
            "grid_template_rows": null,
            "height": null,
            "justify_content": null,
            "justify_items": null,
            "left": null,
            "margin": null,
            "max_height": null,
            "max_width": null,
            "min_height": null,
            "min_width": null,
            "object_fit": null,
            "object_position": null,
            "order": null,
            "overflow": null,
            "overflow_x": null,
            "overflow_y": null,
            "padding": null,
            "right": null,
            "top": null,
            "visibility": null,
            "width": null
          }
        },
        "1da5226b53cd44a28774950187f58b9c": {
          "model_module": "@jupyter-widgets/controls",
          "model_name": "DescriptionStyleModel",
          "model_module_version": "1.5.0",
          "state": {
            "_model_module": "@jupyter-widgets/controls",
            "_model_module_version": "1.5.0",
            "_model_name": "DescriptionStyleModel",
            "_view_count": null,
            "_view_module": "@jupyter-widgets/base",
            "_view_module_version": "1.2.0",
            "_view_name": "StyleView",
            "description_width": ""
          }
        },
        "95e0de8a99484506994ef9c8b5ade4f8": {
          "model_module": "@jupyter-widgets/base",
          "model_name": "LayoutModel",
          "model_module_version": "1.2.0",
          "state": {
            "_model_module": "@jupyter-widgets/base",
            "_model_module_version": "1.2.0",
            "_model_name": "LayoutModel",
            "_view_count": null,
            "_view_module": "@jupyter-widgets/base",
            "_view_module_version": "1.2.0",
            "_view_name": "LayoutView",
            "align_content": null,
            "align_items": null,
            "align_self": null,
            "border": null,
            "bottom": null,
            "display": null,
            "flex": null,
            "flex_flow": null,
            "grid_area": null,
            "grid_auto_columns": null,
            "grid_auto_flow": null,
            "grid_auto_rows": null,
            "grid_column": null,
            "grid_gap": null,
            "grid_row": null,
            "grid_template_areas": null,
            "grid_template_columns": null,
            "grid_template_rows": null,
            "height": null,
            "justify_content": null,
            "justify_items": null,
            "left": null,
            "margin": null,
            "max_height": null,
            "max_width": null,
            "min_height": null,
            "min_width": null,
            "object_fit": null,
            "object_position": null,
            "order": null,
            "overflow": null,
            "overflow_x": null,
            "overflow_y": null,
            "padding": null,
            "right": null,
            "top": null,
            "visibility": null,
            "width": null
          }
        },
        "154f8597f57a4e2289ae570e10d2d454": {
          "model_module": "@jupyter-widgets/controls",
          "model_name": "ProgressStyleModel",
          "model_module_version": "1.5.0",
          "state": {
            "_model_module": "@jupyter-widgets/controls",
            "_model_module_version": "1.5.0",
            "_model_name": "ProgressStyleModel",
            "_view_count": null,
            "_view_module": "@jupyter-widgets/base",
            "_view_module_version": "1.2.0",
            "_view_name": "StyleView",
            "bar_color": null,
            "description_width": ""
          }
        },
        "db7853bf68a04e669e420befc68942fb": {
          "model_module": "@jupyter-widgets/base",
          "model_name": "LayoutModel",
          "model_module_version": "1.2.0",
          "state": {
            "_model_module": "@jupyter-widgets/base",
            "_model_module_version": "1.2.0",
            "_model_name": "LayoutModel",
            "_view_count": null,
            "_view_module": "@jupyter-widgets/base",
            "_view_module_version": "1.2.0",
            "_view_name": "LayoutView",
            "align_content": null,
            "align_items": null,
            "align_self": null,
            "border": null,
            "bottom": null,
            "display": null,
            "flex": null,
            "flex_flow": null,
            "grid_area": null,
            "grid_auto_columns": null,
            "grid_auto_flow": null,
            "grid_auto_rows": null,
            "grid_column": null,
            "grid_gap": null,
            "grid_row": null,
            "grid_template_areas": null,
            "grid_template_columns": null,
            "grid_template_rows": null,
            "height": null,
            "justify_content": null,
            "justify_items": null,
            "left": null,
            "margin": null,
            "max_height": null,
            "max_width": null,
            "min_height": null,
            "min_width": null,
            "object_fit": null,
            "object_position": null,
            "order": null,
            "overflow": null,
            "overflow_x": null,
            "overflow_y": null,
            "padding": null,
            "right": null,
            "top": null,
            "visibility": null,
            "width": null
          }
        },
        "ecec5a43320f4245959f24ca8e4df7ea": {
          "model_module": "@jupyter-widgets/controls",
          "model_name": "DescriptionStyleModel",
          "model_module_version": "1.5.0",
          "state": {
            "_model_module": "@jupyter-widgets/controls",
            "_model_module_version": "1.5.0",
            "_model_name": "DescriptionStyleModel",
            "_view_count": null,
            "_view_module": "@jupyter-widgets/base",
            "_view_module_version": "1.2.0",
            "_view_name": "StyleView",
            "description_width": ""
          }
        },
        "d91583b0de55402aaaa4de02bd5b78fe": {
          "model_module": "@jupyter-widgets/controls",
          "model_name": "HBoxModel",
          "model_module_version": "1.5.0",
          "state": {
            "_dom_classes": [],
            "_model_module": "@jupyter-widgets/controls",
            "_model_module_version": "1.5.0",
            "_model_name": "HBoxModel",
            "_view_count": null,
            "_view_module": "@jupyter-widgets/controls",
            "_view_module_version": "1.5.0",
            "_view_name": "HBoxView",
            "box_style": "",
            "children": [
              "IPY_MODEL_8e9e23a93f9a4eb6baba7842605fdf41",
              "IPY_MODEL_f944e15b18d0434a95d716af030cc4cf",
              "IPY_MODEL_8d8c16c97a2f43518faafb2394c6df0e"
            ],
            "layout": "IPY_MODEL_164be758f73b4f55822dd9dea7cbba14"
          }
        },
        "8e9e23a93f9a4eb6baba7842605fdf41": {
          "model_module": "@jupyter-widgets/controls",
          "model_name": "HTMLModel",
          "model_module_version": "1.5.0",
          "state": {
            "_dom_classes": [],
            "_model_module": "@jupyter-widgets/controls",
            "_model_module_version": "1.5.0",
            "_model_name": "HTMLModel",
            "_view_count": null,
            "_view_module": "@jupyter-widgets/controls",
            "_view_module_version": "1.5.0",
            "_view_name": "HTMLView",
            "description": "",
            "description_tooltip": null,
            "layout": "IPY_MODEL_9b58c80d0ad34cb9891504802e8924c9",
            "placeholder": "​",
            "style": "IPY_MODEL_818fead527614815816868215abe1572",
            "value": "config.json: 100%"
          }
        },
        "f944e15b18d0434a95d716af030cc4cf": {
          "model_module": "@jupyter-widgets/controls",
          "model_name": "FloatProgressModel",
          "model_module_version": "1.5.0",
          "state": {
            "_dom_classes": [],
            "_model_module": "@jupyter-widgets/controls",
            "_model_module_version": "1.5.0",
            "_model_name": "FloatProgressModel",
            "_view_count": null,
            "_view_module": "@jupyter-widgets/controls",
            "_view_module_version": "1.5.0",
            "_view_name": "ProgressView",
            "bar_style": "success",
            "description": "",
            "description_tooltip": null,
            "layout": "IPY_MODEL_7be127c9faea46fa94526268d6424b2d",
            "max": 483,
            "min": 0,
            "orientation": "horizontal",
            "style": "IPY_MODEL_1b0d29f5124843f39afd88387601aa19",
            "value": 483
          }
        },
        "8d8c16c97a2f43518faafb2394c6df0e": {
          "model_module": "@jupyter-widgets/controls",
          "model_name": "HTMLModel",
          "model_module_version": "1.5.0",
          "state": {
            "_dom_classes": [],
            "_model_module": "@jupyter-widgets/controls",
            "_model_module_version": "1.5.0",
            "_model_name": "HTMLModel",
            "_view_count": null,
            "_view_module": "@jupyter-widgets/controls",
            "_view_module_version": "1.5.0",
            "_view_name": "HTMLView",
            "description": "",
            "description_tooltip": null,
            "layout": "IPY_MODEL_1ae3fb3e1b4b4904ac75096838a53e65",
            "placeholder": "​",
            "style": "IPY_MODEL_87f3d6b759f441d495f618aa4e400162",
            "value": " 483/483 [00:00&lt;00:00, 25.4kB/s]"
          }
        },
        "164be758f73b4f55822dd9dea7cbba14": {
          "model_module": "@jupyter-widgets/base",
          "model_name": "LayoutModel",
          "model_module_version": "1.2.0",
          "state": {
            "_model_module": "@jupyter-widgets/base",
            "_model_module_version": "1.2.0",
            "_model_name": "LayoutModel",
            "_view_count": null,
            "_view_module": "@jupyter-widgets/base",
            "_view_module_version": "1.2.0",
            "_view_name": "LayoutView",
            "align_content": null,
            "align_items": null,
            "align_self": null,
            "border": null,
            "bottom": null,
            "display": null,
            "flex": null,
            "flex_flow": null,
            "grid_area": null,
            "grid_auto_columns": null,
            "grid_auto_flow": null,
            "grid_auto_rows": null,
            "grid_column": null,
            "grid_gap": null,
            "grid_row": null,
            "grid_template_areas": null,
            "grid_template_columns": null,
            "grid_template_rows": null,
            "height": null,
            "justify_content": null,
            "justify_items": null,
            "left": null,
            "margin": null,
            "max_height": null,
            "max_width": null,
            "min_height": null,
            "min_width": null,
            "object_fit": null,
            "object_position": null,
            "order": null,
            "overflow": null,
            "overflow_x": null,
            "overflow_y": null,
            "padding": null,
            "right": null,
            "top": null,
            "visibility": null,
            "width": null
          }
        },
        "9b58c80d0ad34cb9891504802e8924c9": {
          "model_module": "@jupyter-widgets/base",
          "model_name": "LayoutModel",
          "model_module_version": "1.2.0",
          "state": {
            "_model_module": "@jupyter-widgets/base",
            "_model_module_version": "1.2.0",
            "_model_name": "LayoutModel",
            "_view_count": null,
            "_view_module": "@jupyter-widgets/base",
            "_view_module_version": "1.2.0",
            "_view_name": "LayoutView",
            "align_content": null,
            "align_items": null,
            "align_self": null,
            "border": null,
            "bottom": null,
            "display": null,
            "flex": null,
            "flex_flow": null,
            "grid_area": null,
            "grid_auto_columns": null,
            "grid_auto_flow": null,
            "grid_auto_rows": null,
            "grid_column": null,
            "grid_gap": null,
            "grid_row": null,
            "grid_template_areas": null,
            "grid_template_columns": null,
            "grid_template_rows": null,
            "height": null,
            "justify_content": null,
            "justify_items": null,
            "left": null,
            "margin": null,
            "max_height": null,
            "max_width": null,
            "min_height": null,
            "min_width": null,
            "object_fit": null,
            "object_position": null,
            "order": null,
            "overflow": null,
            "overflow_x": null,
            "overflow_y": null,
            "padding": null,
            "right": null,
            "top": null,
            "visibility": null,
            "width": null
          }
        },
        "818fead527614815816868215abe1572": {
          "model_module": "@jupyter-widgets/controls",
          "model_name": "DescriptionStyleModel",
          "model_module_version": "1.5.0",
          "state": {
            "_model_module": "@jupyter-widgets/controls",
            "_model_module_version": "1.5.0",
            "_model_name": "DescriptionStyleModel",
            "_view_count": null,
            "_view_module": "@jupyter-widgets/base",
            "_view_module_version": "1.2.0",
            "_view_name": "StyleView",
            "description_width": ""
          }
        },
        "7be127c9faea46fa94526268d6424b2d": {
          "model_module": "@jupyter-widgets/base",
          "model_name": "LayoutModel",
          "model_module_version": "1.2.0",
          "state": {
            "_model_module": "@jupyter-widgets/base",
            "_model_module_version": "1.2.0",
            "_model_name": "LayoutModel",
            "_view_count": null,
            "_view_module": "@jupyter-widgets/base",
            "_view_module_version": "1.2.0",
            "_view_name": "LayoutView",
            "align_content": null,
            "align_items": null,
            "align_self": null,
            "border": null,
            "bottom": null,
            "display": null,
            "flex": null,
            "flex_flow": null,
            "grid_area": null,
            "grid_auto_columns": null,
            "grid_auto_flow": null,
            "grid_auto_rows": null,
            "grid_column": null,
            "grid_gap": null,
            "grid_row": null,
            "grid_template_areas": null,
            "grid_template_columns": null,
            "grid_template_rows": null,
            "height": null,
            "justify_content": null,
            "justify_items": null,
            "left": null,
            "margin": null,
            "max_height": null,
            "max_width": null,
            "min_height": null,
            "min_width": null,
            "object_fit": null,
            "object_position": null,
            "order": null,
            "overflow": null,
            "overflow_x": null,
            "overflow_y": null,
            "padding": null,
            "right": null,
            "top": null,
            "visibility": null,
            "width": null
          }
        },
        "1b0d29f5124843f39afd88387601aa19": {
          "model_module": "@jupyter-widgets/controls",
          "model_name": "ProgressStyleModel",
          "model_module_version": "1.5.0",
          "state": {
            "_model_module": "@jupyter-widgets/controls",
            "_model_module_version": "1.5.0",
            "_model_name": "ProgressStyleModel",
            "_view_count": null,
            "_view_module": "@jupyter-widgets/base",
            "_view_module_version": "1.2.0",
            "_view_name": "StyleView",
            "bar_color": null,
            "description_width": ""
          }
        },
        "1ae3fb3e1b4b4904ac75096838a53e65": {
          "model_module": "@jupyter-widgets/base",
          "model_name": "LayoutModel",
          "model_module_version": "1.2.0",
          "state": {
            "_model_module": "@jupyter-widgets/base",
            "_model_module_version": "1.2.0",
            "_model_name": "LayoutModel",
            "_view_count": null,
            "_view_module": "@jupyter-widgets/base",
            "_view_module_version": "1.2.0",
            "_view_name": "LayoutView",
            "align_content": null,
            "align_items": null,
            "align_self": null,
            "border": null,
            "bottom": null,
            "display": null,
            "flex": null,
            "flex_flow": null,
            "grid_area": null,
            "grid_auto_columns": null,
            "grid_auto_flow": null,
            "grid_auto_rows": null,
            "grid_column": null,
            "grid_gap": null,
            "grid_row": null,
            "grid_template_areas": null,
            "grid_template_columns": null,
            "grid_template_rows": null,
            "height": null,
            "justify_content": null,
            "justify_items": null,
            "left": null,
            "margin": null,
            "max_height": null,
            "max_width": null,
            "min_height": null,
            "min_width": null,
            "object_fit": null,
            "object_position": null,
            "order": null,
            "overflow": null,
            "overflow_x": null,
            "overflow_y": null,
            "padding": null,
            "right": null,
            "top": null,
            "visibility": null,
            "width": null
          }
        },
        "87f3d6b759f441d495f618aa4e400162": {
          "model_module": "@jupyter-widgets/controls",
          "model_name": "DescriptionStyleModel",
          "model_module_version": "1.5.0",
          "state": {
            "_model_module": "@jupyter-widgets/controls",
            "_model_module_version": "1.5.0",
            "_model_name": "DescriptionStyleModel",
            "_view_count": null,
            "_view_module": "@jupyter-widgets/base",
            "_view_module_version": "1.2.0",
            "_view_name": "StyleView",
            "description_width": ""
          }
        },
        "c30f030e5275446c980db3b04913f289": {
          "model_module": "@jupyter-widgets/controls",
          "model_name": "HBoxModel",
          "model_module_version": "1.5.0",
          "state": {
            "_dom_classes": [],
            "_model_module": "@jupyter-widgets/controls",
            "_model_module_version": "1.5.0",
            "_model_name": "HBoxModel",
            "_view_count": null,
            "_view_module": "@jupyter-widgets/controls",
            "_view_module_version": "1.5.0",
            "_view_name": "HBoxView",
            "box_style": "",
            "children": [
              "IPY_MODEL_330e5808bee5480692ac0a7aaff761ce",
              "IPY_MODEL_700a2639f073478f86fbaad446394653",
              "IPY_MODEL_71c5fa541fe04dda9ff7ccd5c6dde54f"
            ],
            "layout": "IPY_MODEL_566269e1d7e44684b59a4b59f35e147c"
          }
        },
        "330e5808bee5480692ac0a7aaff761ce": {
          "model_module": "@jupyter-widgets/controls",
          "model_name": "HTMLModel",
          "model_module_version": "1.5.0",
          "state": {
            "_dom_classes": [],
            "_model_module": "@jupyter-widgets/controls",
            "_model_module_version": "1.5.0",
            "_model_name": "HTMLModel",
            "_view_count": null,
            "_view_module": "@jupyter-widgets/controls",
            "_view_module_version": "1.5.0",
            "_view_name": "HTMLView",
            "description": "",
            "description_tooltip": null,
            "layout": "IPY_MODEL_fc994d5667ef4c6a9fa32101f5a3e77f",
            "placeholder": "​",
            "style": "IPY_MODEL_7dd7df9d8eb0478ca7f466d1454f32ec",
            "value": "vocab.txt: 100%"
          }
        },
        "700a2639f073478f86fbaad446394653": {
          "model_module": "@jupyter-widgets/controls",
          "model_name": "FloatProgressModel",
          "model_module_version": "1.5.0",
          "state": {
            "_dom_classes": [],
            "_model_module": "@jupyter-widgets/controls",
            "_model_module_version": "1.5.0",
            "_model_name": "FloatProgressModel",
            "_view_count": null,
            "_view_module": "@jupyter-widgets/controls",
            "_view_module_version": "1.5.0",
            "_view_name": "ProgressView",
            "bar_style": "success",
            "description": "",
            "description_tooltip": null,
            "layout": "IPY_MODEL_31ad65b05a754d7d9905b3ac020b07b4",
            "max": 231508,
            "min": 0,
            "orientation": "horizontal",
            "style": "IPY_MODEL_581e63593c8041b6bd049da8e26696d9",
            "value": 231508
          }
        },
        "71c5fa541fe04dda9ff7ccd5c6dde54f": {
          "model_module": "@jupyter-widgets/controls",
          "model_name": "HTMLModel",
          "model_module_version": "1.5.0",
          "state": {
            "_dom_classes": [],
            "_model_module": "@jupyter-widgets/controls",
            "_model_module_version": "1.5.0",
            "_model_name": "HTMLModel",
            "_view_count": null,
            "_view_module": "@jupyter-widgets/controls",
            "_view_module_version": "1.5.0",
            "_view_name": "HTMLView",
            "description": "",
            "description_tooltip": null,
            "layout": "IPY_MODEL_0567a60fff2544b595e202e161276eb3",
            "placeholder": "​",
            "style": "IPY_MODEL_6c5f47f33f1f45b6b64ec3ef3fdd4d66",
            "value": " 232k/232k [00:00&lt;00:00, 5.45MB/s]"
          }
        },
        "566269e1d7e44684b59a4b59f35e147c": {
          "model_module": "@jupyter-widgets/base",
          "model_name": "LayoutModel",
          "model_module_version": "1.2.0",
          "state": {
            "_model_module": "@jupyter-widgets/base",
            "_model_module_version": "1.2.0",
            "_model_name": "LayoutModel",
            "_view_count": null,
            "_view_module": "@jupyter-widgets/base",
            "_view_module_version": "1.2.0",
            "_view_name": "LayoutView",
            "align_content": null,
            "align_items": null,
            "align_self": null,
            "border": null,
            "bottom": null,
            "display": null,
            "flex": null,
            "flex_flow": null,
            "grid_area": null,
            "grid_auto_columns": null,
            "grid_auto_flow": null,
            "grid_auto_rows": null,
            "grid_column": null,
            "grid_gap": null,
            "grid_row": null,
            "grid_template_areas": null,
            "grid_template_columns": null,
            "grid_template_rows": null,
            "height": null,
            "justify_content": null,
            "justify_items": null,
            "left": null,
            "margin": null,
            "max_height": null,
            "max_width": null,
            "min_height": null,
            "min_width": null,
            "object_fit": null,
            "object_position": null,
            "order": null,
            "overflow": null,
            "overflow_x": null,
            "overflow_y": null,
            "padding": null,
            "right": null,
            "top": null,
            "visibility": null,
            "width": null
          }
        },
        "fc994d5667ef4c6a9fa32101f5a3e77f": {
          "model_module": "@jupyter-widgets/base",
          "model_name": "LayoutModel",
          "model_module_version": "1.2.0",
          "state": {
            "_model_module": "@jupyter-widgets/base",
            "_model_module_version": "1.2.0",
            "_model_name": "LayoutModel",
            "_view_count": null,
            "_view_module": "@jupyter-widgets/base",
            "_view_module_version": "1.2.0",
            "_view_name": "LayoutView",
            "align_content": null,
            "align_items": null,
            "align_self": null,
            "border": null,
            "bottom": null,
            "display": null,
            "flex": null,
            "flex_flow": null,
            "grid_area": null,
            "grid_auto_columns": null,
            "grid_auto_flow": null,
            "grid_auto_rows": null,
            "grid_column": null,
            "grid_gap": null,
            "grid_row": null,
            "grid_template_areas": null,
            "grid_template_columns": null,
            "grid_template_rows": null,
            "height": null,
            "justify_content": null,
            "justify_items": null,
            "left": null,
            "margin": null,
            "max_height": null,
            "max_width": null,
            "min_height": null,
            "min_width": null,
            "object_fit": null,
            "object_position": null,
            "order": null,
            "overflow": null,
            "overflow_x": null,
            "overflow_y": null,
            "padding": null,
            "right": null,
            "top": null,
            "visibility": null,
            "width": null
          }
        },
        "7dd7df9d8eb0478ca7f466d1454f32ec": {
          "model_module": "@jupyter-widgets/controls",
          "model_name": "DescriptionStyleModel",
          "model_module_version": "1.5.0",
          "state": {
            "_model_module": "@jupyter-widgets/controls",
            "_model_module_version": "1.5.0",
            "_model_name": "DescriptionStyleModel",
            "_view_count": null,
            "_view_module": "@jupyter-widgets/base",
            "_view_module_version": "1.2.0",
            "_view_name": "StyleView",
            "description_width": ""
          }
        },
        "31ad65b05a754d7d9905b3ac020b07b4": {
          "model_module": "@jupyter-widgets/base",
          "model_name": "LayoutModel",
          "model_module_version": "1.2.0",
          "state": {
            "_model_module": "@jupyter-widgets/base",
            "_model_module_version": "1.2.0",
            "_model_name": "LayoutModel",
            "_view_count": null,
            "_view_module": "@jupyter-widgets/base",
            "_view_module_version": "1.2.0",
            "_view_name": "LayoutView",
            "align_content": null,
            "align_items": null,
            "align_self": null,
            "border": null,
            "bottom": null,
            "display": null,
            "flex": null,
            "flex_flow": null,
            "grid_area": null,
            "grid_auto_columns": null,
            "grid_auto_flow": null,
            "grid_auto_rows": null,
            "grid_column": null,
            "grid_gap": null,
            "grid_row": null,
            "grid_template_areas": null,
            "grid_template_columns": null,
            "grid_template_rows": null,
            "height": null,
            "justify_content": null,
            "justify_items": null,
            "left": null,
            "margin": null,
            "max_height": null,
            "max_width": null,
            "min_height": null,
            "min_width": null,
            "object_fit": null,
            "object_position": null,
            "order": null,
            "overflow": null,
            "overflow_x": null,
            "overflow_y": null,
            "padding": null,
            "right": null,
            "top": null,
            "visibility": null,
            "width": null
          }
        },
        "581e63593c8041b6bd049da8e26696d9": {
          "model_module": "@jupyter-widgets/controls",
          "model_name": "ProgressStyleModel",
          "model_module_version": "1.5.0",
          "state": {
            "_model_module": "@jupyter-widgets/controls",
            "_model_module_version": "1.5.0",
            "_model_name": "ProgressStyleModel",
            "_view_count": null,
            "_view_module": "@jupyter-widgets/base",
            "_view_module_version": "1.2.0",
            "_view_name": "StyleView",
            "bar_color": null,
            "description_width": ""
          }
        },
        "0567a60fff2544b595e202e161276eb3": {
          "model_module": "@jupyter-widgets/base",
          "model_name": "LayoutModel",
          "model_module_version": "1.2.0",
          "state": {
            "_model_module": "@jupyter-widgets/base",
            "_model_module_version": "1.2.0",
            "_model_name": "LayoutModel",
            "_view_count": null,
            "_view_module": "@jupyter-widgets/base",
            "_view_module_version": "1.2.0",
            "_view_name": "LayoutView",
            "align_content": null,
            "align_items": null,
            "align_self": null,
            "border": null,
            "bottom": null,
            "display": null,
            "flex": null,
            "flex_flow": null,
            "grid_area": null,
            "grid_auto_columns": null,
            "grid_auto_flow": null,
            "grid_auto_rows": null,
            "grid_column": null,
            "grid_gap": null,
            "grid_row": null,
            "grid_template_areas": null,
            "grid_template_columns": null,
            "grid_template_rows": null,
            "height": null,
            "justify_content": null,
            "justify_items": null,
            "left": null,
            "margin": null,
            "max_height": null,
            "max_width": null,
            "min_height": null,
            "min_width": null,
            "object_fit": null,
            "object_position": null,
            "order": null,
            "overflow": null,
            "overflow_x": null,
            "overflow_y": null,
            "padding": null,
            "right": null,
            "top": null,
            "visibility": null,
            "width": null
          }
        },
        "6c5f47f33f1f45b6b64ec3ef3fdd4d66": {
          "model_module": "@jupyter-widgets/controls",
          "model_name": "DescriptionStyleModel",
          "model_module_version": "1.5.0",
          "state": {
            "_model_module": "@jupyter-widgets/controls",
            "_model_module_version": "1.5.0",
            "_model_name": "DescriptionStyleModel",
            "_view_count": null,
            "_view_module": "@jupyter-widgets/base",
            "_view_module_version": "1.2.0",
            "_view_name": "StyleView",
            "description_width": ""
          }
        },
        "007cd4d92a964710b9867ebcf5d2c4c5": {
          "model_module": "@jupyter-widgets/controls",
          "model_name": "HBoxModel",
          "model_module_version": "1.5.0",
          "state": {
            "_dom_classes": [],
            "_model_module": "@jupyter-widgets/controls",
            "_model_module_version": "1.5.0",
            "_model_name": "HBoxModel",
            "_view_count": null,
            "_view_module": "@jupyter-widgets/controls",
            "_view_module_version": "1.5.0",
            "_view_name": "HBoxView",
            "box_style": "",
            "children": [
              "IPY_MODEL_0774e36b87754f69a1d5a61f4d6dfa65",
              "IPY_MODEL_a5d6caecaf4a4efbbd7db089cbba5e83",
              "IPY_MODEL_2c623efd856549fbbccb9d8effc3be7b"
            ],
            "layout": "IPY_MODEL_a6c9ff97c71d466abfb75a7b3ebd0fbe"
          }
        },
        "0774e36b87754f69a1d5a61f4d6dfa65": {
          "model_module": "@jupyter-widgets/controls",
          "model_name": "HTMLModel",
          "model_module_version": "1.5.0",
          "state": {
            "_dom_classes": [],
            "_model_module": "@jupyter-widgets/controls",
            "_model_module_version": "1.5.0",
            "_model_name": "HTMLModel",
            "_view_count": null,
            "_view_module": "@jupyter-widgets/controls",
            "_view_module_version": "1.5.0",
            "_view_name": "HTMLView",
            "description": "",
            "description_tooltip": null,
            "layout": "IPY_MODEL_31cfe0e43d4242ad95227f5e2e9829e0",
            "placeholder": "​",
            "style": "IPY_MODEL_6038be1c85164ab59996651d897b43b2",
            "value": "tokenizer.json: 100%"
          }
        },
        "a5d6caecaf4a4efbbd7db089cbba5e83": {
          "model_module": "@jupyter-widgets/controls",
          "model_name": "FloatProgressModel",
          "model_module_version": "1.5.0",
          "state": {
            "_dom_classes": [],
            "_model_module": "@jupyter-widgets/controls",
            "_model_module_version": "1.5.0",
            "_model_name": "FloatProgressModel",
            "_view_count": null,
            "_view_module": "@jupyter-widgets/controls",
            "_view_module_version": "1.5.0",
            "_view_name": "ProgressView",
            "bar_style": "success",
            "description": "",
            "description_tooltip": null,
            "layout": "IPY_MODEL_a7185b0dd8354c02be752b9fdf6b027b",
            "max": 466062,
            "min": 0,
            "orientation": "horizontal",
            "style": "IPY_MODEL_3244d7a30bd04e068ea58d1a340f2411",
            "value": 466062
          }
        },
        "2c623efd856549fbbccb9d8effc3be7b": {
          "model_module": "@jupyter-widgets/controls",
          "model_name": "HTMLModel",
          "model_module_version": "1.5.0",
          "state": {
            "_dom_classes": [],
            "_model_module": "@jupyter-widgets/controls",
            "_model_module_version": "1.5.0",
            "_model_name": "HTMLModel",
            "_view_count": null,
            "_view_module": "@jupyter-widgets/controls",
            "_view_module_version": "1.5.0",
            "_view_name": "HTMLView",
            "description": "",
            "description_tooltip": null,
            "layout": "IPY_MODEL_0b566d97544e4b45ab0803c2f4803e33",
            "placeholder": "​",
            "style": "IPY_MODEL_a434b493bc764f6897f6a9bc890bd5b7",
            "value": " 466k/466k [00:00&lt;00:00, 23.5MB/s]"
          }
        },
        "a6c9ff97c71d466abfb75a7b3ebd0fbe": {
          "model_module": "@jupyter-widgets/base",
          "model_name": "LayoutModel",
          "model_module_version": "1.2.0",
          "state": {
            "_model_module": "@jupyter-widgets/base",
            "_model_module_version": "1.2.0",
            "_model_name": "LayoutModel",
            "_view_count": null,
            "_view_module": "@jupyter-widgets/base",
            "_view_module_version": "1.2.0",
            "_view_name": "LayoutView",
            "align_content": null,
            "align_items": null,
            "align_self": null,
            "border": null,
            "bottom": null,
            "display": null,
            "flex": null,
            "flex_flow": null,
            "grid_area": null,
            "grid_auto_columns": null,
            "grid_auto_flow": null,
            "grid_auto_rows": null,
            "grid_column": null,
            "grid_gap": null,
            "grid_row": null,
            "grid_template_areas": null,
            "grid_template_columns": null,
            "grid_template_rows": null,
            "height": null,
            "justify_content": null,
            "justify_items": null,
            "left": null,
            "margin": null,
            "max_height": null,
            "max_width": null,
            "min_height": null,
            "min_width": null,
            "object_fit": null,
            "object_position": null,
            "order": null,
            "overflow": null,
            "overflow_x": null,
            "overflow_y": null,
            "padding": null,
            "right": null,
            "top": null,
            "visibility": null,
            "width": null
          }
        },
        "31cfe0e43d4242ad95227f5e2e9829e0": {
          "model_module": "@jupyter-widgets/base",
          "model_name": "LayoutModel",
          "model_module_version": "1.2.0",
          "state": {
            "_model_module": "@jupyter-widgets/base",
            "_model_module_version": "1.2.0",
            "_model_name": "LayoutModel",
            "_view_count": null,
            "_view_module": "@jupyter-widgets/base",
            "_view_module_version": "1.2.0",
            "_view_name": "LayoutView",
            "align_content": null,
            "align_items": null,
            "align_self": null,
            "border": null,
            "bottom": null,
            "display": null,
            "flex": null,
            "flex_flow": null,
            "grid_area": null,
            "grid_auto_columns": null,
            "grid_auto_flow": null,
            "grid_auto_rows": null,
            "grid_column": null,
            "grid_gap": null,
            "grid_row": null,
            "grid_template_areas": null,
            "grid_template_columns": null,
            "grid_template_rows": null,
            "height": null,
            "justify_content": null,
            "justify_items": null,
            "left": null,
            "margin": null,
            "max_height": null,
            "max_width": null,
            "min_height": null,
            "min_width": null,
            "object_fit": null,
            "object_position": null,
            "order": null,
            "overflow": null,
            "overflow_x": null,
            "overflow_y": null,
            "padding": null,
            "right": null,
            "top": null,
            "visibility": null,
            "width": null
          }
        },
        "6038be1c85164ab59996651d897b43b2": {
          "model_module": "@jupyter-widgets/controls",
          "model_name": "DescriptionStyleModel",
          "model_module_version": "1.5.0",
          "state": {
            "_model_module": "@jupyter-widgets/controls",
            "_model_module_version": "1.5.0",
            "_model_name": "DescriptionStyleModel",
            "_view_count": null,
            "_view_module": "@jupyter-widgets/base",
            "_view_module_version": "1.2.0",
            "_view_name": "StyleView",
            "description_width": ""
          }
        },
        "a7185b0dd8354c02be752b9fdf6b027b": {
          "model_module": "@jupyter-widgets/base",
          "model_name": "LayoutModel",
          "model_module_version": "1.2.0",
          "state": {
            "_model_module": "@jupyter-widgets/base",
            "_model_module_version": "1.2.0",
            "_model_name": "LayoutModel",
            "_view_count": null,
            "_view_module": "@jupyter-widgets/base",
            "_view_module_version": "1.2.0",
            "_view_name": "LayoutView",
            "align_content": null,
            "align_items": null,
            "align_self": null,
            "border": null,
            "bottom": null,
            "display": null,
            "flex": null,
            "flex_flow": null,
            "grid_area": null,
            "grid_auto_columns": null,
            "grid_auto_flow": null,
            "grid_auto_rows": null,
            "grid_column": null,
            "grid_gap": null,
            "grid_row": null,
            "grid_template_areas": null,
            "grid_template_columns": null,
            "grid_template_rows": null,
            "height": null,
            "justify_content": null,
            "justify_items": null,
            "left": null,
            "margin": null,
            "max_height": null,
            "max_width": null,
            "min_height": null,
            "min_width": null,
            "object_fit": null,
            "object_position": null,
            "order": null,
            "overflow": null,
            "overflow_x": null,
            "overflow_y": null,
            "padding": null,
            "right": null,
            "top": null,
            "visibility": null,
            "width": null
          }
        },
        "3244d7a30bd04e068ea58d1a340f2411": {
          "model_module": "@jupyter-widgets/controls",
          "model_name": "ProgressStyleModel",
          "model_module_version": "1.5.0",
          "state": {
            "_model_module": "@jupyter-widgets/controls",
            "_model_module_version": "1.5.0",
            "_model_name": "ProgressStyleModel",
            "_view_count": null,
            "_view_module": "@jupyter-widgets/base",
            "_view_module_version": "1.2.0",
            "_view_name": "StyleView",
            "bar_color": null,
            "description_width": ""
          }
        },
        "0b566d97544e4b45ab0803c2f4803e33": {
          "model_module": "@jupyter-widgets/base",
          "model_name": "LayoutModel",
          "model_module_version": "1.2.0",
          "state": {
            "_model_module": "@jupyter-widgets/base",
            "_model_module_version": "1.2.0",
            "_model_name": "LayoutModel",
            "_view_count": null,
            "_view_module": "@jupyter-widgets/base",
            "_view_module_version": "1.2.0",
            "_view_name": "LayoutView",
            "align_content": null,
            "align_items": null,
            "align_self": null,
            "border": null,
            "bottom": null,
            "display": null,
            "flex": null,
            "flex_flow": null,
            "grid_area": null,
            "grid_auto_columns": null,
            "grid_auto_flow": null,
            "grid_auto_rows": null,
            "grid_column": null,
            "grid_gap": null,
            "grid_row": null,
            "grid_template_areas": null,
            "grid_template_columns": null,
            "grid_template_rows": null,
            "height": null,
            "justify_content": null,
            "justify_items": null,
            "left": null,
            "margin": null,
            "max_height": null,
            "max_width": null,
            "min_height": null,
            "min_width": null,
            "object_fit": null,
            "object_position": null,
            "order": null,
            "overflow": null,
            "overflow_x": null,
            "overflow_y": null,
            "padding": null,
            "right": null,
            "top": null,
            "visibility": null,
            "width": null
          }
        },
        "a434b493bc764f6897f6a9bc890bd5b7": {
          "model_module": "@jupyter-widgets/controls",
          "model_name": "DescriptionStyleModel",
          "model_module_version": "1.5.0",
          "state": {
            "_model_module": "@jupyter-widgets/controls",
            "_model_module_version": "1.5.0",
            "_model_name": "DescriptionStyleModel",
            "_view_count": null,
            "_view_module": "@jupyter-widgets/base",
            "_view_module_version": "1.2.0",
            "_view_name": "StyleView",
            "description_width": ""
          }
        }
      }
    }
  },
  "nbformat": 4,
  "nbformat_minor": 5
}